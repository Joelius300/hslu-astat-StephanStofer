{
 "cells": [
  {
   "cell_type": "markdown",
   "metadata": {},
   "source": [
    "# Serie 11\n",
    "## Aufgabe 11.1\n",
    "In dieser Aufgabe verwenden wir den Datensatz Auto, der in der Bibliothek `ISLR` enthalten ist."
   ]
  },
  {
   "cell_type": "code",
   "execution_count": 1,
   "metadata": {},
   "outputs": [],
   "source": [
    "# install.packages(\"ISLR\") # only once\n",
    "library(ISLR)"
   ]
  },
  {
   "cell_type": "markdown",
   "metadata": {},
   "source": [
    "a) Untersuchen Sie den Datensatz mit `head(Auto)` und `?Auto`."
   ]
  },
  {
   "cell_type": "code",
   "execution_count": 2,
   "metadata": {},
   "outputs": [
    {
     "data": {
      "text/html": [
       "<table>\n",
       "<caption>A data.frame: 6 × 9</caption>\n",
       "<thead>\n",
       "\t<tr><th></th><th scope=col>mpg</th><th scope=col>cylinders</th><th scope=col>displacement</th><th scope=col>horsepower</th><th scope=col>weight</th><th scope=col>acceleration</th><th scope=col>year</th><th scope=col>origin</th><th scope=col>name</th></tr>\n",
       "\t<tr><th></th><th scope=col>&lt;dbl&gt;</th><th scope=col>&lt;dbl&gt;</th><th scope=col>&lt;dbl&gt;</th><th scope=col>&lt;dbl&gt;</th><th scope=col>&lt;dbl&gt;</th><th scope=col>&lt;dbl&gt;</th><th scope=col>&lt;dbl&gt;</th><th scope=col>&lt;dbl&gt;</th><th scope=col>&lt;fct&gt;</th></tr>\n",
       "</thead>\n",
       "<tbody>\n",
       "\t<tr><th scope=row>1</th><td>18</td><td>8</td><td>307</td><td>130</td><td>3504</td><td>12.0</td><td>70</td><td>1</td><td>chevrolet chevelle malibu</td></tr>\n",
       "\t<tr><th scope=row>2</th><td>15</td><td>8</td><td>350</td><td>165</td><td>3693</td><td>11.5</td><td>70</td><td>1</td><td>buick skylark 320        </td></tr>\n",
       "\t<tr><th scope=row>3</th><td>18</td><td>8</td><td>318</td><td>150</td><td>3436</td><td>11.0</td><td>70</td><td>1</td><td>plymouth satellite       </td></tr>\n",
       "\t<tr><th scope=row>4</th><td>16</td><td>8</td><td>304</td><td>150</td><td>3433</td><td>12.0</td><td>70</td><td>1</td><td>amc rebel sst            </td></tr>\n",
       "\t<tr><th scope=row>5</th><td>17</td><td>8</td><td>302</td><td>140</td><td>3449</td><td>10.5</td><td>70</td><td>1</td><td>ford torino              </td></tr>\n",
       "\t<tr><th scope=row>6</th><td>15</td><td>8</td><td>429</td><td>198</td><td>4341</td><td>10.0</td><td>70</td><td>1</td><td>ford galaxie 500         </td></tr>\n",
       "</tbody>\n",
       "</table>\n"
      ],
      "text/latex": [
       "A data.frame: 6 × 9\n",
       "\\begin{tabular}{r|lllllllll}\n",
       "  & mpg & cylinders & displacement & horsepower & weight & acceleration & year & origin & name\\\\\n",
       "  & <dbl> & <dbl> & <dbl> & <dbl> & <dbl> & <dbl> & <dbl> & <dbl> & <fct>\\\\\n",
       "\\hline\n",
       "\t1 & 18 & 8 & 307 & 130 & 3504 & 12.0 & 70 & 1 & chevrolet chevelle malibu\\\\\n",
       "\t2 & 15 & 8 & 350 & 165 & 3693 & 11.5 & 70 & 1 & buick skylark 320        \\\\\n",
       "\t3 & 18 & 8 & 318 & 150 & 3436 & 11.0 & 70 & 1 & plymouth satellite       \\\\\n",
       "\t4 & 16 & 8 & 304 & 150 & 3433 & 12.0 & 70 & 1 & amc rebel sst            \\\\\n",
       "\t5 & 17 & 8 & 302 & 140 & 3449 & 10.5 & 70 & 1 & ford torino              \\\\\n",
       "\t6 & 15 & 8 & 429 & 198 & 4341 & 10.0 & 70 & 1 & ford galaxie 500         \\\\\n",
       "\\end{tabular}\n"
      ],
      "text/markdown": [
       "\n",
       "A data.frame: 6 × 9\n",
       "\n",
       "| <!--/--> | mpg &lt;dbl&gt; | cylinders &lt;dbl&gt; | displacement &lt;dbl&gt; | horsepower &lt;dbl&gt; | weight &lt;dbl&gt; | acceleration &lt;dbl&gt; | year &lt;dbl&gt; | origin &lt;dbl&gt; | name &lt;fct&gt; |\n",
       "|---|---|---|---|---|---|---|---|---|---|\n",
       "| 1 | 18 | 8 | 307 | 130 | 3504 | 12.0 | 70 | 1 | chevrolet chevelle malibu |\n",
       "| 2 | 15 | 8 | 350 | 165 | 3693 | 11.5 | 70 | 1 | buick skylark 320         |\n",
       "| 3 | 18 | 8 | 318 | 150 | 3436 | 11.0 | 70 | 1 | plymouth satellite        |\n",
       "| 4 | 16 | 8 | 304 | 150 | 3433 | 12.0 | 70 | 1 | amc rebel sst             |\n",
       "| 5 | 17 | 8 | 302 | 140 | 3449 | 10.5 | 70 | 1 | ford torino               |\n",
       "| 6 | 15 | 8 | 429 | 198 | 4341 | 10.0 | 70 | 1 | ford galaxie 500          |\n",
       "\n"
      ],
      "text/plain": [
       "  mpg cylinders displacement horsepower weight acceleration year origin\n",
       "1 18  8         307          130        3504   12.0         70   1     \n",
       "2 15  8         350          165        3693   11.5         70   1     \n",
       "3 18  8         318          150        3436   11.0         70   1     \n",
       "4 16  8         304          150        3433   12.0         70   1     \n",
       "5 17  8         302          140        3449   10.5         70   1     \n",
       "6 15  8         429          198        4341   10.0         70   1     \n",
       "  name                     \n",
       "1 chevrolet chevelle malibu\n",
       "2 buick skylark 320        \n",
       "3 plymouth satellite       \n",
       "4 amc rebel sst            \n",
       "5 ford torino              \n",
       "6 ford galaxie 500         "
      ]
     },
     "metadata": {},
     "output_type": "display_data"
    },
    {
     "data": {
      "text/html": [
       "\n",
       "<table width=\"100%\" summary=\"page for Auto {ISLR}\"><tr><td>Auto {ISLR}</td><td style=\"text-align: right;\">R Documentation</td></tr></table>\n",
       "\n",
       "<h2>\n",
       "Auto Data Set\n",
       "</h2>\n",
       "\n",
       "<h3>Description</h3>\n",
       "\n",
       "<p>Gas mileage, horsepower, and other information for 392 vehicles.</p>\n",
       "\n",
       "\n",
       "<h3>Usage</h3>\n",
       "\n",
       "<pre>Auto</pre>\n",
       "\n",
       "\n",
       "<h3>Format</h3>\n",
       "\n",
       "<p>A data frame with 392 observations on the following 9 variables.\n",
       "</p>\n",
       "\n",
       "<dl>\n",
       "<dt><code>mpg</code></dt><dd><p>miles per gallon</p>\n",
       "</dd>\n",
       "<dt><code>cylinders</code></dt><dd><p>Number of cylinders between 4 and 8</p>\n",
       "</dd>\n",
       "<dt><code>displacement</code></dt><dd><p>Engine displacement (cu. inches)</p>\n",
       "</dd>\n",
       "<dt><code>horsepower</code></dt><dd><p>Engine horsepower</p>\n",
       "</dd>\n",
       "<dt><code>weight</code></dt><dd><p>Vehicle weight (lbs.)</p>\n",
       "</dd>\n",
       "<dt><code>acceleration</code></dt><dd><p>Time to accelerate from 0 to 60 mph (sec.)</p>\n",
       "</dd>\n",
       "<dt><code>year</code></dt><dd><p>Model year (modulo 100)</p>\n",
       "</dd>\n",
       "<dt><code>origin</code></dt><dd><p>Origin of car (1. American, 2. European, 3. Japanese)</p>\n",
       "</dd>\n",
       "<dt><code>name</code></dt><dd><p>Vehicle name</p>\n",
       "</dd></dl>\n",
       "\n",
       "<p>The orginal data contained 408 observations but 16 observations with\n",
       "missing values were removed.</p>\n",
       "\n",
       "\n",
       "<h3>Source</h3>\n",
       "\n",
       "<p>This dataset was taken from the StatLib library which is maintained at Carnegie Mellon University. The dataset was used in the 1983 American Statistical Association Exposition.\n",
       "</p>\n",
       "\n",
       "\n",
       "<h3>References</h3>\n",
       "\n",
       "<p>James, G., Witten, D., Hastie, T., and Tibshirani, R. (2013)\n",
       "<em>An Introduction to Statistical Learning with applications in R</em>,\n",
       "<a href=\"www.StatLearning.com\">www.StatLearning.com</a>,\n",
       "Springer-Verlag, New York\n",
       "</p>\n",
       "\n",
       "\n",
       "<h3>Examples</h3>\n",
       "\n",
       "<pre>\n",
       "pairs(Auto)\n",
       "attach(Auto)\n",
       "hist(mpg)\n",
       "</pre>\n",
       "\n",
       "<hr /><div style=\"text-align: center;\">[Package <em>ISLR</em> version 1.2 ]</div>"
      ],
      "text/latex": [
       "\\inputencoding{utf8}\n",
       "\\HeaderA{Auto}{Auto Data Set}{Auto}\n",
       "\\keyword{datasets}{Auto}\n",
       "%\n",
       "\\begin{Description}\\relax\n",
       "Gas mileage, horsepower, and other information for 392 vehicles.\n",
       "\\end{Description}\n",
       "%\n",
       "\\begin{Usage}\n",
       "\\begin{verbatim}\n",
       "Auto\n",
       "\\end{verbatim}\n",
       "\\end{Usage}\n",
       "%\n",
       "\\begin{Format}\n",
       "A data frame with 392 observations on the following 9 variables.\n",
       "\\begin{description}\n",
       "\n",
       "\\item[\\code{mpg}] miles per gallon\n",
       "\\item[\\code{cylinders}] Number of cylinders between 4 and 8\n",
       "\\item[\\code{displacement}] Engine displacement (cu. inches)\n",
       "\\item[\\code{horsepower}] Engine horsepower\n",
       "\\item[\\code{weight}] Vehicle weight (lbs.)\n",
       "\\item[\\code{acceleration}] Time to accelerate from 0 to 60 mph (sec.)\n",
       "\\item[\\code{year}] Model year (modulo 100)\n",
       "\\item[\\code{origin}] Origin of car (1. American, 2. European, 3. Japanese)\n",
       "\\item[\\code{name}] Vehicle name\n",
       "\\end{description}\n",
       "\n",
       "\n",
       "The orginal data contained 408 observations but 16 observations with\n",
       "missing values were removed.\n",
       "\\end{Format}\n",
       "%\n",
       "\\begin{Source}\\relax\n",
       "This dataset was taken from the StatLib library which is maintained at Carnegie Mellon University. The dataset was used in the 1983 American Statistical Association Exposition.\n",
       "\\end{Source}\n",
       "%\n",
       "\\begin{References}\\relax\n",
       "James, G., Witten, D., Hastie, T., and Tibshirani, R. (2013)\n",
       "\\emph{An Introduction to Statistical Learning with applications in R},\n",
       "\\url{www.StatLearning.com},\n",
       "Springer-Verlag, New York\n",
       "\\end{References}\n",
       "%\n",
       "\\begin{Examples}\n",
       "\\begin{ExampleCode}\n",
       "pairs(Auto)\n",
       "attach(Auto)\n",
       "hist(mpg)\n",
       "\\end{ExampleCode}\n",
       "\\end{Examples}"
      ],
      "text/plain": [
       "Auto                   package:ISLR                    R Documentation\n",
       "\n",
       "_\bA_\bu_\bt_\bo _\bD_\ba_\bt_\ba _\bS_\be_\bt\n",
       "\n",
       "_\bD_\be_\bs_\bc_\br_\bi_\bp_\bt_\bi_\bo_\bn:\n",
       "\n",
       "     Gas mileage, horsepower, and other information for 392 vehicles.\n",
       "\n",
       "_\bU_\bs_\ba_\bg_\be:\n",
       "\n",
       "     Auto\n",
       "     \n",
       "_\bF_\bo_\br_\bm_\ba_\bt:\n",
       "\n",
       "     A data frame with 392 observations on the following 9 variables.\n",
       "\n",
       "     ‘mpg’ miles per gallon\n",
       "\n",
       "     ‘cylinders’ Number of cylinders between 4 and 8\n",
       "\n",
       "     ‘displacement’ Engine displacement (cu. inches)\n",
       "\n",
       "     ‘horsepower’ Engine horsepower\n",
       "\n",
       "     ‘weight’ Vehicle weight (lbs.)\n",
       "\n",
       "     ‘acceleration’ Time to accelerate from 0 to 60 mph (sec.)\n",
       "\n",
       "     ‘year’ Model year (modulo 100)\n",
       "\n",
       "     ‘origin’ Origin of car (1. American, 2. European, 3. Japanese)\n",
       "\n",
       "     ‘name’ Vehicle name\n",
       "\n",
       "     The orginal data contained 408 observations but 16 observations\n",
       "     with missing values were removed.\n",
       "\n",
       "_\bS_\bo_\bu_\br_\bc_\be:\n",
       "\n",
       "     This dataset was taken from the StatLib library which is\n",
       "     maintained at Carnegie Mellon University. The dataset was used in\n",
       "     the 1983 American Statistical Association Exposition.\n",
       "\n",
       "_\bR_\be_\bf_\be_\br_\be_\bn_\bc_\be_\bs:\n",
       "\n",
       "     James, G., Witten, D., Hastie, T., and Tibshirani, R. (2013) _An\n",
       "     Introduction to Statistical Learning with applications in R_,\n",
       "     <URL: www.StatLearning.com>, Springer-Verlag, New York\n",
       "\n",
       "_\bE_\bx_\ba_\bm_\bp_\bl_\be_\bs:\n",
       "\n",
       "     pairs(Auto)\n",
       "     attach(Auto)\n",
       "     hist(mpg)\n",
       "     "
      ]
     },
     "metadata": {},
     "output_type": "display_data"
    }
   ],
   "source": [
    "head(Auto)\n",
    "?Auto"
   ]
  },
  {
   "cell_type": "markdown",
   "metadata": {},
   "source": [
    "b) Stellen Sie das Modell für eine einfache lineare Regression mit mpg als Zielvariable und horsepower als Prädiktor auf."
   ]
  },
  {
   "cell_type": "markdown",
   "metadata": {},
   "source": [
    "\n",
    "$mpg \\approx \\beta_0 + \\beta_1 * horsepower$"
   ]
  },
  {
   "cell_type": "markdown",
   "metadata": {},
   "source": [
    "c) Verwenden Sie den `lm()`-Befehl um diese Regression durchzuführen."
   ]
  },
  {
   "cell_type": "code",
   "execution_count": 3,
   "metadata": {},
   "outputs": [
    {
     "data": {
      "text/plain": [
       "\n",
       "Call:\n",
       "lm(formula = Auto$mpg ~ Auto$horsepower)\n",
       "\n",
       "Coefficients:\n",
       "    (Intercept)  Auto$horsepower  \n",
       "        39.9359          -0.1578  \n"
      ]
     },
     "metadata": {},
     "output_type": "display_data"
    }
   ],
   "source": [
    "lmMH <- lm(Auto$mpg ~ Auto$horsepower)\n",
    "# alternative: lm(mpg ~ horsepower, data = Auto)\n",
    "lmMH"
   ]
  },
  {
   "cell_type": "code",
   "execution_count": 4,
   "metadata": {},
   "outputs": [
    {
     "data": {
      "text/plain": [
       "\n",
       "Call:\n",
       "lm(formula = Auto$mpg ~ Auto$horsepower)\n",
       "\n",
       "Residuals:\n",
       "     Min       1Q   Median       3Q      Max \n",
       "-13.5710  -3.2592  -0.3435   2.7630  16.9240 \n",
       "\n",
       "Coefficients:\n",
       "                 Estimate Std. Error t value Pr(>|t|)    \n",
       "(Intercept)     39.935861   0.717499   55.66   <2e-16 ***\n",
       "Auto$horsepower -0.157845   0.006446  -24.49   <2e-16 ***\n",
       "---\n",
       "Signif. codes:  0 ‘***’ 0.001 ‘**’ 0.01 ‘*’ 0.05 ‘.’ 0.1 ‘ ’ 1\n",
       "\n",
       "Residual standard error: 4.906 on 390 degrees of freedom\n",
       "Multiple R-squared:  0.6059,\tAdjusted R-squared:  0.6049 \n",
       "F-statistic: 599.7 on 1 and 390 DF,  p-value: < 2.2e-16\n"
      ]
     },
     "metadata": {},
     "output_type": "display_data"
    }
   ],
   "source": [
    "summary(lmMH)"
   ]
  },
  {
   "cell_type": "markdown",
   "metadata": {},
   "source": [
    "i) Gibt es einen Zusammenhang zwischen der Zielgrösse und dem Prädiktor?"
   ]
  },
  {
   "cell_type": "markdown",
   "metadata": {},
   "source": [
    "Ja der $p$-Wert ist fast 0 - die Nullhypthese ($\\beta_1=0$) wird verworfen; je mehr Pferdestärken ein Auto hat, umso weniger weit kann man fahren pro Gallone."
   ]
  },
  {
   "cell_type": "markdown",
   "metadata": {},
   "source": [
    "ii) Wie interpretieren Sie die Koeffizienten für `intercept` und `horsepower`? Ist der Zusammenhang positiv oder negativ?"
   ]
  },
  {
   "cell_type": "markdown",
   "metadata": {},
   "source": [
    "Der Intercept von 39.94 für 0PS ist natürlich hier unsinnig. Die Steigung ist negativ, weil die Reichweite durch die Zunahme der Pferdestärken abnimmt."
   ]
  },
  {
   "cell_type": "markdown",
   "metadata": {},
   "source": [
    "iii) Bestimmen Sie die Vertrauensintervalle (mit `confint()`) und interpretieren Sie diese?"
   ]
  },
  {
   "cell_type": "code",
   "execution_count": 5,
   "metadata": {},
   "outputs": [
    {
     "data": {
      "text/html": [
       "<table>\n",
       "<caption>A matrix: 2 × 2 of type dbl</caption>\n",
       "<thead>\n",
       "\t<tr><th></th><th scope=col>2.5 %</th><th scope=col>97.5 %</th></tr>\n",
       "</thead>\n",
       "<tbody>\n",
       "\t<tr><th scope=row>(Intercept)</th><td>38.525212</td><td>41.3465103</td></tr>\n",
       "\t<tr><th scope=row>Auto$horsepower</th><td>-0.170517</td><td>-0.1451725</td></tr>\n",
       "</tbody>\n",
       "</table>\n"
      ],
      "text/latex": [
       "A matrix: 2 × 2 of type dbl\n",
       "\\begin{tabular}{r|ll}\n",
       "  & 2.5 \\% & 97.5 \\%\\\\\n",
       "\\hline\n",
       "\t(Intercept) & 38.525212 & 41.3465103\\\\\n",
       "\tAuto\\$horsepower & -0.170517 & -0.1451725\\\\\n",
       "\\end{tabular}\n"
      ],
      "text/markdown": [
       "\n",
       "A matrix: 2 × 2 of type dbl\n",
       "\n",
       "| <!--/--> | 2.5 % | 97.5 % |\n",
       "|---|---|---|\n",
       "| (Intercept) | 38.525212 | 41.3465103 |\n",
       "| Auto$horsepower | -0.170517 | -0.1451725 |\n",
       "\n"
      ],
      "text/plain": [
       "                2.5 %     97.5 %    \n",
       "(Intercept)     38.525212 41.3465103\n",
       "Auto$horsepower -0.170517 -0.1451725"
      ]
     },
     "metadata": {},
     "output_type": "display_data"
    }
   ],
   "source": [
    "confint(lmMH, level=0.95)"
   ]
  },
  {
   "cell_type": "markdown",
   "metadata": {},
   "source": [
    "Für das 95%-Vertrauensintervall $\\beta_0$ gilt $[38.525,41.347]$ und $\\beta_1$ gilt $[-0.171,-0.145]$. Die Intervalle sind recht *schmal*, weshalb die Aussagekraft relativ gross ist."
   ]
  },
  {
   "cell_type": "markdown",
   "metadata": {},
   "source": [
    "iv) Interpretieren Sie den $R^2$-Wert."
   ]
  },
  {
   "cell_type": "code",
   "execution_count": 6,
   "metadata": {},
   "outputs": [
    {
     "data": {
      "text/html": [
       "0.605948257889435"
      ],
      "text/latex": [
       "0.605948257889435"
      ],
      "text/markdown": [
       "0.605948257889435"
      ],
      "text/plain": [
       "[1] 0.6059483"
      ]
     },
     "metadata": {},
     "output_type": "display_data"
    }
   ],
   "source": [
    "#names(summary(lmMH)) # names gibt output parameter zurück, welche via $ abgefragt werden können\n",
    "summary(lmMH)$r.squared"
   ]
  },
  {
   "cell_type": "markdown",
   "metadata": {},
   "source": [
    "Der $R^2$-Wert ist zwar näher bei 1 als bei 0, beschreibt das Modell aber nicht ganz zuverlässig. Er gibt an, dass die Variabilität zu 60% durch das Modell erklärt wird."
   ]
  },
  {
   "cell_type": "markdown",
   "metadata": {},
   "source": [
    "d) Plotten Sie die Zielvariable und den Prädiktor mit der Regressionsgeraden `(abline)`. Wie interpretieren Sie diesen Plot im Vergleich zum `summary()`-Output."
   ]
  },
  {
   "cell_type": "code",
   "execution_count": 7,
   "metadata": {},
   "outputs": [
    {
     "data": {
      "image/png": "[encoded data removed]",
      "text/plain": [
       "plot without title"
      ]
     },
     "metadata": {
      "image/png": {
       "height": 420,
       "width": 420
      }
     },
     "output_type": "display_data"
    }
   ],
   "source": [
    "plot(Auto$horsepower,Auto$mpg, col=\"blue\",pch=16)\n",
    "abline(lmMH,col=\"orange\",lwd=3)"
   ]
  },
  {
   "cell_type": "markdown",
   "metadata": {},
   "source": [
    "## Aufgabe 11.2\n",
    "Die `MASS`-Bibliothek enthält den `Boston`-Datensatz, der `medv` (median house value) für 506 Stadtviertel um Boston herum erfasst. Wir werden versuchen, `medv` mit 13 Prädiktoren wie **rm** (durchschnittliche Anzahl von Zimmern pro Haus), **age** (Durchschnittsalter der Häuser) und **lstat** (Prozent der Haushalte mit niedrigem sozioökonomischen Status) vorherzusagen."
   ]
  },
  {
   "cell_type": "markdown",
   "metadata": {},
   "source": [
    "a) Um mehr über den Datensatz zu erfahren, können wir `?Boston` oder `help` (Boston) eingeben. Laden Sie zuerst die `MASS`-Bibliothek."
   ]
  },
  {
   "cell_type": "code",
   "execution_count": 8,
   "metadata": {},
   "outputs": [
    {
     "data": {
      "text/html": [
       "\n",
       "<table width=\"100%\" summary=\"page for Boston {MASS}\"><tr><td>Boston {MASS}</td><td style=\"text-align: right;\">R Documentation</td></tr></table>\n",
       "\n",
       "<h2>\n",
       "Housing Values in Suburbs of Boston\n",
       "</h2>\n",
       "\n",
       "<h3>Description</h3>\n",
       "\n",
       "<p>The <code>Boston</code> data frame has 506 rows and 14 columns.\n",
       "</p>\n",
       "\n",
       "\n",
       "<h3>Usage</h3>\n",
       "\n",
       "<pre>\n",
       "Boston\n",
       "</pre>\n",
       "\n",
       "\n",
       "<h3>Format</h3>\n",
       "\n",
       "<p>This data frame contains the following columns:\n",
       "</p>\n",
       "\n",
       "<dl>\n",
       "<dt><code>crim</code></dt><dd>\n",
       "<p>per capita crime rate by town.\n",
       "</p>\n",
       "</dd>\n",
       "<dt><code>zn</code></dt><dd>\n",
       "<p>proportion of residential land zoned for lots over 25,000 sq.ft.\n",
       "</p>\n",
       "</dd>\n",
       "<dt><code>indus</code></dt><dd>\n",
       "<p>proportion of non-retail business acres per town.\n",
       "</p>\n",
       "</dd>\n",
       "<dt><code>chas</code></dt><dd>\n",
       "<p>Charles River dummy variable (= 1 if tract bounds river; 0 otherwise).\n",
       "</p>\n",
       "</dd>\n",
       "<dt><code>nox</code></dt><dd>\n",
       "<p>nitrogen oxides concentration (parts per 10 million).\n",
       "</p>\n",
       "</dd>\n",
       "<dt><code>rm</code></dt><dd>\n",
       "<p>average number of rooms per dwelling.\n",
       "</p>\n",
       "</dd>\n",
       "<dt><code>age</code></dt><dd>\n",
       "<p>proportion of owner-occupied units built prior to 1940.\n",
       "</p>\n",
       "</dd>\n",
       "<dt><code>dis</code></dt><dd>\n",
       "<p>weighted mean of distances to five Boston employment centres.\n",
       "</p>\n",
       "</dd>\n",
       "<dt><code>rad</code></dt><dd>\n",
       "<p>index of accessibility to radial highways.\n",
       "</p>\n",
       "</dd>\n",
       "<dt><code>tax</code></dt><dd>\n",
       "<p>full-value property-tax rate per \\$10,000.\n",
       "</p>\n",
       "</dd>\n",
       "<dt><code>ptratio</code></dt><dd>\n",
       "<p>pupil-teacher ratio by town.\n",
       "</p>\n",
       "</dd>\n",
       "<dt><code>black</code></dt><dd>\n",
       "<p><i>1000(Bk - 0.63)^2</i> where <i>Bk</i> is the proportion of blacks\n",
       "by town.\n",
       "</p>\n",
       "</dd>\n",
       "<dt><code>lstat</code></dt><dd>\n",
       "<p>lower status of the population (percent).\n",
       "</p>\n",
       "</dd>\n",
       "<dt><code>medv</code></dt><dd>\n",
       "<p>median value of owner-occupied homes in \\$1000s.\n",
       "</p>\n",
       "</dd>\n",
       "</dl>\n",
       "\n",
       "\n",
       "\n",
       "<h3>Source</h3>\n",
       "\n",
       "<p>Harrison, D. and Rubinfeld, D.L. (1978)\n",
       "Hedonic prices and the demand for clean air.\n",
       "<em>J. Environ. Economics and Management</em>\n",
       "<b>5</b>, 81&ndash;102.\n",
       "</p>\n",
       "<p>Belsley D.A., Kuh, E.  and Welsch, R.E. (1980)\n",
       "<em>Regression Diagnostics. Identifying Influential Data and Sources\n",
       "of Collinearity.</em>\n",
       "New York: Wiley.\n",
       "</p>\n",
       "\n",
       "<hr /><div style=\"text-align: center;\">[Package <em>MASS</em> version 7.3-51.6 ]</div>"
      ],
      "text/latex": [
       "\\inputencoding{utf8}\n",
       "\\HeaderA{Boston}{Housing Values in Suburbs of Boston}{Boston}\n",
       "\\keyword{datasets}{Boston}\n",
       "%\n",
       "\\begin{Description}\\relax\n",
       "The \\code{Boston} data frame has 506 rows and 14 columns.\n",
       "\\end{Description}\n",
       "%\n",
       "\\begin{Usage}\n",
       "\\begin{verbatim}\n",
       "Boston\n",
       "\\end{verbatim}\n",
       "\\end{Usage}\n",
       "%\n",
       "\\begin{Format}\n",
       "This data frame contains the following columns:\n",
       "\\begin{description}\n",
       "\n",
       "\\item[\\code{crim}] \n",
       "per capita crime rate by town.\n",
       "\n",
       "\\item[\\code{zn}] \n",
       "proportion of residential land zoned for lots over 25,000 sq.ft.\n",
       "\n",
       "\\item[\\code{indus}] \n",
       "proportion of non-retail business acres per town.\n",
       "\n",
       "\\item[\\code{chas}] \n",
       "Charles River dummy variable (= 1 if tract bounds river; 0 otherwise).\n",
       "\n",
       "\\item[\\code{nox}] \n",
       "nitrogen oxides concentration (parts per 10 million).\n",
       "\n",
       "\\item[\\code{rm}] \n",
       "average number of rooms per dwelling.\n",
       "\n",
       "\\item[\\code{age}] \n",
       "proportion of owner-occupied units built prior to 1940.\n",
       "\n",
       "\\item[\\code{dis}] \n",
       "weighted mean of distances to five Boston employment centres.\n",
       "\n",
       "\\item[\\code{rad}] \n",
       "index of accessibility to radial highways.\n",
       "\n",
       "\\item[\\code{tax}] \n",
       "full-value property-tax rate per \\bsl{}\\$10,000.\n",
       "\n",
       "\\item[\\code{ptratio}] \n",
       "pupil-teacher ratio by town.\n",
       "\n",
       "\\item[\\code{black}] \n",
       "\\eqn{1000(Bk - 0.63)^2}{} where \\eqn{Bk}{} is the proportion of blacks\n",
       "by town.\n",
       "\n",
       "\\item[\\code{lstat}] \n",
       "lower status of the population (percent).\n",
       "\n",
       "\\item[\\code{medv}] \n",
       "median value of owner-occupied homes in \\bsl{}\\$1000s.\n",
       "\n",
       "\n",
       "\\end{description}\n",
       "\n",
       "\\end{Format}\n",
       "%\n",
       "\\begin{Source}\\relax\n",
       "Harrison, D. and Rubinfeld, D.L. (1978)\n",
       "Hedonic prices and the demand for clean air.\n",
       "\\emph{J. Environ. Economics and Management}\n",
       "\\bold{5}, 81--102.\n",
       "\n",
       "Belsley D.A., Kuh, E.  and Welsch, R.E. (1980)\n",
       "\\emph{Regression Diagnostics. Identifying Influential Data and Sources\n",
       "of Collinearity.}\n",
       "New York: Wiley.\n",
       "\\end{Source}"
      ],
      "text/plain": [
       "Boston                  package:MASS                   R Documentation\n",
       "\n",
       "_\bH_\bo_\bu_\bs_\bi_\bn_\bg _\bV_\ba_\bl_\bu_\be_\bs _\bi_\bn _\bS_\bu_\bb_\bu_\br_\bb_\bs _\bo_\bf _\bB_\bo_\bs_\bt_\bo_\bn\n",
       "\n",
       "_\bD_\be_\bs_\bc_\br_\bi_\bp_\bt_\bi_\bo_\bn:\n",
       "\n",
       "     The ‘Boston’ data frame has 506 rows and 14 columns.\n",
       "\n",
       "_\bU_\bs_\ba_\bg_\be:\n",
       "\n",
       "     Boston\n",
       "     \n",
       "_\bF_\bo_\br_\bm_\ba_\bt:\n",
       "\n",
       "     This data frame contains the following columns:\n",
       "\n",
       "     ‘crim’ per capita crime rate by town.\n",
       "\n",
       "     ‘zn’ proportion of residential land zoned for lots over 25,000\n",
       "          sq.ft.\n",
       "\n",
       "     ‘indus’ proportion of non-retail business acres per town.\n",
       "\n",
       "     ‘chas’ Charles River dummy variable (= 1 if tract bounds river; 0\n",
       "          otherwise).\n",
       "\n",
       "     ‘nox’ nitrogen oxides concentration (parts per 10 million).\n",
       "\n",
       "     ‘rm’ average number of rooms per dwelling.\n",
       "\n",
       "     ‘age’ proportion of owner-occupied units built prior to 1940.\n",
       "\n",
       "     ‘dis’ weighted mean of distances to five Boston employment\n",
       "          centres.\n",
       "\n",
       "     ‘rad’ index of accessibility to radial highways.\n",
       "\n",
       "     ‘tax’ full-value property-tax rate per \\$10,000.\n",
       "\n",
       "     ‘ptratio’ pupil-teacher ratio by town.\n",
       "\n",
       "     ‘black’ 1000(Bk - 0.63)^2 where Bk is the proportion of blacks by\n",
       "          town.\n",
       "\n",
       "     ‘lstat’ lower status of the population (percent).\n",
       "\n",
       "     ‘medv’ median value of owner-occupied homes in \\$1000s.\n",
       "\n",
       "_\bS_\bo_\bu_\br_\bc_\be:\n",
       "\n",
       "     Harrison, D. and Rubinfeld, D.L. (1978) Hedonic prices and the\n",
       "     demand for clean air.  _J. Environ. Economics and Management_ *5*,\n",
       "     81-102.\n",
       "\n",
       "     Belsley D.A., Kuh, E.  and Welsch, R.E. (1980) _Regression\n",
       "     Diagnostics. Identifying Influential Data and Sources of\n",
       "     Collinearity._ New York: Wiley.\n"
      ]
     },
     "metadata": {},
     "output_type": "display_data"
    }
   ],
   "source": [
    "library(MASS)\n",
    "?Boston\n",
    "#help(Boston)"
   ]
  },
  {
   "cell_type": "markdown",
   "metadata": {},
   "source": [
    "b) Welche Spaltennamen sind verfügbar?"
   ]
  },
  {
   "cell_type": "code",
   "execution_count": 9,
   "metadata": {},
   "outputs": [
    {
     "data": {
      "text/html": [
       "<style>\n",
       ".list-inline {list-style: none; margin:0; padding: 0}\n",
       ".list-inline>li {display: inline-block}\n",
       ".list-inline>li:not(:last-child)::after {content: \"\\00b7\"; padding: 0 .5ex}\n",
       "</style>\n",
       "<ol class=list-inline><li>'crim'</li><li>'zn'</li><li>'indus'</li><li>'chas'</li><li>'nox'</li><li>'rm'</li><li>'age'</li><li>'dis'</li><li>'rad'</li><li>'tax'</li><li>'ptratio'</li><li>'black'</li><li>'lstat'</li><li>'medv'</li></ol>\n"
      ],
      "text/latex": [
       "\\begin{enumerate*}\n",
       "\\item 'crim'\n",
       "\\item 'zn'\n",
       "\\item 'indus'\n",
       "\\item 'chas'\n",
       "\\item 'nox'\n",
       "\\item 'rm'\n",
       "\\item 'age'\n",
       "\\item 'dis'\n",
       "\\item 'rad'\n",
       "\\item 'tax'\n",
       "\\item 'ptratio'\n",
       "\\item 'black'\n",
       "\\item 'lstat'\n",
       "\\item 'medv'\n",
       "\\end{enumerate*}\n"
      ],
      "text/markdown": [
       "1. 'crim'\n",
       "2. 'zn'\n",
       "3. 'indus'\n",
       "4. 'chas'\n",
       "5. 'nox'\n",
       "6. 'rm'\n",
       "7. 'age'\n",
       "8. 'dis'\n",
       "9. 'rad'\n",
       "10. 'tax'\n",
       "11. 'ptratio'\n",
       "12. 'black'\n",
       "13. 'lstat'\n",
       "14. 'medv'\n",
       "\n",
       "\n"
      ],
      "text/plain": [
       " [1] \"crim\"    \"zn\"      \"indus\"   \"chas\"    \"nox\"     \"rm\"      \"age\"    \n",
       " [8] \"dis\"     \"rad\"     \"tax\"     \"ptratio\" \"black\"   \"lstat\"   \"medv\"   "
      ]
     },
     "metadata": {},
     "output_type": "display_data"
    }
   ],
   "source": [
    "colnames(Boston)"
   ]
  },
  {
   "cell_type": "markdown",
   "metadata": {},
   "source": [
    "c) Mit dem `attach(...)`-Befehl können wir `R` die Spaltennamen des Datensatzes Boston erkennen lassen."
   ]
  },
  {
   "cell_type": "code",
   "execution_count": 10,
   "metadata": {},
   "outputs": [],
   "source": [
    "attach(Boston)"
   ]
  },
  {
   "cell_type": "markdown",
   "metadata": {},
   "source": [
    "d) Wir werden damit beginnen, die `lm()`-Funktion zu verwenden, um ein einfaches lineares Regressionsmodell mit **medv** als Antwort und **lstat** als Prädiktor anzupassen.\n",
    "\n",
    "i) Definieren Sie das einfache Regressionsmodell unter Verwendung der beiden obigen Variablen."
   ]
  },
  {
   "cell_type": "markdown",
   "metadata": {},
   "source": [
    "$medv = \\beta_0 + \\beta_1 * lstat$"
   ]
  },
  {
   "cell_type": "markdown",
   "metadata": {},
   "source": [
    "ii) Die grundlegende Syntax lautet `lm(y~x,data)` Dabei ist `y` die Antwort, `x` der Prädiktor und `Daten` der Datensatz, in dem diese beiden Variablen enthalten sind."
   ]
  },
  {
   "cell_type": "code",
   "execution_count": 11,
   "metadata": {},
   "outputs": [
    {
     "data": {
      "text/plain": [
       "\n",
       "Call:\n",
       "lm(formula = medv ~ lstat, data = Boston)\n",
       "\n",
       "Residuals:\n",
       "    Min      1Q  Median      3Q     Max \n",
       "-15.168  -3.990  -1.318   2.034  24.500 \n",
       "\n",
       "Coefficients:\n",
       "            Estimate Std. Error t value Pr(>|t|)    \n",
       "(Intercept) 34.55384    0.56263   61.41   <2e-16 ***\n",
       "lstat       -0.95005    0.03873  -24.53   <2e-16 ***\n",
       "---\n",
       "Signif. codes:  0 ‘***’ 0.001 ‘**’ 0.01 ‘*’ 0.05 ‘.’ 0.1 ‘ ’ 1\n",
       "\n",
       "Residual standard error: 6.216 on 504 degrees of freedom\n",
       "Multiple R-squared:  0.5441,\tAdjusted R-squared:  0.5432 \n",
       "F-statistic: 601.6 on 1 and 504 DF,  p-value: < 2.2e-16\n"
      ]
     },
     "metadata": {},
     "output_type": "display_data"
    }
   ],
   "source": [
    "lm.fit <- lm(medv ~lstat, Boston)\n",
    "summary(lm.fit)"
   ]
  },
  {
   "cell_type": "markdown",
   "metadata": {},
   "source": [
    "e) Wir können die Funktion `names(...)` verwenden, um herauszufinden, welche anderen Informationen in `lm.fit` gespeichert sind."
   ]
  },
  {
   "cell_type": "code",
   "execution_count": 12,
   "metadata": {},
   "outputs": [
    {
     "data": {
      "text/html": [
       "<style>\n",
       ".list-inline {list-style: none; margin:0; padding: 0}\n",
       ".list-inline>li {display: inline-block}\n",
       ".list-inline>li:not(:last-child)::after {content: \"\\00b7\"; padding: 0 .5ex}\n",
       "</style>\n",
       "<ol class=list-inline><li>'coefficients'</li><li>'residuals'</li><li>'effects'</li><li>'rank'</li><li>'fitted.values'</li><li>'assign'</li><li>'qr'</li><li>'df.residual'</li><li>'xlevels'</li><li>'call'</li><li>'terms'</li><li>'model'</li></ol>\n"
      ],
      "text/latex": [
       "\\begin{enumerate*}\n",
       "\\item 'coefficients'\n",
       "\\item 'residuals'\n",
       "\\item 'effects'\n",
       "\\item 'rank'\n",
       "\\item 'fitted.values'\n",
       "\\item 'assign'\n",
       "\\item 'qr'\n",
       "\\item 'df.residual'\n",
       "\\item 'xlevels'\n",
       "\\item 'call'\n",
       "\\item 'terms'\n",
       "\\item 'model'\n",
       "\\end{enumerate*}\n"
      ],
      "text/markdown": [
       "1. 'coefficients'\n",
       "2. 'residuals'\n",
       "3. 'effects'\n",
       "4. 'rank'\n",
       "5. 'fitted.values'\n",
       "6. 'assign'\n",
       "7. 'qr'\n",
       "8. 'df.residual'\n",
       "9. 'xlevels'\n",
       "10. 'call'\n",
       "11. 'terms'\n",
       "12. 'model'\n",
       "\n",
       "\n"
      ],
      "text/plain": [
       " [1] \"coefficients\"  \"residuals\"     \"effects\"       \"rank\"         \n",
       " [5] \"fitted.values\" \"assign\"        \"qr\"            \"df.residual\"  \n",
       " [9] \"xlevels\"       \"call\"          \"terms\"         \"model\"        "
      ]
     },
     "metadata": {},
     "output_type": "display_data"
    }
   ],
   "source": [
    "names(lm.fit)"
   ]
  },
  {
   "cell_type": "markdown",
   "metadata": {},
   "source": [
    "\n",
    "f) Obwohl wir diese Grössen über den Namen zugreifen können (beispielsweise `lm.fit$coefficients`), ist es sicherer, Funktionen wie `coef(...)` zu verwenden, um auf sie zuzugreifen.\n",
    "\n",
    "Interpretieren Sie diese Werte und die entsprechenden p–Werte in der obigen Zusammenfassung."
   ]
  },
  {
   "cell_type": "code",
   "execution_count": 13,
   "metadata": {},
   "outputs": [
    {
     "data": {
      "text/html": [
       "<style>\n",
       ".dl-inline {width: auto; margin:0; padding: 0}\n",
       ".dl-inline>dt, .dl-inline>dd {float: none; width: auto; display: inline-block}\n",
       ".dl-inline>dt::after {content: \":\\0020\"; padding-right: .5ex}\n",
       ".dl-inline>dt:not(:first-of-type) {padding-left: .5ex}\n",
       "</style><dl class=dl-inline><dt>(Intercept)</dt><dd>34.5538408793831</dd><dt>lstat</dt><dd>-0.95004935375799</dd></dl>\n"
      ],
      "text/latex": [
       "\\begin{description*}\n",
       "\\item[(Intercept)] 34.5538408793831\n",
       "\\item[lstat] -0.95004935375799\n",
       "\\end{description*}\n"
      ],
      "text/markdown": [
       "(Intercept)\n",
       ":   34.5538408793831lstat\n",
       ":   -0.95004935375799\n",
       "\n"
      ],
      "text/plain": [
       "(Intercept)       lstat \n",
       " 34.5538409  -0.9500494 "
      ]
     },
     "metadata": {},
     "output_type": "display_data"
    },
    {
     "data": {
      "text/html": [
       "<style>\n",
       ".dl-inline {width: auto; margin:0; padding: 0}\n",
       ".dl-inline>dt, .dl-inline>dd {float: none; width: auto; display: inline-block}\n",
       ".dl-inline>dt::after {content: \":\\0020\"; padding-right: .5ex}\n",
       ".dl-inline>dt:not(:first-of-type) {padding-left: .5ex}\n",
       "</style><dl class=dl-inline><dt>(Intercept)</dt><dd>34.5538408793831</dd><dt>lstat</dt><dd>-0.95004935375799</dd></dl>\n"
      ],
      "text/latex": [
       "\\begin{description*}\n",
       "\\item[(Intercept)] 34.5538408793831\n",
       "\\item[lstat] -0.95004935375799\n",
       "\\end{description*}\n"
      ],
      "text/markdown": [
       "(Intercept)\n",
       ":   34.5538408793831lstat\n",
       ":   -0.95004935375799\n",
       "\n"
      ],
      "text/plain": [
       "(Intercept)       lstat \n",
       " 34.5538409  -0.9500494 "
      ]
     },
     "metadata": {},
     "output_type": "display_data"
    }
   ],
   "source": [
    "lm.fit$coefficients\n",
    "coef(lm.fit)"
   ]
  },
  {
   "cell_type": "markdown",
   "metadata": {},
   "source": [
    "Der Print der Zusammenfassung liefert gerundete Werte zurück. Beim Aufruf der Coeffizienten Funktionen werden viel mehr Stellen zurückgegeben. Interpretation; Leben 0% der Menschen im unteren Status der Bevölkerung in der Nachbarschaft liegt der mittlere Hauswert bei $\\$34554$. Die Steigung beträgt $-0.95$, für jedes Prozent in der Bevölkerung sinkt der mittlere Hauswert."
   ]
  },
  {
   "cell_type": "markdown",
   "metadata": {},
   "source": [
    "g) Um ein Vertrauensintervall für die Koeffizientenschätzungen zu erhalten, können wir den Befehl `confint(...)` verwenden.  \n",
    "\n",
    "Geben Sie eine Interpretation dieser Werte an."
   ]
  },
  {
   "cell_type": "code",
   "execution_count": 14,
   "metadata": {},
   "outputs": [
    {
     "data": {
      "text/html": [
       "<table>\n",
       "<caption>A matrix: 2 × 2 of type dbl</caption>\n",
       "<thead>\n",
       "\t<tr><th></th><th scope=col>2.5 %</th><th scope=col>97.5 %</th></tr>\n",
       "</thead>\n",
       "<tbody>\n",
       "\t<tr><th scope=row>(Intercept)</th><td>33.448457</td><td>35.6592247</td></tr>\n",
       "\t<tr><th scope=row>lstat</th><td>-1.026148</td><td>-0.8739505</td></tr>\n",
       "</tbody>\n",
       "</table>\n"
      ],
      "text/latex": [
       "A matrix: 2 × 2 of type dbl\n",
       "\\begin{tabular}{r|ll}\n",
       "  & 2.5 \\% & 97.5 \\%\\\\\n",
       "\\hline\n",
       "\t(Intercept) & 33.448457 & 35.6592247\\\\\n",
       "\tlstat & -1.026148 & -0.8739505\\\\\n",
       "\\end{tabular}\n"
      ],
      "text/markdown": [
       "\n",
       "A matrix: 2 × 2 of type dbl\n",
       "\n",
       "| <!--/--> | 2.5 % | 97.5 % |\n",
       "|---|---|---|\n",
       "| (Intercept) | 33.448457 | 35.6592247 |\n",
       "| lstat | -1.026148 | -0.8739505 |\n",
       "\n"
      ],
      "text/plain": [
       "            2.5 %     97.5 %    \n",
       "(Intercept) 33.448457 35.6592247\n",
       "lstat       -1.026148 -0.8739505"
      ]
     },
     "metadata": {},
     "output_type": "display_data"
    }
   ],
   "source": [
    "confint(lm.fit)"
   ]
  },
  {
   "cell_type": "markdown",
   "metadata": {},
   "source": [
    "Mit 95% Wahrscheinlichkeit liegt das wahre $\\beta_0$ liegt zwischen $[33.45,35.66]$ und $\\beta_1$ liegt zwischen $[-1.03,-0.87]$. "
   ]
  },
  {
   "cell_type": "markdown",
   "metadata": {},
   "source": [
    "h) Wir werden nun **medv** und **lstat** zusammen mit der Regression der kleinsten Quadrate auftragen Zeile mit den Funktionen `plot(...)` und `abline()`.\n",
    "\n",
    "Verwenden Sie `lty = ...`, `pch = ...` und `col = ...`, um Graphik schöner aussehen zu lassen."
   ]
  },
  {
   "cell_type": "code",
   "execution_count": 15,
   "metadata": {},
   "outputs": [
    {
     "data": {
      "image/png": "[encoded data removed]",
      "text/plain": [
       "plot without title"
      ]
     },
     "metadata": {
      "image/png": {
       "height": 420,
       "width": 420
      }
     },
     "output_type": "display_data"
    }
   ],
   "source": [
    "plot(Boston$medv, Boston$lstat,lty=\"solid\",pch=16,col=\"blue\")\n",
    "abline(lm.fit,lwd=3,col=\"orange\")"
   ]
  },
  {
   "cell_type": "markdown",
   "metadata": {},
   "source": [
    "i) Interpretieren Sie den Wert $R^2$ in der `summary`–Ausgabe oben."
   ]
  },
  {
   "cell_type": "code",
   "execution_count": 16,
   "metadata": {},
   "outputs": [
    {
     "data": {
      "text/html": [
       "0.54414629758648"
      ],
      "text/latex": [
       "0.54414629758648"
      ],
      "text/markdown": [
       "0.54414629758648"
      ],
      "text/plain": [
       "[1] 0.5441463"
      ]
     },
     "metadata": {},
     "output_type": "display_data"
    }
   ],
   "source": [
    "summary(lm.fit)$r.squared"
   ]
  },
  {
   "cell_type": "markdown",
   "metadata": {},
   "source": [
    "Die Variabilität wird zu 55% durch das Modell erklärt."
   ]
  },
  {
   "cell_type": "code",
   "execution_count": null,
   "metadata": {},
   "outputs": [],
   "source": []
  }
 ],
 "metadata": {
  "kernelspec": {
   "display_name": "R",
   "language": "R",
   "name": "ir"
  },
  "language_info": {
   "codemirror_mode": "r",
   "file_extension": ".r",
   "mimetype": "text/x-r-source",
   "name": "R",
   "pygments_lexer": "r",
   "version": "4.0.2"
  }
 },
 "nbformat": 4,
 "nbformat_minor": 4
}

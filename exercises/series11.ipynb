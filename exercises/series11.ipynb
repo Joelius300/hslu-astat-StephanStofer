{
 "cells": [
  {
   "cell_type": "markdown",
   "metadata": {},
   "source": [
    "# Serie 11\n",
    "## Aufgabe 11.1\n",
    "In dieser Aufgabe verwenden wir den Datensatz Auto, der in der Bibliothek `ISLR` enthalten ist."
   ]
  },
  {
   "cell_type": "code",
   "execution_count": 3,
   "metadata": {},
   "outputs": [],
   "source": [
    "# install.packages(\"ISLR\") # only once\n",
    "library(ISLR)"
   ]
  },
  {
   "cell_type": "markdown",
   "metadata": {},
   "source": [
    "a) Untersuchen Sie den Datensatz mit `head(Auto)` und `?Auto`."
   ]
  },
  {
   "cell_type": "code",
   "execution_count": 4,
   "metadata": {},
   "outputs": [
    {
     "data": {
      "text/html": [
       "<table>\n",
       "<caption>A data.frame: 6 × 9</caption>\n",
       "<thead>\n",
       "\t<tr><th></th><th scope=col>mpg</th><th scope=col>cylinders</th><th scope=col>displacement</th><th scope=col>horsepower</th><th scope=col>weight</th><th scope=col>acceleration</th><th scope=col>year</th><th scope=col>origin</th><th scope=col>name</th></tr>\n",
       "\t<tr><th></th><th scope=col>&lt;dbl&gt;</th><th scope=col>&lt;dbl&gt;</th><th scope=col>&lt;dbl&gt;</th><th scope=col>&lt;dbl&gt;</th><th scope=col>&lt;dbl&gt;</th><th scope=col>&lt;dbl&gt;</th><th scope=col>&lt;dbl&gt;</th><th scope=col>&lt;dbl&gt;</th><th scope=col>&lt;fct&gt;</th></tr>\n",
       "</thead>\n",
       "<tbody>\n",
       "\t<tr><th scope=row>1</th><td>18</td><td>8</td><td>307</td><td>130</td><td>3504</td><td>12.0</td><td>70</td><td>1</td><td>chevrolet chevelle malibu</td></tr>\n",
       "\t<tr><th scope=row>2</th><td>15</td><td>8</td><td>350</td><td>165</td><td>3693</td><td>11.5</td><td>70</td><td>1</td><td>buick skylark 320        </td></tr>\n",
       "\t<tr><th scope=row>3</th><td>18</td><td>8</td><td>318</td><td>150</td><td>3436</td><td>11.0</td><td>70</td><td>1</td><td>plymouth satellite       </td></tr>\n",
       "\t<tr><th scope=row>4</th><td>16</td><td>8</td><td>304</td><td>150</td><td>3433</td><td>12.0</td><td>70</td><td>1</td><td>amc rebel sst            </td></tr>\n",
       "\t<tr><th scope=row>5</th><td>17</td><td>8</td><td>302</td><td>140</td><td>3449</td><td>10.5</td><td>70</td><td>1</td><td>ford torino              </td></tr>\n",
       "\t<tr><th scope=row>6</th><td>15</td><td>8</td><td>429</td><td>198</td><td>4341</td><td>10.0</td><td>70</td><td>1</td><td>ford galaxie 500         </td></tr>\n",
       "</tbody>\n",
       "</table>\n"
      ],
      "text/latex": [
       "A data.frame: 6 × 9\n",
       "\\begin{tabular}{r|lllllllll}\n",
       "  & mpg & cylinders & displacement & horsepower & weight & acceleration & year & origin & name\\\\\n",
       "  & <dbl> & <dbl> & <dbl> & <dbl> & <dbl> & <dbl> & <dbl> & <dbl> & <fct>\\\\\n",
       "\\hline\n",
       "\t1 & 18 & 8 & 307 & 130 & 3504 & 12.0 & 70 & 1 & chevrolet chevelle malibu\\\\\n",
       "\t2 & 15 & 8 & 350 & 165 & 3693 & 11.5 & 70 & 1 & buick skylark 320        \\\\\n",
       "\t3 & 18 & 8 & 318 & 150 & 3436 & 11.0 & 70 & 1 & plymouth satellite       \\\\\n",
       "\t4 & 16 & 8 & 304 & 150 & 3433 & 12.0 & 70 & 1 & amc rebel sst            \\\\\n",
       "\t5 & 17 & 8 & 302 & 140 & 3449 & 10.5 & 70 & 1 & ford torino              \\\\\n",
       "\t6 & 15 & 8 & 429 & 198 & 4341 & 10.0 & 70 & 1 & ford galaxie 500         \\\\\n",
       "\\end{tabular}\n"
      ],
      "text/markdown": [
       "\n",
       "A data.frame: 6 × 9\n",
       "\n",
       "| <!--/--> | mpg &lt;dbl&gt; | cylinders &lt;dbl&gt; | displacement &lt;dbl&gt; | horsepower &lt;dbl&gt; | weight &lt;dbl&gt; | acceleration &lt;dbl&gt; | year &lt;dbl&gt; | origin &lt;dbl&gt; | name &lt;fct&gt; |\n",
       "|---|---|---|---|---|---|---|---|---|---|\n",
       "| 1 | 18 | 8 | 307 | 130 | 3504 | 12.0 | 70 | 1 | chevrolet chevelle malibu |\n",
       "| 2 | 15 | 8 | 350 | 165 | 3693 | 11.5 | 70 | 1 | buick skylark 320         |\n",
       "| 3 | 18 | 8 | 318 | 150 | 3436 | 11.0 | 70 | 1 | plymouth satellite        |\n",
       "| 4 | 16 | 8 | 304 | 150 | 3433 | 12.0 | 70 | 1 | amc rebel sst             |\n",
       "| 5 | 17 | 8 | 302 | 140 | 3449 | 10.5 | 70 | 1 | ford torino               |\n",
       "| 6 | 15 | 8 | 429 | 198 | 4341 | 10.0 | 70 | 1 | ford galaxie 500          |\n",
       "\n"
      ],
      "text/plain": [
       "  mpg cylinders displacement horsepower weight acceleration year origin\n",
       "1 18  8         307          130        3504   12.0         70   1     \n",
       "2 15  8         350          165        3693   11.5         70   1     \n",
       "3 18  8         318          150        3436   11.0         70   1     \n",
       "4 16  8         304          150        3433   12.0         70   1     \n",
       "5 17  8         302          140        3449   10.5         70   1     \n",
       "6 15  8         429          198        4341   10.0         70   1     \n",
       "  name                     \n",
       "1 chevrolet chevelle malibu\n",
       "2 buick skylark 320        \n",
       "3 plymouth satellite       \n",
       "4 amc rebel sst            \n",
       "5 ford torino              \n",
       "6 ford galaxie 500         "
      ]
     },
     "metadata": {},
     "output_type": "display_data"
    },
    {
     "data": {
      "text/html": [
       "\n",
       "<table width=\"100%\" summary=\"page for Auto {ISLR}\"><tr><td>Auto {ISLR}</td><td style=\"text-align: right;\">R Documentation</td></tr></table>\n",
       "\n",
       "<h2>\n",
       "Auto Data Set\n",
       "</h2>\n",
       "\n",
       "<h3>Description</h3>\n",
       "\n",
       "<p>Gas mileage, horsepower, and other information for 392 vehicles.</p>\n",
       "\n",
       "\n",
       "<h3>Usage</h3>\n",
       "\n",
       "<pre>Auto</pre>\n",
       "\n",
       "\n",
       "<h3>Format</h3>\n",
       "\n",
       "<p>A data frame with 392 observations on the following 9 variables.\n",
       "</p>\n",
       "\n",
       "<dl>\n",
       "<dt><code>mpg</code></dt><dd><p>miles per gallon</p>\n",
       "</dd>\n",
       "<dt><code>cylinders</code></dt><dd><p>Number of cylinders between 4 and 8</p>\n",
       "</dd>\n",
       "<dt><code>displacement</code></dt><dd><p>Engine displacement (cu. inches)</p>\n",
       "</dd>\n",
       "<dt><code>horsepower</code></dt><dd><p>Engine horsepower</p>\n",
       "</dd>\n",
       "<dt><code>weight</code></dt><dd><p>Vehicle weight (lbs.)</p>\n",
       "</dd>\n",
       "<dt><code>acceleration</code></dt><dd><p>Time to accelerate from 0 to 60 mph (sec.)</p>\n",
       "</dd>\n",
       "<dt><code>year</code></dt><dd><p>Model year (modulo 100)</p>\n",
       "</dd>\n",
       "<dt><code>origin</code></dt><dd><p>Origin of car (1. American, 2. European, 3. Japanese)</p>\n",
       "</dd>\n",
       "<dt><code>name</code></dt><dd><p>Vehicle name</p>\n",
       "</dd></dl>\n",
       "\n",
       "<p>The orginal data contained 408 observations but 16 observations with\n",
       "missing values were removed.</p>\n",
       "\n",
       "\n",
       "<h3>Source</h3>\n",
       "\n",
       "<p>This dataset was taken from the StatLib library which is maintained at Carnegie Mellon University. The dataset was used in the 1983 American Statistical Association Exposition.\n",
       "</p>\n",
       "\n",
       "\n",
       "<h3>References</h3>\n",
       "\n",
       "<p>James, G., Witten, D., Hastie, T., and Tibshirani, R. (2013)\n",
       "<em>An Introduction to Statistical Learning with applications in R</em>,\n",
       "<a href=\"www.StatLearning.com\">www.StatLearning.com</a>,\n",
       "Springer-Verlag, New York\n",
       "</p>\n",
       "\n",
       "\n",
       "<h3>Examples</h3>\n",
       "\n",
       "<pre>\n",
       "pairs(Auto)\n",
       "attach(Auto)\n",
       "hist(mpg)\n",
       "</pre>\n",
       "\n",
       "<hr /><div style=\"text-align: center;\">[Package <em>ISLR</em> version 1.2 ]</div>"
      ],
      "text/latex": [
       "\\inputencoding{utf8}\n",
       "\\HeaderA{Auto}{Auto Data Set}{Auto}\n",
       "\\keyword{datasets}{Auto}\n",
       "%\n",
       "\\begin{Description}\\relax\n",
       "Gas mileage, horsepower, and other information for 392 vehicles.\n",
       "\\end{Description}\n",
       "%\n",
       "\\begin{Usage}\n",
       "\\begin{verbatim}\n",
       "Auto\n",
       "\\end{verbatim}\n",
       "\\end{Usage}\n",
       "%\n",
       "\\begin{Format}\n",
       "A data frame with 392 observations on the following 9 variables.\n",
       "\\begin{description}\n",
       "\n",
       "\\item[\\code{mpg}] miles per gallon\n",
       "\\item[\\code{cylinders}] Number of cylinders between 4 and 8\n",
       "\\item[\\code{displacement}] Engine displacement (cu. inches)\n",
       "\\item[\\code{horsepower}] Engine horsepower\n",
       "\\item[\\code{weight}] Vehicle weight (lbs.)\n",
       "\\item[\\code{acceleration}] Time to accelerate from 0 to 60 mph (sec.)\n",
       "\\item[\\code{year}] Model year (modulo 100)\n",
       "\\item[\\code{origin}] Origin of car (1. American, 2. European, 3. Japanese)\n",
       "\\item[\\code{name}] Vehicle name\n",
       "\\end{description}\n",
       "\n",
       "\n",
       "The orginal data contained 408 observations but 16 observations with\n",
       "missing values were removed.\n",
       "\\end{Format}\n",
       "%\n",
       "\\begin{Source}\\relax\n",
       "This dataset was taken from the StatLib library which is maintained at Carnegie Mellon University. The dataset was used in the 1983 American Statistical Association Exposition.\n",
       "\\end{Source}\n",
       "%\n",
       "\\begin{References}\\relax\n",
       "James, G., Witten, D., Hastie, T., and Tibshirani, R. (2013)\n",
       "\\emph{An Introduction to Statistical Learning with applications in R},\n",
       "\\url{www.StatLearning.com},\n",
       "Springer-Verlag, New York\n",
       "\\end{References}\n",
       "%\n",
       "\\begin{Examples}\n",
       "\\begin{ExampleCode}\n",
       "pairs(Auto)\n",
       "attach(Auto)\n",
       "hist(mpg)\n",
       "\\end{ExampleCode}\n",
       "\\end{Examples}"
      ],
      "text/plain": [
       "Auto                   package:ISLR                    R Documentation\n",
       "\n",
       "_\bA_\bu_\bt_\bo _\bD_\ba_\bt_\ba _\bS_\be_\bt\n",
       "\n",
       "_\bD_\be_\bs_\bc_\br_\bi_\bp_\bt_\bi_\bo_\bn:\n",
       "\n",
       "     Gas mileage, horsepower, and other information for 392 vehicles.\n",
       "\n",
       "_\bU_\bs_\ba_\bg_\be:\n",
       "\n",
       "     Auto\n",
       "     \n",
       "_\bF_\bo_\br_\bm_\ba_\bt:\n",
       "\n",
       "     A data frame with 392 observations on the following 9 variables.\n",
       "\n",
       "     ‘mpg’ miles per gallon\n",
       "\n",
       "     ‘cylinders’ Number of cylinders between 4 and 8\n",
       "\n",
       "     ‘displacement’ Engine displacement (cu. inches)\n",
       "\n",
       "     ‘horsepower’ Engine horsepower\n",
       "\n",
       "     ‘weight’ Vehicle weight (lbs.)\n",
       "\n",
       "     ‘acceleration’ Time to accelerate from 0 to 60 mph (sec.)\n",
       "\n",
       "     ‘year’ Model year (modulo 100)\n",
       "\n",
       "     ‘origin’ Origin of car (1. American, 2. European, 3. Japanese)\n",
       "\n",
       "     ‘name’ Vehicle name\n",
       "\n",
       "     The orginal data contained 408 observations but 16 observations\n",
       "     with missing values were removed.\n",
       "\n",
       "_\bS_\bo_\bu_\br_\bc_\be:\n",
       "\n",
       "     This dataset was taken from the StatLib library which is\n",
       "     maintained at Carnegie Mellon University. The dataset was used in\n",
       "     the 1983 American Statistical Association Exposition.\n",
       "\n",
       "_\bR_\be_\bf_\be_\br_\be_\bn_\bc_\be_\bs:\n",
       "\n",
       "     James, G., Witten, D., Hastie, T., and Tibshirani, R. (2013) _An\n",
       "     Introduction to Statistical Learning with applications in R_,\n",
       "     <URL: www.StatLearning.com>, Springer-Verlag, New York\n",
       "\n",
       "_\bE_\bx_\ba_\bm_\bp_\bl_\be_\bs:\n",
       "\n",
       "     pairs(Auto)\n",
       "     attach(Auto)\n",
       "     hist(mpg)\n",
       "     "
      ]
     },
     "metadata": {},
     "output_type": "display_data"
    }
   ],
   "source": [
    "head(Auto)\n",
    "?Auto"
   ]
  },
  {
   "cell_type": "markdown",
   "metadata": {},
   "source": [
    "b) Stellen Sie das Modell für eine einfache lineare Regression mit mpg als Zielvariable und horsepower als Prädiktor auf."
   ]
  },
  {
   "cell_type": "markdown",
   "metadata": {},
   "source": [
    "\n",
    "$mpg \\approx \\beta_0 + \\beta_1 * horsepower$"
   ]
  },
  {
   "cell_type": "markdown",
   "metadata": {},
   "source": [
    "c) Verwenden Sie den `lm()`-Befehl um diese Regression durchzuführen."
   ]
  },
  {
   "cell_type": "code",
   "execution_count": 24,
   "metadata": {},
   "outputs": [
    {
     "data": {
      "text/plain": [
       "\n",
       "Call:\n",
       "lm(formula = Auto$mpg ~ Auto$horsepower)\n",
       "\n",
       "Coefficients:\n",
       "    (Intercept)  Auto$horsepower  \n",
       "        39.9359          -0.1578  \n"
      ]
     },
     "metadata": {},
     "output_type": "display_data"
    }
   ],
   "source": [
    "lmMH <- lm(Auto$mpg ~ Auto$horsepower)\n",
    "# alternative: lm(mpg ~ horsepower, data = Auto)\n",
    "lmMH"
   ]
  },
  {
   "cell_type": "code",
   "execution_count": 25,
   "metadata": {},
   "outputs": [
    {
     "data": {
      "text/plain": [
       "\n",
       "Call:\n",
       "lm(formula = Auto$mpg ~ Auto$horsepower)\n",
       "\n",
       "Residuals:\n",
       "     Min       1Q   Median       3Q      Max \n",
       "-13.5710  -3.2592  -0.3435   2.7630  16.9240 \n",
       "\n",
       "Coefficients:\n",
       "                 Estimate Std. Error t value Pr(>|t|)    \n",
       "(Intercept)     39.935861   0.717499   55.66   <2e-16 ***\n",
       "Auto$horsepower -0.157845   0.006446  -24.49   <2e-16 ***\n",
       "---\n",
       "Signif. codes:  0 ‘***’ 0.001 ‘**’ 0.01 ‘*’ 0.05 ‘.’ 0.1 ‘ ’ 1\n",
       "\n",
       "Residual standard error: 4.906 on 390 degrees of freedom\n",
       "Multiple R-squared:  0.6059,\tAdjusted R-squared:  0.6049 \n",
       "F-statistic: 599.7 on 1 and 390 DF,  p-value: < 2.2e-16\n"
      ]
     },
     "metadata": {},
     "output_type": "display_data"
    }
   ],
   "source": [
    "summary(lmMH)"
   ]
  },
  {
   "cell_type": "markdown",
   "metadata": {},
   "source": [
    "i) Gibt es einen Zusammenhang zwischen der Zielgrösse und dem Prädiktor?"
   ]
  },
  {
   "cell_type": "markdown",
   "metadata": {},
   "source": [
    "Ja der $p$-Wert ist fast 0 - die Nullhypthese ($\\beta_1=0$) wird verworfen; je mehr Pferdestärken ein Auto hat, umso weniger weit kann man fahren pro Gallone."
   ]
  },
  {
   "cell_type": "markdown",
   "metadata": {},
   "source": [
    "ii) Wie interpretieren Sie die Koeffizienten für `intercept` und `horsepower`? Ist der Zusammenhang positiv oder negativ?"
   ]
  },
  {
   "cell_type": "markdown",
   "metadata": {},
   "source": [
    "Der Intercept von 39.94 für 0PS ist natürlich hier unsinnig. Die Steigung ist negativ, weil die Reichweite durch die Zunahme der Pferdestärken abnimmt."
   ]
  },
  {
   "cell_type": "markdown",
   "metadata": {},
   "source": [
    "iii) Bestimmen Sie die Vertrauensintervalle (mit `confint()`) und interpretieren Sie diese?"
   ]
  },
  {
   "cell_type": "code",
   "execution_count": 26,
   "metadata": {},
   "outputs": [
    {
     "data": {
      "text/html": [
       "<table>\n",
       "<caption>A matrix: 2 × 2 of type dbl</caption>\n",
       "<thead>\n",
       "\t<tr><th></th><th scope=col>2.5 %</th><th scope=col>97.5 %</th></tr>\n",
       "</thead>\n",
       "<tbody>\n",
       "\t<tr><th scope=row>(Intercept)</th><td>38.525212</td><td>41.3465103</td></tr>\n",
       "\t<tr><th scope=row>Auto$horsepower</th><td>-0.170517</td><td>-0.1451725</td></tr>\n",
       "</tbody>\n",
       "</table>\n"
      ],
      "text/latex": [
       "A matrix: 2 × 2 of type dbl\n",
       "\\begin{tabular}{r|ll}\n",
       "  & 2.5 \\% & 97.5 \\%\\\\\n",
       "\\hline\n",
       "\t(Intercept) & 38.525212 & 41.3465103\\\\\n",
       "\tAuto\\$horsepower & -0.170517 & -0.1451725\\\\\n",
       "\\end{tabular}\n"
      ],
      "text/markdown": [
       "\n",
       "A matrix: 2 × 2 of type dbl\n",
       "\n",
       "| <!--/--> | 2.5 % | 97.5 % |\n",
       "|---|---|---|\n",
       "| (Intercept) | 38.525212 | 41.3465103 |\n",
       "| Auto$horsepower | -0.170517 | -0.1451725 |\n",
       "\n"
      ],
      "text/plain": [
       "                2.5 %     97.5 %    \n",
       "(Intercept)     38.525212 41.3465103\n",
       "Auto$horsepower -0.170517 -0.1451725"
      ]
     },
     "metadata": {},
     "output_type": "display_data"
    }
   ],
   "source": [
    "confint(lmMH, level=0.95)"
   ]
  },
  {
   "cell_type": "markdown",
   "metadata": {},
   "source": [
    "Für das 95%-Vertrauensintervall $\\beta_0$ gilt [38.525,41.347] und $\\beta_1$ gilt [-0.171,-0.145]. Die Intervalle sind recht *schmal*, weshalb die Aussagekraft relativ gross ist."
   ]
  },
  {
   "cell_type": "markdown",
   "metadata": {},
   "source": [
    "iv) Interpretieren Sie den $R^2$-Wert."
   ]
  },
  {
   "cell_type": "code",
   "execution_count": 28,
   "metadata": {},
   "outputs": [
    {
     "data": {
      "text/html": [
       "0.605948257889435"
      ],
      "text/latex": [
       "0.605948257889435"
      ],
      "text/markdown": [
       "0.605948257889435"
      ],
      "text/plain": [
       "[1] 0.6059483"
      ]
     },
     "metadata": {},
     "output_type": "display_data"
    }
   ],
   "source": [
    "#names(summary(lmMH)) # names gibt output parameter zurück, welche via $ abgefragt werden können\n",
    "summary(lmMH)$r.squared"
   ]
  },
  {
   "cell_type": "markdown",
   "metadata": {},
   "source": [
    "Der $R^2$-Wert ist zwar näher bei 1 als bei 0, beschreibt das Modell aber nicht ganz zuverlässig. Er gibt an, dass die Variabilität zu 60% durch das Modell erklärt wird."
   ]
  },
  {
   "cell_type": "code",
   "execution_count": null,
   "metadata": {},
   "outputs": [],
   "source": []
  }
 ],
 "metadata": {
  "kernelspec": {
   "display_name": "R",
   "language": "R",
   "name": "ir"
  },
  "language_info": {
   "codemirror_mode": "r",
   "file_extension": ".r",
   "mimetype": "text/x-r-source",
   "name": "R",
   "pygments_lexer": "r",
   "version": "4.0.2"
  }
 },
 "nbformat": 4,
 "nbformat_minor": 4
}

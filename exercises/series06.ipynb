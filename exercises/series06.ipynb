{
 "cells": [
  {
   "cell_type": "markdown",
   "metadata": {},
   "source": [
    "# Series 06\n",
    "## Aufgabe 6.1\n",
    "In einem Land der Dritten Welt leiden 1 % der Menschen an einer bestimmten Infektionskrankheit. Ein Test zeigt die Krankheit bei den tatsächlich Erkrankten zu 98 % korrekt an. Leider zeigt der Test auch 3 % der Gesunden als erkrankt an.  \n",
    "Wir bezeichnen mit K eine kranke Person und T eine positiv getestete Person."
   ]
  },
  {
   "cell_type": "markdown",
   "metadata": {},
   "source": [
    "a) Interpretieren (nicht berechnen!) Sie die Wahrscheinlichkeiten:  \n",
    "$P(K)$,$P(\\overline{T})$,$P(K|T)$,$P(K)$,$P(\\overline{T}|\\overline{K})$"
   ]
  },
  {
   "cell_type": "markdown",
   "metadata": {},
   "source": [
    "* $P(K)$: Wahrscheinlichkeit an einer Infektionskrankheit zu leiden\n",
    "* $P(\\overline{T})$: eine negativ getestete Person\n",
    "* $P(K|T)$: Wahrscheinlichkeit, dass eine Person unter der Voraussetzung eines positiven Tests krank ist.\n",
    "* $P(T|K)$: Wahrscheinlichkeit, dass ein Test positiv ist, unter der Voraussetzung, dass der Mensch krank ist.\n",
    "* $P(\\overline{T}|\\overline{K})$: Wahrscheinlichkeit, dass ein Test negativ ist, unter der Voraussetzung dass der Mensch gesund ist."
   ]
  },
  {
   "cell_type": "markdown",
   "metadata": {},
   "source": [
    "b) Bezeichnen Sie die Wahrscheinlichkeit, die in der Aufgabe gegeben sind, wie in a)"
   ]
  },
  {
   "cell_type": "markdown",
   "metadata": {},
   "source": [
    "* 1% der Menschen in einem Drittweltland leiden an einer Infektionskrankheit $\\to$ $P(K)$\n",
    "* Der Test zeigt an, dass die Person krank ist $\\to P(K|T) = 98%$\n",
    "* Bei 3% der Gesunden fällt der Test positiv aus $\\to P(T|\\overline{K})$"
   ]
  },
  {
   "cell_type": "markdown",
   "metadata": {},
   "source": [
    "c) Berechnen Sie $P(\\overline{K})$"
   ]
  },
  {
   "cell_type": "markdown",
   "metadata": {},
   "source": [
    "$P(\\overline{K})$"
   ]
  },
  {
   "cell_type": "code",
   "execution_count": 13,
   "metadata": {},
   "outputs": [
    {
     "data": {
      "text/html": [
       "0.99"
      ],
      "text/latex": [
       "0.99"
      ],
      "text/markdown": [
       "0.99"
      ],
      "text/plain": [
       "[1] 0.99"
      ]
     },
     "metadata": {},
     "output_type": "display_data"
    }
   ],
   "source": [
    "K <- 0.01\n",
    "TK <- 0.98\n",
    "TnK <- 0.03\n",
    "nK <- 1-K\n",
    "nK"
   ]
  },
  {
   "cell_type": "markdown",
   "metadata": {},
   "source": [
    "d) Mit welcher Wahrscheinlichkeit zeigt der Test bei einer zufällig ausgewählten Person ein positives Ergebnis?  \n",
    "Verwenden Sie das Gesetz der totalen Wahrscheinlichkeit."
   ]
  },
  {
   "cell_type": "markdown",
   "metadata": {},
   "source": [
    "$P(T)=P(T|K)*P(K)+P(T|\\overline{K})*P(\\overline{K})$"
   ]
  },
  {
   "cell_type": "code",
   "execution_count": 14,
   "metadata": {},
   "outputs": [
    {
     "data": {
      "text/html": [
       "0.0395"
      ],
      "text/latex": [
       "0.0395"
      ],
      "text/markdown": [
       "0.0395"
      ],
      "text/plain": [
       "[1] 0.0395"
      ]
     },
     "metadata": {},
     "output_type": "display_data"
    }
   ],
   "source": [
    "T <- TK*K+TnK*nK\n",
    "T"
   ]
  },
  {
   "cell_type": "markdown",
   "metadata": {},
   "source": [
    "e) Mit welcher Wahrscheinlichkeit ist eine positiv getestete Person auch tatsächlich krank?  Kommentieren Sie das Ergebnis.  \n",
    "Verwenden Sie das Bayes Theorem."
   ]
  },
  {
   "cell_type": "markdown",
   "metadata": {},
   "source": [
    "$P(K|T) = \\frac{P(T|K)*P(K)}{P(T)}$"
   ]
  },
  {
   "cell_type": "code",
   "execution_count": 15,
   "metadata": {},
   "outputs": [
    {
     "data": {
      "text/html": [
       "0.248101265822785"
      ],
      "text/latex": [
       "0.248101265822785"
      ],
      "text/markdown": [
       "0.248101265822785"
      ],
      "text/plain": [
       "[1] 0.2481013"
      ]
     },
     "metadata": {},
     "output_type": "display_data"
    }
   ],
   "source": [
    "KT <- TK*K/T\n",
    "KT"
   ]
  },
  {
   "cell_type": "markdown",
   "metadata": {},
   "source": [
    "Das bedeutet dass 24.8% aller positiv Getesteten auch effektiv krank ist."
   ]
  },
  {
   "cell_type": "markdown",
   "metadata": {},
   "source": [
    "f) Mit welcher Wahrscheinlichkeit ist eine als negativ getestete Person gesund? Kommentieren Sie das Ergebnis.  \n",
    "Verwenden Sie das Bayes Theorem."
   ]
  },
  {
   "cell_type": "code",
   "execution_count": 19,
   "metadata": {},
   "outputs": [
    {
     "data": {
      "text/html": [
       "0.999791775117126"
      ],
      "text/latex": [
       "0.999791775117126"
      ],
      "text/markdown": [
       "0.999791775117126"
      ],
      "text/plain": [
       "[1] 0.9997918"
      ]
     },
     "metadata": {},
     "output_type": "display_data"
    }
   ],
   "source": [
    "nKnT <- (1-TnK)*nK/(1-T)\n",
    "nKnT"
   ]
  },
  {
   "cell_type": "markdown",
   "metadata": {},
   "source": [
    "## Aufgabe 6.2\n",
    "Bei einer Sportveranstaltung wird ein Dopingtest durchgeführt. Wenn ein Sportler gedopt hat, dann fällt der Test zu 99 % positiv aus.  \n",
    "Hat ein Sportler aber nicht gedopt, zeigt der Test trotzdem zu 5 % ein positives Ergebnis an. Aus Erfahrung weiss man das 20 % der Sportler gedopt sind.  "
   ]
  },
  {
   "cell_type": "code",
   "execution_count": 24,
   "metadata": {},
   "outputs": [],
   "source": [
    "TD <- 0.99\n",
    "D <- 0.2\n",
    "TnD <- 0.05\n",
    "nD <- 1-D"
   ]
  },
  {
   "cell_type": "markdown",
   "metadata": {},
   "source": [
    "a) Wie gross ist die Wahrscheinlichkeit, dass eine Dopingprobe positiv ausfällt.  \n",
    "$P(T)=P(TD|D)*P(D)+P(TnD|nD)*P(nD)$"
   ]
  },
  {
   "cell_type": "code",
   "execution_count": 30,
   "metadata": {},
   "outputs": [
    {
     "data": {
      "text/html": [
       "0.238"
      ],
      "text/latex": [
       "0.238"
      ],
      "text/markdown": [
       "0.238"
      ],
      "text/plain": [
       "[1] 0.238"
      ]
     },
     "metadata": {},
     "output_type": "display_data"
    }
   ],
   "source": [
    "T <- TD*D+TnD*nD\n",
    "T"
   ]
  },
  {
   "cell_type": "markdown",
   "metadata": {},
   "source": [
    "b) Wie gross ist die Wahrscheinlichkeit, dass der Test negativ ausfällt, obwohl der Sportler gedopt hat?"
   ]
  },
  {
   "cell_type": "code",
   "execution_count": 31,
   "metadata": {},
   "outputs": [
    {
     "data": {
      "text/html": [
       "0.01"
      ],
      "text/latex": [
       "0.01"
      ],
      "text/markdown": [
       "0.01"
      ],
      "text/plain": [
       "[1] 0.01"
      ]
     },
     "metadata": {},
     "output_type": "display_data"
    }
   ],
   "source": [
    "nTD <- 1-TD\n",
    "nTD"
   ]
  },
  {
   "cell_type": "markdown",
   "metadata": {},
   "source": [
    "c) Wie gross ist die Wahrscheinlichkeit, dass ein Sportler gedopt hat, falls seine Dopingprobe negativ ausgefallen ist.  \n",
    "$P(D|nT)=\\frac{P(nT|D)*P(D)}{P(nT)}$"
   ]
  },
  {
   "cell_type": "code",
   "execution_count": 33,
   "metadata": {},
   "outputs": [
    {
     "data": {
      "text/html": [
       "0.0026246719160105"
      ],
      "text/latex": [
       "0.0026246719160105"
      ],
      "text/markdown": [
       "0.0026246719160105"
      ],
      "text/plain": [
       "[1] 0.002624672"
      ]
     },
     "metadata": {},
     "output_type": "display_data"
    }
   ],
   "source": [
    "DnT <- nTD*D/(1-T)\n",
    "DnT"
   ]
  },
  {
   "cell_type": "markdown",
   "metadata": {},
   "source": [
    "## Aufgabe 6.3\n",
    "Ein Lügendetektortest wird routinemässig bei Angestellten durchgeführt, die in sensitiven Positionen arbeiten. Bezeichnen wir nun mit $+$ das Ereignis, dass der Test positiv ist, also dass der Lügendetektor angibt, dass der Angestellte gelogen habe. Mit $W$ wird das Ereignis bezeichnet, dass der Angestellte die Wahrheit sagte und mit $L$, dass der Angestellte gelogen hat.  \n",
    "Aus Untersuchungen über Lügendetektoren wissen wir, dass\n",
    "* $P(+|L) = 0.88$\n",
    "* $P(-|W) = 0.86$\n",
    "* $P(W) = 0.99$   \n",
    "\n",
    "a) Interpretieren Sie die Wahrscheinlichkeiten $P(W)$ und $P(+|L)$."
   ]
  },
  {
   "cell_type": "code",
   "execution_count": 34,
   "metadata": {},
   "outputs": [],
   "source": [
    "TL <- 0.88\n",
    "nTW <- 0.86\n",
    "W <- 0.99"
   ]
  },
  {
   "cell_type": "markdown",
   "metadata": {},
   "source": [
    "$P(W)$ bedeutet, dass 99% aller Angestellten die Wahrheit sagen. \n",
    "$P(+|L)$ ist die Wahrscheinlichkeit, dass der Detektor die Lüge entdeckt, wenn der Angestellte gelogen hat"
   ]
  },
  {
   "cell_type": "markdown",
   "metadata": {},
   "source": [
    "b) Bei einer Person zeigt der Detektor an, dass gelogen wurde. Mit welcher Wahrscheinlichkeit hat diese Person effektiv gelogen?  \n",
    "\n",
    "$P(L|+)=\\frac{P(+|L)P(L)}{P(+|L)P(L)+P(+|W)P(W)}$"
   ]
  },
  {
   "cell_type": "code",
   "execution_count": 37,
   "metadata": {},
   "outputs": [
    {
     "data": {
      "text/html": [
       "0.0597014925373135"
      ],
      "text/latex": [
       "0.0597014925373135"
      ],
      "text/markdown": [
       "0.0597014925373135"
      ],
      "text/plain": [
       "[1] 0.05970149"
      ]
     },
     "metadata": {},
     "output_type": "display_data"
    }
   ],
   "source": [
    "LT <- TL*(1-W)/(TL*(1-W)+(1-nTW)*W)\n",
    "LT"
   ]
  },
  {
   "cell_type": "markdown",
   "metadata": {},
   "source": [
    "c) Interpretieren Sie das Resultat aus b) in 2-3 Sätzen. Für wie aussagekräftig halten Sie den Lügendetektor."
   ]
  },
  {
   "cell_type": "markdown",
   "metadata": {},
   "source": [
    "Der Lügendetektor ist unzuverlässig. Lediglich 5% der Lügen kann er erkennen."
   ]
  },
  {
   "cell_type": "markdown",
   "metadata": {},
   "source": [
    "## Aufgabe 6.4\n",
    "Der Serumtest untersucht schwangere Frauen auf Babys mit Down-Syndrom. Der Test ist ein sehr guter, aber nicht perfekter Test. Ungefähr 1 % der Babys haben das Down-Syndrom. Wenn das Baby das Down-Syndrom hat, besteht eine 90-prozentige Wahrscheinlichkeit, dass das Ergebnis positiv ausfällt. Wenn das Baby nicht betroffen ist, besteht immer noch eine 1 % Chance, dass das Ergebnis positiv ist. Eine schwangere Frau wurde getestet und das Ergebnis ist positiv. Wie gross ist die Wahrscheinlichkeit, dass ihr Baby tatsächlich das Down-Syndrom hat?"
   ]
  },
  {
   "cell_type": "code",
   "execution_count": 1,
   "metadata": {},
   "outputs": [
    {
     "data": {
      "text/html": [
       "0.988990928549587"
      ],
      "text/latex": [
       "0.988990928549587"
      ],
      "text/markdown": [
       "0.988990928549587"
      ],
      "text/plain": [
       "[1] 0.9889909"
      ]
     },
     "metadata": {},
     "output_type": "display_data"
    }
   ],
   "source": [
    "D <- 0.01\n",
    "TD <- 0.9\n",
    "TnD <- 0.01"
   ]
  },
  {
   "cell_type": "markdown",
   "metadata": {},
   "source": [
    "$P(D|T)=\\frac{P(T|D)*P(D)}{P(T)}$"
   ]
  },
  {
   "cell_type": "code",
   "execution_count": 41,
   "metadata": {},
   "outputs": [
    {
     "data": {
      "text/html": [
       "0.476190476190476"
      ],
      "text/latex": [
       "0.476190476190476"
      ],
      "text/markdown": [
       "0.476190476190476"
      ],
      "text/plain": [
       "[1] 0.4761905"
      ]
     },
     "metadata": {},
     "output_type": "display_data"
    }
   ],
   "source": [
    "DT <- TD*D/((TD*D)+TnD*(1-D))\n",
    "DT"
   ]
  },
  {
   "cell_type": "markdown",
   "metadata": {},
   "source": [
    "## Aufgabe 6.5\n",
    "Die Rauchsensoren in einer Fabrik melden ein Feuer mit Wahrscheinlichkeit 0.95. An einem Tag ohne Brand geben sie mit Wahrscheinlichkeit 0.01 falschen Alarm. Pro Jahr rechnet man mit einem Brand.  "
   ]
  },
  {
   "cell_type": "code",
   "execution_count": 46,
   "metadata": {},
   "outputs": [],
   "source": [
    "F <- 1/365\n",
    "AF <- 0.95\n",
    "AnF <- 0.01"
   ]
  },
  {
   "cell_type": "markdown",
   "metadata": {},
   "source": [
    "a) Die Alarmanlage meldet Feuer. Mit welcher Wahrscheinlichkeit brennt es tatsächlich?"
   ]
  },
  {
   "cell_type": "code",
   "execution_count": 54,
   "metadata": {},
   "outputs": [
    {
     "data": {
      "text/html": [
       "0.206971677559913"
      ],
      "text/latex": [
       "0.206971677559913"
      ],
      "text/markdown": [
       "0.206971677559913"
      ],
      "text/plain": [
       "[1] 0.2069717"
      ]
     },
     "metadata": {},
     "output_type": "display_data"
    }
   ],
   "source": [
    "A <- (AF*F+AnF*(1-F))\n",
    "FA <- AF*F/A\n",
    "FA"
   ]
  },
  {
   "cell_type": "markdown",
   "metadata": {},
   "source": [
    "b) In einer Nacht ist es ruhig (kein Alarm). Mit welcher Wahrscheinlichkeit brennt es tatsächlich nicht?"
   ]
  },
  {
   "cell_type": "code",
   "execution_count": 55,
   "metadata": {},
   "outputs": [
    {
     "data": {
      "text/html": [
       "0.99986126911018"
      ],
      "text/latex": [
       "0.99986126911018"
      ],
      "text/markdown": [
       "0.99986126911018"
      ],
      "text/plain": [
       "[1] 0.9998613"
      ]
     },
     "metadata": {},
     "output_type": "display_data"
    }
   ],
   "source": [
    "nF <- (1-F)*(1-AnF)/(1-A)\n",
    "nF"
   ]
  },
  {
   "cell_type": "code",
   "execution_count": null,
   "metadata": {},
   "outputs": [],
   "source": []
  }
 ],
 "metadata": {
  "kernelspec": {
   "display_name": "R",
   "language": "R",
   "name": "ir"
  },
  "language_info": {
   "codemirror_mode": "r",
   "file_extension": ".r",
   "mimetype": "text/x-r-source",
   "name": "R",
   "pygments_lexer": "r",
   "version": "4.0.2"
  }
 },
 "nbformat": 4,
 "nbformat_minor": 4
}

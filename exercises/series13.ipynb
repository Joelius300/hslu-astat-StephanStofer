{
 "cells": [
  {
   "cell_type": "markdown",
   "metadata": {},
   "source": [
    "# Serie 13\n",
    "## Aufgabe 13.1\n",
    "In der Bibliothek `ISLR` hat es den Datensatz **Carseats**. Wir möchten `Sales` (Anzahl Kinderautositze) aufgrund von verschiedenen Prädiktoren in 400 verschiedenen Standorten vorhersagen.  \n",
    "Der Datensatz enthält qualitative Prädiktoren, wie `ShelveLoc` als Indikator der Lage im Gestell, das heisst der Platz in einem Geschäft, wo der Autositz ausgestellt ist. Der Prädiktor nimmt die drei Werte `Bad`, `Medium` und `Good` an. Für qualitative Variablen generiert `R` Dummy-Variablen automatisch.\n",
    "\n",
    "a) Untersuchen Sie den Datensatz mit `head(Carseat)` und `?Carseat`."
   ]
  },
  {
   "cell_type": "code",
   "execution_count": 1,
   "metadata": {},
   "outputs": [
    {
     "data": {
      "text/html": [
       "<table>\n",
       "<caption>A data.frame: 6 × 11</caption>\n",
       "<thead>\n",
       "\t<tr><th></th><th scope=col>Sales</th><th scope=col>CompPrice</th><th scope=col>Income</th><th scope=col>Advertising</th><th scope=col>Population</th><th scope=col>Price</th><th scope=col>ShelveLoc</th><th scope=col>Age</th><th scope=col>Education</th><th scope=col>Urban</th><th scope=col>US</th></tr>\n",
       "\t<tr><th></th><th scope=col>&lt;dbl&gt;</th><th scope=col>&lt;dbl&gt;</th><th scope=col>&lt;dbl&gt;</th><th scope=col>&lt;dbl&gt;</th><th scope=col>&lt;dbl&gt;</th><th scope=col>&lt;dbl&gt;</th><th scope=col>&lt;fct&gt;</th><th scope=col>&lt;dbl&gt;</th><th scope=col>&lt;dbl&gt;</th><th scope=col>&lt;fct&gt;</th><th scope=col>&lt;fct&gt;</th></tr>\n",
       "</thead>\n",
       "<tbody>\n",
       "\t<tr><th scope=row>1</th><td> 9.50</td><td>138</td><td> 73</td><td>11</td><td>276</td><td>120</td><td>Bad   </td><td>42</td><td>17</td><td>Yes</td><td>Yes</td></tr>\n",
       "\t<tr><th scope=row>2</th><td>11.22</td><td>111</td><td> 48</td><td>16</td><td>260</td><td> 83</td><td>Good  </td><td>65</td><td>10</td><td>Yes</td><td>Yes</td></tr>\n",
       "\t<tr><th scope=row>3</th><td>10.06</td><td>113</td><td> 35</td><td>10</td><td>269</td><td> 80</td><td>Medium</td><td>59</td><td>12</td><td>Yes</td><td>Yes</td></tr>\n",
       "\t<tr><th scope=row>4</th><td> 7.40</td><td>117</td><td>100</td><td> 4</td><td>466</td><td> 97</td><td>Medium</td><td>55</td><td>14</td><td>Yes</td><td>Yes</td></tr>\n",
       "\t<tr><th scope=row>5</th><td> 4.15</td><td>141</td><td> 64</td><td> 3</td><td>340</td><td>128</td><td>Bad   </td><td>38</td><td>13</td><td>Yes</td><td>No </td></tr>\n",
       "\t<tr><th scope=row>6</th><td>10.81</td><td>124</td><td>113</td><td>13</td><td>501</td><td> 72</td><td>Bad   </td><td>78</td><td>16</td><td>No </td><td>Yes</td></tr>\n",
       "</tbody>\n",
       "</table>\n"
      ],
      "text/latex": [
       "A data.frame: 6 × 11\n",
       "\\begin{tabular}{r|lllllllllll}\n",
       "  & Sales & CompPrice & Income & Advertising & Population & Price & ShelveLoc & Age & Education & Urban & US\\\\\n",
       "  & <dbl> & <dbl> & <dbl> & <dbl> & <dbl> & <dbl> & <fct> & <dbl> & <dbl> & <fct> & <fct>\\\\\n",
       "\\hline\n",
       "\t1 &  9.50 & 138 &  73 & 11 & 276 & 120 & Bad    & 42 & 17 & Yes & Yes\\\\\n",
       "\t2 & 11.22 & 111 &  48 & 16 & 260 &  83 & Good   & 65 & 10 & Yes & Yes\\\\\n",
       "\t3 & 10.06 & 113 &  35 & 10 & 269 &  80 & Medium & 59 & 12 & Yes & Yes\\\\\n",
       "\t4 &  7.40 & 117 & 100 &  4 & 466 &  97 & Medium & 55 & 14 & Yes & Yes\\\\\n",
       "\t5 &  4.15 & 141 &  64 &  3 & 340 & 128 & Bad    & 38 & 13 & Yes & No \\\\\n",
       "\t6 & 10.81 & 124 & 113 & 13 & 501 &  72 & Bad    & 78 & 16 & No  & Yes\\\\\n",
       "\\end{tabular}\n"
      ],
      "text/markdown": [
       "\n",
       "A data.frame: 6 × 11\n",
       "\n",
       "| <!--/--> | Sales &lt;dbl&gt; | CompPrice &lt;dbl&gt; | Income &lt;dbl&gt; | Advertising &lt;dbl&gt; | Population &lt;dbl&gt; | Price &lt;dbl&gt; | ShelveLoc &lt;fct&gt; | Age &lt;dbl&gt; | Education &lt;dbl&gt; | Urban &lt;fct&gt; | US &lt;fct&gt; |\n",
       "|---|---|---|---|---|---|---|---|---|---|---|---|\n",
       "| 1 |  9.50 | 138 |  73 | 11 | 276 | 120 | Bad    | 42 | 17 | Yes | Yes |\n",
       "| 2 | 11.22 | 111 |  48 | 16 | 260 |  83 | Good   | 65 | 10 | Yes | Yes |\n",
       "| 3 | 10.06 | 113 |  35 | 10 | 269 |  80 | Medium | 59 | 12 | Yes | Yes |\n",
       "| 4 |  7.40 | 117 | 100 |  4 | 466 |  97 | Medium | 55 | 14 | Yes | Yes |\n",
       "| 5 |  4.15 | 141 |  64 |  3 | 340 | 128 | Bad    | 38 | 13 | Yes | No  |\n",
       "| 6 | 10.81 | 124 | 113 | 13 | 501 |  72 | Bad    | 78 | 16 | No  | Yes |\n",
       "\n"
      ],
      "text/plain": [
       "  Sales CompPrice Income Advertising Population Price ShelveLoc Age Education\n",
       "1  9.50 138        73    11          276        120   Bad       42  17       \n",
       "2 11.22 111        48    16          260         83   Good      65  10       \n",
       "3 10.06 113        35    10          269         80   Medium    59  12       \n",
       "4  7.40 117       100     4          466         97   Medium    55  14       \n",
       "5  4.15 141        64     3          340        128   Bad       38  13       \n",
       "6 10.81 124       113    13          501         72   Bad       78  16       \n",
       "  Urban US \n",
       "1 Yes   Yes\n",
       "2 Yes   Yes\n",
       "3 Yes   Yes\n",
       "4 Yes   Yes\n",
       "5 Yes   No \n",
       "6 No    Yes"
      ]
     },
     "metadata": {},
     "output_type": "display_data"
    },
    {
     "data": {
      "text/html": [
       "\n",
       "<table width=\"100%\" summary=\"page for Carseats {ISLR}\"><tr><td>Carseats {ISLR}</td><td style=\"text-align: right;\">R Documentation</td></tr></table>\n",
       "\n",
       "<h2>Sales of Child Car Seats\n",
       "\n",
       "</h2>\n",
       "\n",
       "<h3>Description</h3>\n",
       "\n",
       "<p>A simulated data set containing sales of child car seats at\n",
       "400 different stores.\n",
       "\n",
       "</p>\n",
       "\n",
       "\n",
       "<h3>Usage</h3>\n",
       "\n",
       "<pre>Carseats</pre>\n",
       "\n",
       "\n",
       "<h3>Format</h3>\n",
       "\n",
       "<p>A data frame with 400 observations on the following 11 variables.\n",
       "</p>\n",
       "\n",
       "<dl>\n",
       "<dt><code>Sales</code></dt><dd><p>Unit sales (in thousands) at each location</p>\n",
       "</dd>\n",
       "<dt><code>CompPrice</code></dt><dd><p>Price charged by competitor at each location</p>\n",
       "</dd>\n",
       "<dt><code>Income</code></dt><dd><p>Community income level (in thousands of dollars)</p>\n",
       "</dd>\n",
       "<dt><code>Advertising</code></dt><dd><p>Local advertising budget for company at\n",
       "each location (in thousands of dollars)</p>\n",
       "</dd>\n",
       "<dt><code>Population</code></dt><dd><p>Population size in region (in thousands)</p>\n",
       "</dd>\n",
       "<dt><code>Price</code></dt><dd><p>Price company charges for car seats at each site</p>\n",
       "</dd>\n",
       "<dt><code>ShelveLoc</code></dt><dd><p>A factor with levels <code>Bad</code>, <code>Good</code>\n",
       "and <code>Medium</code> indicating the quality of the shelving location\n",
       "for the car seats at each site</p>\n",
       "</dd>\n",
       "<dt><code>Age</code></dt><dd><p>Average age of the local population</p>\n",
       "</dd>\n",
       "<dt><code>Education</code></dt><dd><p>Education level at each location</p>\n",
       "</dd>\n",
       "<dt><code>Urban</code></dt><dd><p>A factor with levels <code>No</code> and <code>Yes</code> to\n",
       "indicate whether the store is in an urban or rural location</p>\n",
       "</dd>\n",
       "<dt><code>US</code></dt><dd><p>A factor with levels <code>No</code> and <code>Yes</code> to\n",
       "indicate whether the store is in the US or not</p>\n",
       "</dd>\n",
       "</dl>\n",
       "\n",
       "\n",
       "\n",
       "<h3>Source</h3>\n",
       "\n",
       "<p>Simulated data\n",
       "\n",
       "</p>\n",
       "\n",
       "\n",
       "<h3>References</h3>\n",
       "\n",
       "<p>James, G., Witten, D., Hastie, T., and Tibshirani, R. (2013)\n",
       "<em>An Introduction to Statistical Learning with applications in R</em>,\n",
       "<a href=\"www.StatLearning.com\">www.StatLearning.com</a>,\n",
       "Springer-Verlag, New York\n",
       "</p>\n",
       "\n",
       "\n",
       "<h3>Examples</h3>\n",
       "\n",
       "<pre>\n",
       "summary(Carseats)\n",
       "lm.fit=lm(Sales~Advertising+Price,data=Carseats)\n",
       "</pre>\n",
       "\n",
       "<hr /><div style=\"text-align: center;\">[Package <em>ISLR</em> version 1.2 ]</div>"
      ],
      "text/latex": [
       "\\inputencoding{utf8}\n",
       "\\HeaderA{Carseats}{Sales of Child Car Seats}{Carseats}\n",
       "\\keyword{datasets}{Carseats}\n",
       "%\n",
       "\\begin{Description}\\relax\n",
       "A simulated data set containing sales of child car seats at\n",
       "400 different stores.\n",
       "\n",
       "\\end{Description}\n",
       "%\n",
       "\\begin{Usage}\n",
       "\\begin{verbatim}\n",
       "Carseats\n",
       "\\end{verbatim}\n",
       "\\end{Usage}\n",
       "%\n",
       "\\begin{Format}\n",
       "A data frame with 400 observations on the following 11 variables.\n",
       "\\begin{description}\n",
       "\n",
       "\\item[\\code{Sales}] Unit sales (in thousands) at each location\n",
       "\\item[\\code{CompPrice}] Price charged by competitor at each location\n",
       "\\item[\\code{Income}] Community income level (in thousands of dollars)\n",
       "\\item[\\code{Advertising}] Local advertising budget for company at\n",
       "each location (in thousands of dollars)\n",
       "\\item[\\code{Population}] Population size in region (in thousands)\n",
       "\\item[\\code{Price}] Price company charges for car seats at each site\n",
       "\\item[\\code{ShelveLoc}] A factor with levels \\code{Bad}, \\code{Good}\n",
       "and \\code{Medium} indicating the quality of the shelving location\n",
       "for the car seats at each site\n",
       "\\item[\\code{Age}] Average age of the local population\n",
       "\\item[\\code{Education}] Education level at each location\n",
       "\\item[\\code{Urban}] A factor with levels \\code{No} and \\code{Yes} to\n",
       "indicate whether the store is in an urban or rural location\n",
       "\\item[\\code{US}] A factor with levels \\code{No} and \\code{Yes} to\n",
       "indicate whether the store is in the US or not\n",
       "\n",
       "\\end{description}\n",
       "\n",
       "\\end{Format}\n",
       "%\n",
       "\\begin{Source}\\relax\n",
       "Simulated data\n",
       "\n",
       "\\end{Source}\n",
       "%\n",
       "\\begin{References}\\relax\n",
       "James, G., Witten, D., Hastie, T., and Tibshirani, R. (2013)\n",
       "\\emph{An Introduction to Statistical Learning with applications in R},\n",
       "\\url{www.StatLearning.com},\n",
       "Springer-Verlag, New York\n",
       "\\end{References}\n",
       "%\n",
       "\\begin{Examples}\n",
       "\\begin{ExampleCode}\n",
       "summary(Carseats)\n",
       "lm.fit=lm(Sales~Advertising+Price,data=Carseats)\n",
       "\\end{ExampleCode}\n",
       "\\end{Examples}"
      ],
      "text/plain": [
       "Carseats                 package:ISLR                  R Documentation\n",
       "\n",
       "_\bS_\ba_\bl_\be_\bs _\bo_\bf _\bC_\bh_\bi_\bl_\bd _\bC_\ba_\br _\bS_\be_\ba_\bt_\bs\n",
       "\n",
       "_\bD_\be_\bs_\bc_\br_\bi_\bp_\bt_\bi_\bo_\bn:\n",
       "\n",
       "     A simulated data set containing sales of child car seats at 400\n",
       "     different stores.\n",
       "\n",
       "_\bU_\bs_\ba_\bg_\be:\n",
       "\n",
       "     Carseats\n",
       "     \n",
       "_\bF_\bo_\br_\bm_\ba_\bt:\n",
       "\n",
       "     A data frame with 400 observations on the following 11 variables.\n",
       "\n",
       "     ‘Sales’ Unit sales (in thousands) at each location\n",
       "\n",
       "     ‘CompPrice’ Price charged by competitor at each location\n",
       "\n",
       "     ‘Income’ Community income level (in thousands of dollars)\n",
       "\n",
       "     ‘Advertising’ Local advertising budget for company at each\n",
       "          location (in thousands of dollars)\n",
       "\n",
       "     ‘Population’ Population size in region (in thousands)\n",
       "\n",
       "     ‘Price’ Price company charges for car seats at each site\n",
       "\n",
       "     ‘ShelveLoc’ A factor with levels ‘Bad’, ‘Good’ and ‘Medium’\n",
       "          indicating the quality of the shelving location for the car\n",
       "          seats at each site\n",
       "\n",
       "     ‘Age’ Average age of the local population\n",
       "\n",
       "     ‘Education’ Education level at each location\n",
       "\n",
       "     ‘Urban’ A factor with levels ‘No’ and ‘Yes’ to indicate whether\n",
       "          the store is in an urban or rural location\n",
       "\n",
       "     ‘US’ A factor with levels ‘No’ and ‘Yes’ to indicate whether the\n",
       "          store is in the US or not\n",
       "\n",
       "_\bS_\bo_\bu_\br_\bc_\be:\n",
       "\n",
       "     Simulated data\n",
       "\n",
       "_\bR_\be_\bf_\be_\br_\be_\bn_\bc_\be_\bs:\n",
       "\n",
       "     James, G., Witten, D., Hastie, T., and Tibshirani, R. (2013) _An\n",
       "     Introduction to Statistical Learning with applications in R_,\n",
       "     <URL: www.StatLearning.com>, Springer-Verlag, New York\n",
       "\n",
       "_\bE_\bx_\ba_\bm_\bp_\bl_\be_\bs:\n",
       "\n",
       "     summary(Carseats)\n",
       "     lm.fit=lm(Sales~Advertising+Price,data=Carseats)\n",
       "     "
      ]
     },
     "metadata": {},
     "output_type": "display_data"
    }
   ],
   "source": [
    "library(ISLR)\n",
    "head(Carseats)\n",
    "help(Carseats)"
   ]
  },
  {
   "cell_type": "markdown",
   "metadata": {},
   "source": [
    "b) Finden Sie mit `lm()` ein multiples Regressionsmodell um `Sales` aus `Price`, `Urban` und `US` vorherzusagen."
   ]
  },
  {
   "cell_type": "code",
   "execution_count": 2,
   "metadata": {},
   "outputs": [
    {
     "data": {
      "text/plain": [
       "\n",
       "Call:\n",
       "lm(formula = Sales ~ Price + Urban + US, data = Carseats)\n",
       "\n",
       "Residuals:\n",
       "    Min      1Q  Median      3Q     Max \n",
       "-6.9206 -1.6220 -0.0564  1.5786  7.0581 \n",
       "\n",
       "Coefficients:\n",
       "             Estimate Std. Error t value Pr(>|t|)    \n",
       "(Intercept) 13.043469   0.651012  20.036  < 2e-16 ***\n",
       "Price       -0.054459   0.005242 -10.389  < 2e-16 ***\n",
       "UrbanYes    -0.021916   0.271650  -0.081    0.936    \n",
       "USYes        1.200573   0.259042   4.635 4.86e-06 ***\n",
       "---\n",
       "Signif. codes:  0 ‘***’ 0.001 ‘**’ 0.01 ‘*’ 0.05 ‘.’ 0.1 ‘ ’ 1\n",
       "\n",
       "Residual standard error: 2.472 on 396 degrees of freedom\n",
       "Multiple R-squared:  0.2393,\tAdjusted R-squared:  0.2335 \n",
       "F-statistic: 41.52 on 3 and 396 DF,  p-value: < 2.2e-16\n"
      ]
     },
     "metadata": {},
     "output_type": "display_data"
    }
   ],
   "source": [
    "fit <- lm(Sales ~ Price + Urban + US, data = Carseats)\n",
    "summary(fit)"
   ]
  },
  {
   "cell_type": "markdown",
   "metadata": {},
   "source": [
    "c) Interpretieren Sie die Koeffizienten in diesem Modell. Achten Sie darauf, dass einige Variablen qualitativ sind."
   ]
  },
  {
   "cell_type": "markdown",
   "metadata": {},
   "source": [
    "* 13.04 ist schwierig zu interpretieren. Mittelwert aller Verkäufe, auch bei einem Preis von \\$0.\n",
    "* nimmt der Preis um 1 Dollar zu, nehmen die Verkäufe um $-0.05$ Einheiten ab.\n",
    "* Der Verkauft in ländlichen Gebieten ist eher kleiner. $p$-Wert aber ist aber nicht signifikant $\\Rightarrow$ zufällig\n",
    "* in den USA werden mehr Sitze gekauft, als anderswo\n",
    "\n",
    "`Price`und `US` sind signifikant, ob Autositz in `Urban` gekauft wird hat keinen Zusammenhang mit `Sales`"
   ]
  },
  {
   "cell_type": "markdown",
   "metadata": {},
   "source": [
    "d) Schreiben Sie das Modell in Gleichungsform. Achten Sie darauf, dass Sie die qualitativen Variablen richtig behandeln."
   ]
  },
  {
   "cell_type": "markdown",
   "metadata": {},
   "source": [
    "$$Urban = x_{2i}= \\cases{\n",
    "      0, & falls $i$-te Person in der Stadt lebt \\\\\n",
    "      1, & falls $i$-te Person auf dem Land lebt}$$\n",
    "$$US = x_{3i}= \\cases{\n",
    "0, & falls $i$-te Person in der USA lebt \\\\\n",
    "1, & falls $i$-te Person nicht in der USA lebt}$$\n",
    "$$Sales =\\beta_0 + \\beta_1 * Price + \\beta_2 * x_{2i} + \\beta_3 * x_{3i}$$"
   ]
  },
  {
   "cell_type": "markdown",
   "metadata": {},
   "source": [
    "e) Für welche Prädiktoren kann die Nullhypothese $H_0 : \\beta_j = 0$ verworfen werden?"
   ]
  },
  {
   "cell_type": "markdown",
   "metadata": {},
   "source": [
    "alle ausser `Urban`, die ist statistisch nicht signifikant."
   ]
  },
  {
   "cell_type": "markdown",
   "metadata": {},
   "source": [
    "f) Auf der Basis der vorhergehenden Frage, finden Sie ein kleineres Modell, das nur Prädiktoren verwendet für die es Hinweise auf einen Zusammenhang mit der Zielvariablen gibt."
   ]
  },
  {
   "cell_type": "code",
   "execution_count": 3,
   "metadata": {},
   "outputs": [
    {
     "data": {
      "text/plain": [
       "\n",
       "Call:\n",
       "lm(formula = Sales ~ Price + US, data = Carseats)\n",
       "\n",
       "Residuals:\n",
       "    Min      1Q  Median      3Q     Max \n",
       "-6.9269 -1.6286 -0.0574  1.5766  7.0515 \n",
       "\n",
       "Coefficients:\n",
       "            Estimate Std. Error t value Pr(>|t|)    \n",
       "(Intercept) 13.03079    0.63098  20.652  < 2e-16 ***\n",
       "Price       -0.05448    0.00523 -10.416  < 2e-16 ***\n",
       "USYes        1.19964    0.25846   4.641 4.71e-06 ***\n",
       "---\n",
       "Signif. codes:  0 ‘***’ 0.001 ‘**’ 0.01 ‘*’ 0.05 ‘.’ 0.1 ‘ ’ 1\n",
       "\n",
       "Residual standard error: 2.469 on 397 degrees of freedom\n",
       "Multiple R-squared:  0.2393,\tAdjusted R-squared:  0.2354 \n",
       "F-statistic: 62.43 on 2 and 397 DF,  p-value: < 2.2e-16\n"
      ]
     },
     "metadata": {},
     "output_type": "display_data"
    }
   ],
   "source": [
    "fitterFit <- lm(Sales ~ Price + US, data = Carseats)\n",
    "summary(fitterFit)"
   ]
  },
  {
   "cell_type": "markdown",
   "metadata": {},
   "source": [
    "g) Wie genau passen die Modelle in a) und e) die Daten an?  \n",
    "\n",
    "Die Variablen haben einen statistisch signifikanten Zusammenhang. Allerdings ist der $R^2$-Wert schlecht. Die Daten erklären das Modell schlecht."
   ]
  },
  {
   "cell_type": "markdown",
   "metadata": {},
   "source": [
    "## Aufgabe 13.2\n",
    "Wir führen noch eine multiple lineare Regression für Auto aus der letzten Übung durch.\n",
    "\n",
    "a) Bestimmen Sie mit `regsubset` mit Option `forward`, das multiple Regressionsmodell mit zwei Prädiktoren und bestimmen Sie die Koeffizienten diese Modelles. Interpretieren Sie die Koeffizienten."
   ]
  },
  {
   "cell_type": "code",
   "execution_count": 2,
   "metadata": {},
   "outputs": [
    {
     "data": {
      "text/html": [
       "<table>\n",
       "<caption>A matrix: 7 × 8 of type lgl</caption>\n",
       "<thead>\n",
       "\t<tr><th></th><th scope=col>(Intercept)</th><th scope=col>cylinders</th><th scope=col>displacement</th><th scope=col>horsepower</th><th scope=col>weight</th><th scope=col>acceleration</th><th scope=col>year</th><th scope=col>origin</th></tr>\n",
       "</thead>\n",
       "<tbody>\n",
       "\t<tr><th scope=row>1</th><td>TRUE</td><td>FALSE</td><td>FALSE</td><td>FALSE</td><td>TRUE</td><td>FALSE</td><td>FALSE</td><td>FALSE</td></tr>\n",
       "\t<tr><th scope=row>2</th><td>TRUE</td><td>FALSE</td><td>FALSE</td><td>FALSE</td><td>TRUE</td><td>FALSE</td><td> TRUE</td><td>FALSE</td></tr>\n",
       "\t<tr><th scope=row>3</th><td>TRUE</td><td>FALSE</td><td>FALSE</td><td>FALSE</td><td>TRUE</td><td>FALSE</td><td> TRUE</td><td> TRUE</td></tr>\n",
       "\t<tr><th scope=row>4</th><td>TRUE</td><td>FALSE</td><td> TRUE</td><td>FALSE</td><td>TRUE</td><td>FALSE</td><td> TRUE</td><td> TRUE</td></tr>\n",
       "\t<tr><th scope=row>5</th><td>TRUE</td><td>FALSE</td><td> TRUE</td><td> TRUE</td><td>TRUE</td><td>FALSE</td><td> TRUE</td><td> TRUE</td></tr>\n",
       "\t<tr><th scope=row>6</th><td>TRUE</td><td> TRUE</td><td> TRUE</td><td> TRUE</td><td>TRUE</td><td>FALSE</td><td> TRUE</td><td> TRUE</td></tr>\n",
       "\t<tr><th scope=row>7</th><td>TRUE</td><td> TRUE</td><td> TRUE</td><td> TRUE</td><td>TRUE</td><td> TRUE</td><td> TRUE</td><td> TRUE</td></tr>\n",
       "</tbody>\n",
       "</table>\n"
      ],
      "text/latex": [
       "A matrix: 7 × 8 of type lgl\n",
       "\\begin{tabular}{r|llllllll}\n",
       "  & (Intercept) & cylinders & displacement & horsepower & weight & acceleration & year & origin\\\\\n",
       "\\hline\n",
       "\t1 & TRUE & FALSE & FALSE & FALSE & TRUE & FALSE & FALSE & FALSE\\\\\n",
       "\t2 & TRUE & FALSE & FALSE & FALSE & TRUE & FALSE &  TRUE & FALSE\\\\\n",
       "\t3 & TRUE & FALSE & FALSE & FALSE & TRUE & FALSE &  TRUE &  TRUE\\\\\n",
       "\t4 & TRUE & FALSE &  TRUE & FALSE & TRUE & FALSE &  TRUE &  TRUE\\\\\n",
       "\t5 & TRUE & FALSE &  TRUE &  TRUE & TRUE & FALSE &  TRUE &  TRUE\\\\\n",
       "\t6 & TRUE &  TRUE &  TRUE &  TRUE & TRUE & FALSE &  TRUE &  TRUE\\\\\n",
       "\t7 & TRUE &  TRUE &  TRUE &  TRUE & TRUE &  TRUE &  TRUE &  TRUE\\\\\n",
       "\\end{tabular}\n"
      ],
      "text/markdown": [
       "\n",
       "A matrix: 7 × 8 of type lgl\n",
       "\n",
       "| <!--/--> | (Intercept) | cylinders | displacement | horsepower | weight | acceleration | year | origin |\n",
       "|---|---|---|---|---|---|---|---|---|\n",
       "| 1 | TRUE | FALSE | FALSE | FALSE | TRUE | FALSE | FALSE | FALSE |\n",
       "| 2 | TRUE | FALSE | FALSE | FALSE | TRUE | FALSE |  TRUE | FALSE |\n",
       "| 3 | TRUE | FALSE | FALSE | FALSE | TRUE | FALSE |  TRUE |  TRUE |\n",
       "| 4 | TRUE | FALSE |  TRUE | FALSE | TRUE | FALSE |  TRUE |  TRUE |\n",
       "| 5 | TRUE | FALSE |  TRUE |  TRUE | TRUE | FALSE |  TRUE |  TRUE |\n",
       "| 6 | TRUE |  TRUE |  TRUE |  TRUE | TRUE | FALSE |  TRUE |  TRUE |\n",
       "| 7 | TRUE |  TRUE |  TRUE |  TRUE | TRUE |  TRUE |  TRUE |  TRUE |\n",
       "\n"
      ],
      "text/plain": [
       "  (Intercept) cylinders displacement horsepower weight acceleration year \n",
       "1 TRUE        FALSE     FALSE        FALSE      TRUE   FALSE        FALSE\n",
       "2 TRUE        FALSE     FALSE        FALSE      TRUE   FALSE         TRUE\n",
       "3 TRUE        FALSE     FALSE        FALSE      TRUE   FALSE         TRUE\n",
       "4 TRUE        FALSE      TRUE        FALSE      TRUE   FALSE         TRUE\n",
       "5 TRUE        FALSE      TRUE         TRUE      TRUE   FALSE         TRUE\n",
       "6 TRUE         TRUE      TRUE         TRUE      TRUE   FALSE         TRUE\n",
       "7 TRUE         TRUE      TRUE         TRUE      TRUE    TRUE         TRUE\n",
       "  origin\n",
       "1 FALSE \n",
       "2 FALSE \n",
       "3  TRUE \n",
       "4  TRUE \n",
       "5  TRUE \n",
       "6  TRUE \n",
       "7  TRUE "
      ]
     },
     "metadata": {},
     "output_type": "display_data"
    }
   ],
   "source": [
    "library(ISLR)\n",
    "library(leaps)\n",
    "reg <- regsubsets(mpg ~ ., data = Auto[ , -9], method=\"forward\")\n",
    "reg.sum <- summary(reg)\n",
    "reg.sum$which"
   ]
  },
  {
   "cell_type": "code",
   "execution_count": 5,
   "metadata": {},
   "outputs": [
    {
     "data": {
      "text/html": [
       "<table>\n",
       "<caption>A matrix: 3 × 4 of type dbl</caption>\n",
       "<thead>\n",
       "\t<tr><th></th><th scope=col>Estimate</th><th scope=col>Std. Error</th><th scope=col>t value</th><th scope=col>Pr(&gt;|t|)</th></tr>\n",
       "</thead>\n",
       "<tbody>\n",
       "\t<tr><th scope=row>(Intercept)</th><td>-14.347253018</td><td>4.0065185631</td><td> -3.580978</td><td> 3.856624e-04</td></tr>\n",
       "\t<tr><th scope=row>weight</th><td> -0.006632075</td><td>0.0002145559</td><td>-30.910708</td><td>8.361624e-107</td></tr>\n",
       "\t<tr><th scope=row>year</th><td>  0.757318281</td><td>0.0494726873</td><td> 15.307806</td><td> 9.772260e-42</td></tr>\n",
       "</tbody>\n",
       "</table>\n"
      ],
      "text/latex": [
       "A matrix: 3 × 4 of type dbl\n",
       "\\begin{tabular}{r|llll}\n",
       "  & Estimate & Std. Error & t value & Pr(>\\textbar{}t\\textbar{})\\\\\n",
       "\\hline\n",
       "\t(Intercept) & -14.347253018 & 4.0065185631 &  -3.580978 &  3.856624e-04\\\\\n",
       "\tweight &  -0.006632075 & 0.0002145559 & -30.910708 & 8.361624e-107\\\\\n",
       "\tyear &   0.757318281 & 0.0494726873 &  15.307806 &  9.772260e-42\\\\\n",
       "\\end{tabular}\n"
      ],
      "text/markdown": [
       "\n",
       "A matrix: 3 × 4 of type dbl\n",
       "\n",
       "| <!--/--> | Estimate | Std. Error | t value | Pr(&gt;|t|) |\n",
       "|---|---|---|---|---|\n",
       "| (Intercept) | -14.347253018 | 4.0065185631 |  -3.580978 |  3.856624e-04 |\n",
       "| weight |  -0.006632075 | 0.0002145559 | -30.910708 | 8.361624e-107 |\n",
       "| year |   0.757318281 | 0.0494726873 |  15.307806 |  9.772260e-42 |\n",
       "\n"
      ],
      "text/plain": [
       "            Estimate      Std. Error   t value    Pr(>|t|)     \n",
       "(Intercept) -14.347253018 4.0065185631  -3.580978  3.856624e-04\n",
       "weight       -0.006632075 0.0002145559 -30.910708 8.361624e-107\n",
       "year          0.757318281 0.0494726873  15.307806  9.772260e-42"
      ]
     },
     "metadata": {},
     "output_type": "display_data"
    }
   ],
   "source": [
    "fitCar <- lm(mpg ~ weight + year, data=Auto)\n",
    "summary(fitCar)$coef"
   ]
  },
  {
   "cell_type": "code",
   "execution_count": 6,
   "metadata": {},
   "outputs": [
    {
     "data": {
      "text/html": [
       "<table>\n",
       "<caption>A matrix: 4 × 4 of type dbl</caption>\n",
       "<thead>\n",
       "\t<tr><th></th><th scope=col>Estimate</th><th scope=col>Std. Error</th><th scope=col>t value</th><th scope=col>Pr(&gt;|t|)</th></tr>\n",
       "</thead>\n",
       "<tbody>\n",
       "\t<tr><th scope=row>(Intercept)</th><td>-1.104519e+02</td><td>1.294697e+01</td><td>-8.531103</td><td>3.295213e-16</td></tr>\n",
       "\t<tr><th scope=row>weight</th><td> 2.754652e-02</td><td>4.413436e-03</td><td> 6.241514</td><td>1.136624e-09</td></tr>\n",
       "\t<tr><th scope=row>year</th><td> 2.040476e+00</td><td>1.718209e-01</td><td>11.875599</td><td>5.881890e-28</td></tr>\n",
       "\t<tr><th scope=row>weight:year</th><td>-4.579323e-04</td><td>5.907150e-05</td><td>-7.752171</td><td>8.015486e-14</td></tr>\n",
       "</tbody>\n",
       "</table>\n"
      ],
      "text/latex": [
       "A matrix: 4 × 4 of type dbl\n",
       "\\begin{tabular}{r|llll}\n",
       "  & Estimate & Std. Error & t value & Pr(>\\textbar{}t\\textbar{})\\\\\n",
       "\\hline\n",
       "\t(Intercept) & -1.104519e+02 & 1.294697e+01 & -8.531103 & 3.295213e-16\\\\\n",
       "\tweight &  2.754652e-02 & 4.413436e-03 &  6.241514 & 1.136624e-09\\\\\n",
       "\tyear &  2.040476e+00 & 1.718209e-01 & 11.875599 & 5.881890e-28\\\\\n",
       "\tweight:year & -4.579323e-04 & 5.907150e-05 & -7.752171 & 8.015486e-14\\\\\n",
       "\\end{tabular}\n"
      ],
      "text/markdown": [
       "\n",
       "A matrix: 4 × 4 of type dbl\n",
       "\n",
       "| <!--/--> | Estimate | Std. Error | t value | Pr(&gt;|t|) |\n",
       "|---|---|---|---|---|\n",
       "| (Intercept) | -1.104519e+02 | 1.294697e+01 | -8.531103 | 3.295213e-16 |\n",
       "| weight |  2.754652e-02 | 4.413436e-03 |  6.241514 | 1.136624e-09 |\n",
       "| year |  2.040476e+00 | 1.718209e-01 | 11.875599 | 5.881890e-28 |\n",
       "| weight:year | -4.579323e-04 | 5.907150e-05 | -7.752171 | 8.015486e-14 |\n",
       "\n"
      ],
      "text/plain": [
       "            Estimate      Std. Error   t value   Pr(>|t|)    \n",
       "(Intercept) -1.104519e+02 1.294697e+01 -8.531103 3.295213e-16\n",
       "weight       2.754652e-02 4.413436e-03  6.241514 1.136624e-09\n",
       "year         2.040476e+00 1.718209e-01 11.875599 5.881890e-28\n",
       "weight:year -4.579323e-04 5.907150e-05 -7.752171 8.015486e-14"
      ]
     },
     "metadata": {},
     "output_type": "display_data"
    }
   ],
   "source": [
    "fitCar <- lm(mpg ~ weight * year, data=Auto)\n",
    "summary(fitCar)$coef"
   ]
  },
  {
   "cell_type": "markdown",
   "metadata": {},
   "source": [
    "* Die Reichweite nimmt mit dem steigendem Gewicht ab\n",
    "* Je älter das Auto umso weniger Reichweite pro Gallone"
   ]
  },
  {
   "cell_type": "markdown",
   "metadata": {},
   "source": [
    "b) Hätte es einen Unterschied gegeben, wenn wir die Option backward gewählt hätten?"
   ]
  },
  {
   "cell_type": "code",
   "execution_count": 7,
   "metadata": {},
   "outputs": [
    {
     "data": {
      "text/html": [
       "<table>\n",
       "<caption>A matrix: 7 × 8 of type lgl</caption>\n",
       "<thead>\n",
       "\t<tr><th></th><th scope=col>(Intercept)</th><th scope=col>cylinders</th><th scope=col>displacement</th><th scope=col>horsepower</th><th scope=col>weight</th><th scope=col>acceleration</th><th scope=col>year</th><th scope=col>origin</th></tr>\n",
       "</thead>\n",
       "<tbody>\n",
       "\t<tr><th scope=row>1</th><td>TRUE</td><td>FALSE</td><td>FALSE</td><td>FALSE</td><td>TRUE</td><td>FALSE</td><td>FALSE</td><td>FALSE</td></tr>\n",
       "\t<tr><th scope=row>2</th><td>TRUE</td><td>FALSE</td><td>FALSE</td><td>FALSE</td><td>TRUE</td><td>FALSE</td><td> TRUE</td><td>FALSE</td></tr>\n",
       "\t<tr><th scope=row>3</th><td>TRUE</td><td>FALSE</td><td>FALSE</td><td>FALSE</td><td>TRUE</td><td>FALSE</td><td> TRUE</td><td> TRUE</td></tr>\n",
       "\t<tr><th scope=row>4</th><td>TRUE</td><td>FALSE</td><td> TRUE</td><td>FALSE</td><td>TRUE</td><td>FALSE</td><td> TRUE</td><td> TRUE</td></tr>\n",
       "\t<tr><th scope=row>5</th><td>TRUE</td><td>FALSE</td><td> TRUE</td><td> TRUE</td><td>TRUE</td><td>FALSE</td><td> TRUE</td><td> TRUE</td></tr>\n",
       "\t<tr><th scope=row>6</th><td>TRUE</td><td> TRUE</td><td> TRUE</td><td> TRUE</td><td>TRUE</td><td>FALSE</td><td> TRUE</td><td> TRUE</td></tr>\n",
       "\t<tr><th scope=row>7</th><td>TRUE</td><td> TRUE</td><td> TRUE</td><td> TRUE</td><td>TRUE</td><td> TRUE</td><td> TRUE</td><td> TRUE</td></tr>\n",
       "</tbody>\n",
       "</table>\n"
      ],
      "text/latex": [
       "A matrix: 7 × 8 of type lgl\n",
       "\\begin{tabular}{r|llllllll}\n",
       "  & (Intercept) & cylinders & displacement & horsepower & weight & acceleration & year & origin\\\\\n",
       "\\hline\n",
       "\t1 & TRUE & FALSE & FALSE & FALSE & TRUE & FALSE & FALSE & FALSE\\\\\n",
       "\t2 & TRUE & FALSE & FALSE & FALSE & TRUE & FALSE &  TRUE & FALSE\\\\\n",
       "\t3 & TRUE & FALSE & FALSE & FALSE & TRUE & FALSE &  TRUE &  TRUE\\\\\n",
       "\t4 & TRUE & FALSE &  TRUE & FALSE & TRUE & FALSE &  TRUE &  TRUE\\\\\n",
       "\t5 & TRUE & FALSE &  TRUE &  TRUE & TRUE & FALSE &  TRUE &  TRUE\\\\\n",
       "\t6 & TRUE &  TRUE &  TRUE &  TRUE & TRUE & FALSE &  TRUE &  TRUE\\\\\n",
       "\t7 & TRUE &  TRUE &  TRUE &  TRUE & TRUE &  TRUE &  TRUE &  TRUE\\\\\n",
       "\\end{tabular}\n"
      ],
      "text/markdown": [
       "\n",
       "A matrix: 7 × 8 of type lgl\n",
       "\n",
       "| <!--/--> | (Intercept) | cylinders | displacement | horsepower | weight | acceleration | year | origin |\n",
       "|---|---|---|---|---|---|---|---|---|\n",
       "| 1 | TRUE | FALSE | FALSE | FALSE | TRUE | FALSE | FALSE | FALSE |\n",
       "| 2 | TRUE | FALSE | FALSE | FALSE | TRUE | FALSE |  TRUE | FALSE |\n",
       "| 3 | TRUE | FALSE | FALSE | FALSE | TRUE | FALSE |  TRUE |  TRUE |\n",
       "| 4 | TRUE | FALSE |  TRUE | FALSE | TRUE | FALSE |  TRUE |  TRUE |\n",
       "| 5 | TRUE | FALSE |  TRUE |  TRUE | TRUE | FALSE |  TRUE |  TRUE |\n",
       "| 6 | TRUE |  TRUE |  TRUE |  TRUE | TRUE | FALSE |  TRUE |  TRUE |\n",
       "| 7 | TRUE |  TRUE |  TRUE |  TRUE | TRUE |  TRUE |  TRUE |  TRUE |\n",
       "\n"
      ],
      "text/plain": [
       "  (Intercept) cylinders displacement horsepower weight acceleration year \n",
       "1 TRUE        FALSE     FALSE        FALSE      TRUE   FALSE        FALSE\n",
       "2 TRUE        FALSE     FALSE        FALSE      TRUE   FALSE         TRUE\n",
       "3 TRUE        FALSE     FALSE        FALSE      TRUE   FALSE         TRUE\n",
       "4 TRUE        FALSE      TRUE        FALSE      TRUE   FALSE         TRUE\n",
       "5 TRUE        FALSE      TRUE         TRUE      TRUE   FALSE         TRUE\n",
       "6 TRUE         TRUE      TRUE         TRUE      TRUE   FALSE         TRUE\n",
       "7 TRUE         TRUE      TRUE         TRUE      TRUE    TRUE         TRUE\n",
       "  origin\n",
       "1 FALSE \n",
       "2 FALSE \n",
       "3  TRUE \n",
       "4  TRUE \n",
       "5  TRUE \n",
       "6  TRUE \n",
       "7  TRUE "
      ]
     },
     "metadata": {},
     "output_type": "display_data"
    }
   ],
   "source": [
    "regB <- regsubsets(mpg ~ ., data = Auto[ , -9], method=\"backward\")\n",
    "regB.sum <- summary(regB)\n",
    "regB.sum$which"
   ]
  },
  {
   "cell_type": "markdown",
   "metadata": {},
   "source": [
    "## Test zu Rückwärtsselektion"
   ]
  },
  {
   "cell_type": "code",
   "execution_count": 15,
   "metadata": {},
   "outputs": [
    {
     "data": {
      "text/plain": [
       "\n",
       "Call:\n",
       "lm(formula = mpg ~ ., data = Auto[, -9])\n",
       "\n",
       "Residuals:\n",
       "    Min      1Q  Median      3Q     Max \n",
       "-9.5903 -2.1565 -0.1169  1.8690 13.0604 \n",
       "\n",
       "Coefficients:\n",
       "               Estimate Std. Error t value Pr(>|t|)    \n",
       "(Intercept)  -17.218435   4.644294  -3.707  0.00024 ***\n",
       "cylinders     -0.493376   0.323282  -1.526  0.12780    \n",
       "displacement   0.019896   0.007515   2.647  0.00844 ** \n",
       "horsepower    -0.016951   0.013787  -1.230  0.21963    \n",
       "weight        -0.006474   0.000652  -9.929  < 2e-16 ***\n",
       "acceleration   0.080576   0.098845   0.815  0.41548    \n",
       "year           0.750773   0.050973  14.729  < 2e-16 ***\n",
       "origin         1.426141   0.278136   5.127 4.67e-07 ***\n",
       "---\n",
       "Signif. codes:  0 ‘***’ 0.001 ‘**’ 0.01 ‘*’ 0.05 ‘.’ 0.1 ‘ ’ 1\n",
       "\n",
       "Residual standard error: 3.328 on 384 degrees of freedom\n",
       "Multiple R-squared:  0.8215,\tAdjusted R-squared:  0.8182 \n",
       "F-statistic: 252.4 on 7 and 384 DF,  p-value: < 2.2e-16\n"
      ]
     },
     "metadata": {},
     "output_type": "display_data"
    }
   ],
   "source": [
    "f.full <- lm(mpg ~ ., data = Auto[ , -9])\n",
    "f.empty <- lm(mpg ~ NULL, data = Auto[ , -9])\n",
    "summary(f.full)"
   ]
  },
  {
   "cell_type": "code",
   "execution_count": 16,
   "metadata": {},
   "outputs": [
    {
     "data": {
      "text/html": [
       "<table>\n",
       "<caption>A anova: 8 × 4</caption>\n",
       "<thead>\n",
       "\t<tr><th></th><th scope=col>Df</th><th scope=col>Sum of Sq</th><th scope=col>RSS</th><th scope=col>AIC</th></tr>\n",
       "\t<tr><th></th><th scope=col>&lt;dbl&gt;</th><th scope=col>&lt;dbl&gt;</th><th scope=col>&lt;dbl&gt;</th><th scope=col>&lt;dbl&gt;</th></tr>\n",
       "</thead>\n",
       "<tbody>\n",
       "\t<tr><th scope=row>&lt;none&gt;</th><td>NA</td><td>         NA</td><td>4252.213</td><td> 950.5017</td></tr>\n",
       "\t<tr><th scope=row>cylinders</th><td> 1</td><td>  25.791491</td><td>4278.004</td><td> 950.8722</td></tr>\n",
       "\t<tr><th scope=row>displacement</th><td> 1</td><td>  77.612668</td><td>4329.825</td><td> 955.5921</td></tr>\n",
       "\t<tr><th scope=row>horsepower</th><td> 1</td><td>  16.739754</td><td>4268.952</td><td> 950.0419</td></tr>\n",
       "\t<tr><th scope=row>weight</th><td> 1</td><td>1091.631693</td><td>5343.844</td><td>1038.0760</td></tr>\n",
       "\t<tr><th scope=row>acceleration</th><td> 1</td><td>   7.358417</td><td>4259.571</td><td> 949.1795</td></tr>\n",
       "\t<tr><th scope=row>year</th><td> 1</td><td>2402.249906</td><td>6654.462</td><td>1124.0582</td></tr>\n",
       "\t<tr><th scope=row>origin</th><td> 1</td><td> 291.134494</td><td>4543.347</td><td> 974.4617</td></tr>\n",
       "</tbody>\n",
       "</table>\n"
      ],
      "text/latex": [
       "A anova: 8 × 4\n",
       "\\begin{tabular}{r|llll}\n",
       "  & Df & Sum of Sq & RSS & AIC\\\\\n",
       "  & <dbl> & <dbl> & <dbl> & <dbl>\\\\\n",
       "\\hline\n",
       "\t<none> & NA &          NA & 4252.213 &  950.5017\\\\\n",
       "\tcylinders &  1 &   25.791491 & 4278.004 &  950.8722\\\\\n",
       "\tdisplacement &  1 &   77.612668 & 4329.825 &  955.5921\\\\\n",
       "\thorsepower &  1 &   16.739754 & 4268.952 &  950.0419\\\\\n",
       "\tweight &  1 & 1091.631693 & 5343.844 & 1038.0760\\\\\n",
       "\tacceleration &  1 &    7.358417 & 4259.571 &  949.1795\\\\\n",
       "\tyear &  1 & 2402.249906 & 6654.462 & 1124.0582\\\\\n",
       "\torigin &  1 &  291.134494 & 4543.347 &  974.4617\\\\\n",
       "\\end{tabular}\n"
      ],
      "text/markdown": [
       "\n",
       "A anova: 8 × 4\n",
       "\n",
       "| <!--/--> | Df &lt;dbl&gt; | Sum of Sq &lt;dbl&gt; | RSS &lt;dbl&gt; | AIC &lt;dbl&gt; |\n",
       "|---|---|---|---|---|\n",
       "| &lt;none&gt; | NA |          NA | 4252.213 |  950.5017 |\n",
       "| cylinders |  1 |   25.791491 | 4278.004 |  950.8722 |\n",
       "| displacement |  1 |   77.612668 | 4329.825 |  955.5921 |\n",
       "| horsepower |  1 |   16.739754 | 4268.952 |  950.0419 |\n",
       "| weight |  1 | 1091.631693 | 5343.844 | 1038.0760 |\n",
       "| acceleration |  1 |    7.358417 | 4259.571 |  949.1795 |\n",
       "| year |  1 | 2402.249906 | 6654.462 | 1124.0582 |\n",
       "| origin |  1 |  291.134494 | 4543.347 |  974.4617 |\n",
       "\n"
      ],
      "text/plain": [
       "             Df Sum of Sq   RSS      AIC      \n",
       "<none>       NA          NA 4252.213  950.5017\n",
       "cylinders     1   25.791491 4278.004  950.8722\n",
       "displacement  1   77.612668 4329.825  955.5921\n",
       "horsepower    1   16.739754 4268.952  950.0419\n",
       "weight        1 1091.631693 5343.844 1038.0760\n",
       "acceleration  1    7.358417 4259.571  949.1795\n",
       "year          1 2402.249906 6654.462 1124.0582\n",
       "origin        1  291.134494 4543.347  974.4617"
      ]
     },
     "metadata": {},
     "output_type": "display_data"
    }
   ],
   "source": [
    "drop1(f.full, scope = f.full, trace = TRUE)"
   ]
  },
  {
   "cell_type": "code",
   "execution_count": 17,
   "metadata": {},
   "outputs": [
    {
     "data": {
      "text/html": [
       "<table>\n",
       "<caption>A anova: 7 × 4</caption>\n",
       "<thead>\n",
       "\t<tr><th></th><th scope=col>Df</th><th scope=col>Sum of Sq</th><th scope=col>RSS</th><th scope=col>AIC</th></tr>\n",
       "\t<tr><th></th><th scope=col>&lt;dbl&gt;</th><th scope=col>&lt;dbl&gt;</th><th scope=col>&lt;dbl&gt;</th><th scope=col>&lt;dbl&gt;</th></tr>\n",
       "</thead>\n",
       "<tbody>\n",
       "\t<tr><th scope=row>&lt;none&gt;</th><td>NA</td><td>        NA</td><td>4259.571</td><td> 949.1795</td></tr>\n",
       "\t<tr><th scope=row>cylinders</th><td> 1</td><td>  27.27126</td><td>4286.842</td><td> 949.6812</td></tr>\n",
       "\t<tr><th scope=row>displacement</th><td> 1</td><td>  73.57187</td><td>4333.143</td><td> 953.8923</td></tr>\n",
       "\t<tr><th scope=row>horsepower</th><td> 1</td><td>  53.80189</td><td>4313.373</td><td> 952.0997</td></tr>\n",
       "\t<tr><th scope=row>weight</th><td> 1</td><td>1310.43126</td><td>5570.002</td><td>1052.3244</td></tr>\n",
       "\t<tr><th scope=row>year</th><td> 1</td><td>2396.17365</td><td>6655.745</td><td>1122.1337</td></tr>\n",
       "\t<tr><th scope=row>origin</th><td> 1</td><td> 292.01817</td><td>4551.589</td><td> 973.1722</td></tr>\n",
       "</tbody>\n",
       "</table>\n"
      ],
      "text/latex": [
       "A anova: 7 × 4\n",
       "\\begin{tabular}{r|llll}\n",
       "  & Df & Sum of Sq & RSS & AIC\\\\\n",
       "  & <dbl> & <dbl> & <dbl> & <dbl>\\\\\n",
       "\\hline\n",
       "\t<none> & NA &         NA & 4259.571 &  949.1795\\\\\n",
       "\tcylinders &  1 &   27.27126 & 4286.842 &  949.6812\\\\\n",
       "\tdisplacement &  1 &   73.57187 & 4333.143 &  953.8923\\\\\n",
       "\thorsepower &  1 &   53.80189 & 4313.373 &  952.0997\\\\\n",
       "\tweight &  1 & 1310.43126 & 5570.002 & 1052.3244\\\\\n",
       "\tyear &  1 & 2396.17365 & 6655.745 & 1122.1337\\\\\n",
       "\torigin &  1 &  292.01817 & 4551.589 &  973.1722\\\\\n",
       "\\end{tabular}\n"
      ],
      "text/markdown": [
       "\n",
       "A anova: 7 × 4\n",
       "\n",
       "| <!--/--> | Df &lt;dbl&gt; | Sum of Sq &lt;dbl&gt; | RSS &lt;dbl&gt; | AIC &lt;dbl&gt; |\n",
       "|---|---|---|---|---|\n",
       "| &lt;none&gt; | NA |         NA | 4259.571 |  949.1795 |\n",
       "| cylinders |  1 |   27.27126 | 4286.842 |  949.6812 |\n",
       "| displacement |  1 |   73.57187 | 4333.143 |  953.8923 |\n",
       "| horsepower |  1 |   53.80189 | 4313.373 |  952.0997 |\n",
       "| weight |  1 | 1310.43126 | 5570.002 | 1052.3244 |\n",
       "| year |  1 | 2396.17365 | 6655.745 | 1122.1337 |\n",
       "| origin |  1 |  292.01817 | 4551.589 |  973.1722 |\n",
       "\n"
      ],
      "text/plain": [
       "             Df Sum of Sq  RSS      AIC      \n",
       "<none>       NA         NA 4259.571  949.1795\n",
       "cylinders     1   27.27126 4286.842  949.6812\n",
       "displacement  1   73.57187 4333.143  953.8923\n",
       "horsepower    1   53.80189 4313.373  952.0997\n",
       "weight        1 1310.43126 5570.002 1052.3244\n",
       "year          1 2396.17365 6655.745 1122.1337\n",
       "origin        1  292.01817 4551.589  973.1722"
      ]
     },
     "metadata": {},
     "output_type": "display_data"
    }
   ],
   "source": [
    "f.7 <- update(f.full, . ~. - acceleration)\n",
    "drop1(f.7, scope = f.7, trace = TRUE)"
   ]
  },
  {
   "cell_type": "code",
   "execution_count": null,
   "metadata": {},
   "outputs": [],
   "source": []
  }
 ],
 "metadata": {
  "kernelspec": {
   "display_name": "R",
   "language": "R",
   "name": "ir"
  },
  "language_info": {
   "codemirror_mode": "r",
   "file_extension": ".r",
   "mimetype": "text/x-r-source",
   "name": "R",
   "pygments_lexer": "r",
   "version": "4.0.2"
  }
 },
 "nbformat": 4,
 "nbformat_minor": 4
}

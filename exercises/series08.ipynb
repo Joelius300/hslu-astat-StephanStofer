{
 "cells": [
  {
   "cell_type": "markdown",
   "metadata": {},
   "source": [
    "# Serie 08\n",
    "## Aufgabe 8.1\n",
    "Die Zeit, die ein Passagier an einem Flughafen Check-in Schalter verbringt ist eine Zufallsvariable mit Mittelwert 8.2 Minuten und Standardabweichung 6 Minuten. Wir beobachten zufällig 36 Passgiere."
   ]
  },
  {
   "cell_type": "markdown",
   "metadata": {},
   "source": [
    "a) Berechnen Sie die Wahrscheinlichkeit, dass die durchschnittliche Wartezeit dieser Passagiere weniger als 10 Minuten beträgt."
   ]
  },
  {
   "cell_type": "code",
   "execution_count": 1,
   "metadata": {},
   "outputs": [
    {
     "data": {
      "text/html": [
       "0.964069680887074"
      ],
      "text/latex": [
       "0.964069680887074"
      ],
      "text/markdown": [
       "0.964069680887074"
      ],
      "text/plain": [
       "[1] 0.9640697"
      ]
     },
     "metadata": {},
     "output_type": "display_data"
    }
   ],
   "source": [
    "mu <- 8.2\n",
    "sigmaX <- 6\n",
    "n <- 36\n",
    "\n",
    "pl10 <- pnorm(10,mu,sigmaX^2/n)\n",
    "pl10"
   ]
  },
  {
   "cell_type": "markdown",
   "metadata": {},
   "source": [
    "b) Berechnen Sie die Wahrscheinlichkeit, dass die durchschnittliche Wartezeit dieser Passagiere zwischen 5 und 10 Minuten beträgt."
   ]
  },
  {
   "cell_type": "code",
   "execution_count": 2,
   "metadata": {},
   "outputs": [
    {
     "data": {
      "text/html": [
       "0.963382542949158"
      ],
      "text/latex": [
       "0.963382542949158"
      ],
      "text/markdown": [
       "0.963382542949158"
      ],
      "text/plain": [
       "[1] 0.9633825"
      ]
     },
     "metadata": {},
     "output_type": "display_data"
    }
   ],
   "source": [
    "pl10 - pnorm(5,mu,sigmaX^2/n)\n",
    "# Der Unterschied zu b) ist sehr klein. Das heisst aber auch, dass die Wahrscheinlichkeit, \n",
    "# dass der Durchschnitt unter 5 Minuten liegt sehr klein ist."
   ]
  },
  {
   "cell_type": "markdown",
   "metadata": {},
   "source": [
    "c) Berechnen Sie die Wahrscheinlichkeit, dass die durchschnittliche Wartezeit dieser Passagiere mehr als 20 Minuten beträgt."
   ]
  },
  {
   "cell_type": "code",
   "execution_count": 3,
   "metadata": {},
   "outputs": [
    {
     "data": {
      "text/html": [
       "0"
      ],
      "text/latex": [
       "0"
      ],
      "text/markdown": [
       "0"
      ],
      "text/plain": [
       "[1] 0"
      ]
     },
     "metadata": {},
     "output_type": "display_data"
    }
   ],
   "source": [
    "pg20 <- 1 - pnorm(20,mu,sigmaX^2/n)\n",
    "pg20"
   ]
  },
  {
   "cell_type": "markdown",
   "metadata": {},
   "source": [
    "d) Alle haben wohl schon die Erfahrung gemacht, dass man länger beim Check-in gewartet hat. Warum ist die Wahrscheinlichkeit von c) dann so klein?"
   ]
  },
  {
   "cell_type": "markdown",
   "metadata": {},
   "source": [
    "Die Wahrscheinlichkeit, dass man selber mehr als 20 Minuten warten kann, ist natürlich viel grösser.\n",
    "Die Wahrscheinlichkeit in c) beschreibt die Wahrscheinlichkeit, dass 36 zufällig beobachtete Personen durchschnittlich mehr 20 warteten und diese ist fast 0.\n",
    "Dass viele Personen durchschnittlich mehr als 20 Minuten warten müssen, ist kleiner als die Wahrscheinlichkeit dass eine Person mehr als 20 Minuten warten muss."
   ]
  },
  {
   "cell_type": "markdown",
   "metadata": {},
   "source": [
    "e) Gilt hier die i.i.d.-Annahme überhaupt?"
   ]
  },
  {
   "cell_type": "markdown",
   "metadata": {},
   "source": [
    "Dies ist eine heikle Angelegenheit. Wenn Sie einen grossen Flughafen nehmen und zu jeder Tageszeit zufällig Passagiere an einem beliebigen Abfertigungsschalter auswählen, dann scheint die i.i.d.-Annahme gerechtfertigt zu sein.\n",
    "Wenn Sie einen Abfertigungsschalter nach dem Zufallsprinzip auswählen und 36 Passagiere von diesem Schalter auswählen, ist die Annahme nicht gerechtfertigt. Wenn es bereits eine lange Schlange gibt, dann warten alle Passagiere überdurchschnittlich lange.\n",
    "Dasselbe gilt, wenn Sie eine Tageszeit wählen, zu der der Flughafen ungewöhnlich stark ausgelastet ist. Die Wartezeit für alle Passagiere wäre länger."
   ]
  },
  {
   "cell_type": "markdown",
   "metadata": {},
   "source": [
    "## Aufgabe 8.2\n",
    "Ein Zigarettenhersteller gibt an, dass der Nikotingehalt in einer Zigarette durchschnittlich 2.2 mg mit Standardabweichung 0.3 mg hat. Bei einer Stichprobe von 100 zufällig ausgewählten Zigaretten ist das Stichprobenmittel allerdings 3.1 mg.  \n",
    "\n",
    "Wie hoch ist die Wahrscheinlichkeit, dass das Stichprobenmittel einen Wert von 3.1 mg oder mehr erreicht, wenn die Aussage des Zigarettenherstellers wahr ist?\n",
    "\n",
    "Interpretieren Sie dieses Resultat."
   ]
  },
  {
   "cell_type": "code",
   "execution_count": 4,
   "metadata": {},
   "outputs": [
    {
     "data": {
      "text/html": [
       "0"
      ],
      "text/latex": [
       "0"
      ],
      "text/markdown": [
       "0"
      ],
      "text/plain": [
       "[1] 0"
      ]
     },
     "metadata": {},
     "output_type": "display_data"
    }
   ],
   "source": [
    "Zmu <- 2.2\n",
    "Zsigma <- 0.3\n",
    "n <- 100\n",
    "\n",
    "pg3.1 <- 1 - pnorm(3.1, Zmu, Zsigma^2/n)\n",
    "pg3.1"
   ]
  },
  {
   "cell_type": "markdown",
   "metadata": {},
   "source": [
    "Die Wahrscheinlichkeit ist praktisch null, weil ein Mittel von 3.1mg oder mehr sehr unwahrscheinlich ist. Wahrscheinlich ist die Angabe des Herstellers falsch."
   ]
  },
  {
   "cell_type": "markdown",
   "metadata": {},
   "source": [
    "## Aufgabe 8.3\n",
    "Ein Dozent weiss aus Erfahrung, dass bei einer Prüfung die Punktezahlen durchschnittlich bei 77 Punkte mit einer Standardabweichung von 15 Punkten liegen. In diesem Semester unterrichtet der Dozent zwei Kurse; der eine hat 25, der andere 64 TeilnehmerInnen.\n",
    "\n",
    "a) Wie gross ist näherungsweise die Wahrscheinlichkeit, dass das durchschnittliche Prüfungsergebnis im dem Kurs mit 25 TeilnehmerInnen zwischen 72 und 82 Punkten liegt?"
   ]
  },
  {
   "cell_type": "code",
   "execution_count": 7,
   "metadata": {},
   "outputs": [
    {
     "data": {
      "text/html": [
       "0.421485278492056"
      ],
      "text/latex": [
       "0.421485278492056"
      ],
      "text/markdown": [
       "0.421485278492056"
      ],
      "text/plain": [
       "[1] 0.4214853"
      ]
     },
     "metadata": {},
     "output_type": "display_data"
    }
   ],
   "source": [
    "Dmu <- 77\n",
    "Dsigma <- 15\n",
    "nK1 <- 25\n",
    "nK2 <- 64\n",
    "ulimit <- 82\n",
    "llimit <- 72\n",
    "\n",
    "pK1 <- pnorm(ulimit, Dmu, Dsigma^2/nK1) - pnorm(llimit, Dmu, Dsigma^2/nK1)\n",
    "pK1"
   ]
  },
  {
   "cell_type": "markdown",
   "metadata": {},
   "source": [
    "b) Wiederholen Sie die Rechnung aus Teil a) für den Kurs mit 64 TeilnehmerInnen."
   ]
  },
  {
   "cell_type": "code",
   "execution_count": 8,
   "metadata": {},
   "outputs": [
    {
     "data": {
      "text/html": [
       "0.845038250431579"
      ],
      "text/latex": [
       "0.845038250431579"
      ],
      "text/markdown": [
       "0.845038250431579"
      ],
      "text/plain": [
       "[1] 0.8450383"
      ]
     },
     "metadata": {},
     "output_type": "display_data"
    }
   ],
   "source": [
    "pK2 <- pnorm(ulimit, Dmu, Dsigma^2/nK2) - pnorm(llimit, Dmu, Dsigma^2/nK2)\n",
    "pK2"
   ]
  },
  {
   "cell_type": "markdown",
   "metadata": {},
   "source": [
    "Vergleichen Sie die beiden Werte und erklären Sie den Unterschied."
   ]
  },
  {
   "cell_type": "markdown",
   "metadata": {},
   "source": [
    "Gemäss zentralem Grenzwertsatz gilt, dass die Verteilung der Mittelwerte sich mit wachsenden $n$ einer Normalverteilung annähern und daher je mehr je länger dem Erwartungswert entsprechen. Deshalb ist die Wahrscheinlichkeit, dass 64 TN in diesem Punkte-Range liegen höher, als bei nur 25 Personen."
   ]
  }
 ],
 "metadata": {
  "kernelspec": {
   "display_name": "R",
   "language": "R",
   "name": "ir"
  },
  "language_info": {
   "codemirror_mode": "r",
   "file_extension": ".r",
   "mimetype": "text/x-r-source",
   "name": "R",
   "pygments_lexer": "r",
   "version": "4.0.2"
  }
 },
 "nbformat": 4,
 "nbformat_minor": 4
}

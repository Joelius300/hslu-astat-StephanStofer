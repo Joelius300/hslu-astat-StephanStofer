{
 "cells": [
  {
   "cell_type": "markdown",
   "metadata": {},
   "source": [
    "# Serie 09\n",
    "## Aufgabe 9.1\n",
    "Ein Weinhändler behauptet, dass die von ihm gefüllten Weinflaschen 70 Zentiliter enthalten. Ein skeptischer Konsument vermutet aber, dass der Weinhändler zu wenig Wein abfüllt und will diese Behauptung überprüfen. Deshalb kauft er 12 Weinflaschen und misst ihren Inhalt. Er findet:"
   ]
  },
  {
   "cell_type": "code",
   "execution_count": 1,
   "metadata": {},
   "outputs": [],
   "source": [
    "inhalt = c(71, 69, 67, 68, 73, 72, 71, 71, 68, 72, 69, 72) # in Zentiliter"
   ]
  },
  {
   "cell_type": "markdown",
   "metadata": {},
   "source": [
    "Nehmen Sie zunächst an, dass die Standardabweichung der Abfüllung im Voraus bekannt ist. Sie beträgt $\\sigma$ = 1.5 Zentiliter. Da die Standardabweichung der Messungen bekannt ist, können wir einen z-Test durchführen. Führen Sie den (einseitigen; in welche Richtung?) Test auf dem 5%-Signifikanzniveau durch. Geben Sie die Modellannahmen, $H_0$, $H_A$, den Verwerfungsbereich, den Wert der Teststatistik und das Testergebnis explizit an. Formulieren Sie in einem Satz die Schlussfolgerung für den kritischen Konsumenten."
   ]
  },
  {
   "cell_type": "markdown",
   "metadata": {},
   "source": [
    "Es soll gelten: \n",
    "* $X_1,...,X_{12} {i.i.d.} \\sim \\mathcal{N}(70,1.5^2)$\n",
    "* $H_0$: $\\mu = \\mu_{0}=70$\n",
    "* $H_A$: $\\mu < \\mu_{0}=70$\n",
    "* $T=\\bar{X}_{12} \\sim \\mathcal{N}(70,\\frac{1.5^2}{12})$\n",
    "* Signifikanzniveau: $\\alpha = 5% = 0.05$"
   ]
  },
  {
   "cell_type": "code",
   "execution_count": 2,
   "metadata": {},
   "outputs": [
    {
     "data": {
      "text/html": [
       "69.2877574867765"
      ],
      "text/latex": [
       "69.2877574867765"
      ],
      "text/markdown": [
       "69.2877574867765"
      ],
      "text/plain": [
       "[1] 69.28776"
      ]
     },
     "metadata": {},
     "output_type": "display_data"
    }
   ],
   "source": [
    "# Grenze des Verwerfungsbereich von T\n",
    "T = qnorm(p=0.05, mean=70,sd=1.5/sqrt(12))\n",
    "T"
   ]
  },
  {
   "cell_type": "markdown",
   "metadata": {},
   "source": [
    "$K=(-\\infty,69.2878]\\,$"
   ]
  },
  {
   "cell_type": "code",
   "execution_count": 3,
   "metadata": {},
   "outputs": [
    {
     "data": {
      "text/html": [
       "70.25"
      ],
      "text/latex": [
       "70.25"
      ],
      "text/markdown": [
       "70.25"
      ],
      "text/plain": [
       "[1] 70.25"
      ]
     },
     "metadata": {},
     "output_type": "display_data"
    }
   ],
   "source": [
    "# Testentscheid\n",
    "E = mean(inhalt)\n",
    "E"
   ]
  },
  {
   "cell_type": "markdown",
   "metadata": {},
   "source": [
    "Weil $E \\notin K$ kann man davon ausgehen, dass der Weinhändler korrekt abfüllt."
   ]
  },
  {
   "cell_type": "markdown",
   "metadata": {},
   "source": [
    "## Aufgabe 9.2\n",
    "Wir gehen von der Aufgabenstellung 9.1 aus. Die Standardabweichung der Abfüllungen ist nicht bekannt. Somit machen wir einen t-Test.  \n",
    "\n",
    "a) Führen Sie den Test durch und treffen Sie den Testentscheid mit dem p-Wert."
   ]
  },
  {
   "cell_type": "code",
   "execution_count": 4,
   "metadata": {},
   "outputs": [
    {
     "data": {
      "text/plain": [
       "\n",
       "\tOne Sample t-test\n",
       "\n",
       "data:  inhalt\n",
       "t = 0.44189, df = 11, p-value = 0.6664\n",
       "alternative hypothesis: true mean is less than 70\n",
       "95 percent confidence interval:\n",
       "     -Inf 71.26603\n",
       "sample estimates:\n",
       "mean of x \n",
       "    70.25 \n"
      ]
     },
     "metadata": {},
     "output_type": "display_data"
    }
   ],
   "source": [
    "sd = sd(E)\n",
    "t.test(inhalt, mu=70, alternative=\"less\")"
   ]
  },
  {
   "cell_type": "markdown",
   "metadata": {},
   "source": [
    "p-Wert ist deutlich grösser als $\\alpha=0.05$, somit wird Nullhypothese nicht verworfen."
   ]
  },
  {
   "cell_type": "markdown",
   "metadata": {},
   "source": [
    "b) Was ändert sich verglichen zur Aufgabe 9.1?"
   ]
  },
  {
   "cell_type": "code",
   "execution_count": 5,
   "metadata": {},
   "outputs": [
    {
     "data": {
      "text/html": [
       "0.718148569174613"
      ],
      "text/latex": [
       "0.718148569174613"
      ],
      "text/markdown": [
       "0.718148569174613"
      ],
      "text/plain": [
       "[1] 0.7181486"
      ]
     },
     "metadata": {},
     "output_type": "display_data"
    }
   ],
   "source": [
    "# Testentscheid\n",
    "pnorm(q=E,mean=70,sd=1.5/sqrt(12))"
   ]
  },
  {
   "cell_type": "markdown",
   "metadata": {},
   "source": [
    "Der p-Wert in 9.2 ist kleiner, weil die Standardabweichung nicht bekannt ist. Dies führt zu einer Zunahme des Risiko."
   ]
  },
  {
   "cell_type": "markdown",
   "metadata": {},
   "source": [
    "## Aufgabe 9.3\n",
    "Eine Bäckerei gibt an, dass die von ihr hergestellten Brötchen ein Mindestgewicht von 50g bei bekannter Standardabweichung $\\sigma = 3g$ haben. Die Gewichte sind normalverteilt.  \n",
    "Ein Statistikstudent, der misstrauisch ist und vermutet, dass die Brötchen ein zu geringes Gewicht haben, kauft in der Bäckerei $n = 16$ Brötchen und wiegt alle Brötchen. Er erhält folgende Werte (in g):"
   ]
  },
  {
   "cell_type": "code",
   "execution_count": 6,
   "metadata": {},
   "outputs": [],
   "source": [
    "gewicht <- c(46, 48, 52, 49, 46, 51, 52, 47, 49, 44, 48, 51, 49, 50, 53, 47)"
   ]
  },
  {
   "cell_type": "markdown",
   "metadata": {},
   "source": [
    "a) Stellen Sie die Null- und Alternativhypothese auf und führen Sie einen Hypothesentest auf dem 5 %-Signifikanzniveau durch."
   ]
  },
  {
   "cell_type": "markdown",
   "metadata": {},
   "source": [
    "1. $H_0$: $\\mu = 50$\n",
    "1. $H_A$: $\\mu < 50$\n",
    "1. Signifikanz-Niveau: $\\alpha = 0.05$\n",
    "1. $TB=\\bar{X}_{16} \\sim \\mathcal{N}(50,\\frac{3^2}{16})$"
   ]
  },
  {
   "cell_type": "code",
   "execution_count": 7,
   "metadata": {},
   "outputs": [
    {
     "data": {
      "text/html": [
       "0.0668072012688581"
      ],
      "text/latex": [
       "0.0668072012688581"
      ],
      "text/markdown": [
       "0.0668072012688581"
      ],
      "text/plain": [
       "[1] 0.0668072"
      ]
     },
     "metadata": {},
     "output_type": "display_data"
    }
   ],
   "source": [
    "# Testentscheid\n",
    "TB = pnorm(mean(gewicht),mean=50,sd=3/sqrt(16))\n",
    "TB"
   ]
  },
  {
   "cell_type": "markdown",
   "metadata": {},
   "source": [
    "$H_0$ wird nicht verworfen, der p-Wert ist höher als $\\alpha$"
   ]
  },
  {
   "cell_type": "markdown",
   "metadata": {},
   "source": [
    "b) Dem Studenten kommen bei seiner Auswertung Bedenken wegen des kleines Stichprobenumfangs von $n = 16$. Er untersucht deshalb noch einmal das Brötchengewicht, diesmal für $n = 100$ Brötchen. Er erhält denselben Mittelwert in der Stichprobe wie bei den $n = 16$ Brötchen.  \n",
    "Kommt er zur selben Testentscheidung wie in a)? Begründen Sie die Antwort."
   ]
  },
  {
   "cell_type": "code",
   "execution_count": 8,
   "metadata": {},
   "outputs": [
    {
     "data": {
      "text/html": [
       "8.84172852008039e-05"
      ],
      "text/latex": [
       "8.84172852008039e-05"
      ],
      "text/markdown": [
       "8.84172852008039e-05"
      ],
      "text/plain": [
       "[1] 8.841729e-05"
      ]
     },
     "metadata": {},
     "output_type": "display_data"
    }
   ],
   "source": [
    "pnorm(mean(gewicht),50,3/sqrt(100))"
   ]
  },
  {
   "cell_type": "markdown",
   "metadata": {},
   "source": [
    "Der Wert ist deutlich unter $\\alpha$. Grund dafür ist, dass die Sicherheit, dass der wahre Mittelwert bei 50g (Nullhypothese) liegt, steigt."
   ]
  },
  {
   "cell_type": "markdown",
   "metadata": {},
   "source": [
    "c) Der Student ist nun auch misstrauisch gegenüber der bekannten Standardabweichung und möchte sich nur auf die gegebenen Daten verlassen. Wie geht er vor? Führen Sie den Hypothesentest durch."
   ]
  },
  {
   "cell_type": "code",
   "execution_count": 9,
   "metadata": {},
   "outputs": [
    {
     "data": {
      "text/plain": [
       "\n",
       "\tOne Sample t-test\n",
       "\n",
       "data:  gewicht\n",
       "t = -1.7811, df = 15, p-value = 0.04758\n",
       "alternative hypothesis: true mean is less than 50\n",
       "95 percent confidence interval:\n",
       "     -Inf 49.98228\n",
       "sample estimates:\n",
       "mean of x \n",
       "   48.875 \n"
      ]
     },
     "metadata": {},
     "output_type": "display_data"
    }
   ],
   "source": [
    "# mittels t-Test\n",
    "t.test(gewicht,mu=50, alternative=\"less\")"
   ]
  },
  {
   "cell_type": "markdown",
   "metadata": {},
   "source": [
    "der p-Wert ist für eine zweiseitige Betrachtung kleiner als $\\alpha$, weshalb die Angabe angezweifelt werden soll. Je nach Test kann die Nullhypothese verworfen werden oder nicht (siehe a)."
   ]
  },
  {
   "cell_type": "code",
   "execution_count": null,
   "metadata": {},
   "outputs": [],
   "source": []
  }
 ],
 "metadata": {
  "kernelspec": {
   "display_name": "R",
   "language": "R",
   "name": "ir"
  },
  "language_info": {
   "codemirror_mode": "r",
   "file_extension": ".r",
   "mimetype": "text/x-r-source",
   "name": "R",
   "pygments_lexer": "r",
   "version": "4.0.2"
  }
 },
 "nbformat": 4,
 "nbformat_minor": 4
}

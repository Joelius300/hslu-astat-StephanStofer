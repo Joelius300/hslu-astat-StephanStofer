{
 "cells": [
  {
   "cell_type": "markdown",
   "metadata": {},
   "source": [
    "# Serie 02\n",
    "## Aufgabe 2.1\n",
    "Im Wikipedia-Artikel\n",
    "https://en.wikipedia.org/wiki/Heights_of_presidents_and_presidential_candidates_of_the_United_States\n",
    "sind die Körpergrössen der US-Präsidenten und ihrer Herausforderer bei den Wahlen aufgeführt. Es wurde festgestellt, dass der grössere Präsidentschaftskandidat typi- scherweise die Wahlen gewinnt.\n",
    "In dieser Übung untersuchen wir die Daten der Präsidentschaftswahlen, seit diese im Fernsehen übertragen werden. \n",
    "Wir bilden zwei Vektoren für die entsprechenden Körpergrössen"
   ]
  },
  {
   "cell_type": "code",
   "execution_count": 1,
   "metadata": {},
   "outputs": [],
   "source": [
    "winner <- c(191, 185, 185, 182, 182, 188, 188, 188, 185, 185, 177, 182, 182, 193, 183, 179, 179, 175)\n",
    "opponent <- c(165, 187, 175, 193, 185, 187, 188, 173, 180, 177, 183, 185, 180, 180, 182, 178, 178, 173)"
   ]
  },
  {
   "cell_type": "markdown",
   "metadata": {},
   "source": [
    "a) Bestimmen Sie die Länge der beiden Vektoren. So können Sie auch überprüfen, ob in beiden Vektoren gleich viele Einträge sind."
   ]
  },
  {
   "cell_type": "code",
   "execution_count": 2,
   "metadata": {},
   "outputs": [
    {
     "data": {
      "text/html": [
       "18"
      ],
      "text/latex": [
       "18"
      ],
      "text/markdown": [
       "18"
      ],
      "text/plain": [
       "[1] 18"
      ]
     },
     "metadata": {},
     "output_type": "display_data"
    },
    {
     "data": {
      "text/html": [
       "18"
      ],
      "text/latex": [
       "18"
      ],
      "text/markdown": [
       "18"
      ],
      "text/plain": [
       "[1] 18"
      ]
     },
     "metadata": {},
     "output_type": "display_data"
    }
   ],
   "source": [
    "length(winner)\n",
    "length(opponent)"
   ]
  },
  {
   "cell_type": "markdown",
   "metadata": {},
   "source": [
    "b) Bestimmen Sie die Einträge 6. bis 10. Eintrag des Vektors winner. Verwenden Sie dazu die Klammerschreibweise winner[...]."
   ]
  },
  {
   "cell_type": "code",
   "execution_count": 3,
   "metadata": {},
   "outputs": [
    {
     "data": {
      "text/html": [
       "<style>\n",
       ".list-inline {list-style: none; margin:0; padding: 0}\n",
       ".list-inline>li {display: inline-block}\n",
       ".list-inline>li:not(:last-child)::after {content: \"\\00b7\"; padding: 0 .5ex}\n",
       "</style>\n",
       "<ol class=list-inline><li>188</li><li>188</li><li>188</li><li>185</li><li>185</li></ol>\n"
      ],
      "text/latex": [
       "\\begin{enumerate*}\n",
       "\\item 188\n",
       "\\item 188\n",
       "\\item 188\n",
       "\\item 185\n",
       "\\item 185\n",
       "\\end{enumerate*}\n"
      ],
      "text/markdown": [
       "1. 188\n",
       "2. 188\n",
       "3. 188\n",
       "4. 185\n",
       "5. 185\n",
       "\n",
       "\n"
      ],
      "text/plain": [
       "[1] 188 188 188 185 185"
      ]
     },
     "metadata": {},
     "output_type": "display_data"
    }
   ],
   "source": [
    "winner[6:10]"
   ]
  },
  {
   "cell_type": "markdown",
   "metadata": {},
   "source": [
    "c) Bestimmen Sie den 3., 5. und 10. bis 12. Eintrag."
   ]
  },
  {
   "cell_type": "code",
   "execution_count": 4,
   "metadata": {},
   "outputs": [
    {
     "data": {
      "text/html": [
       "<style>\n",
       ".list-inline {list-style: none; margin:0; padding: 0}\n",
       ".list-inline>li {display: inline-block}\n",
       ".list-inline>li:not(:last-child)::after {content: \"\\00b7\"; padding: 0 .5ex}\n",
       "</style>\n",
       "<ol class=list-inline><li>185</li><li>182</li><li>185</li><li>177</li><li>182</li></ol>\n"
      ],
      "text/latex": [
       "\\begin{enumerate*}\n",
       "\\item 185\n",
       "\\item 182\n",
       "\\item 185\n",
       "\\item 177\n",
       "\\item 182\n",
       "\\end{enumerate*}\n"
      ],
      "text/markdown": [
       "1. 185\n",
       "2. 182\n",
       "3. 185\n",
       "4. 177\n",
       "5. 182\n",
       "\n",
       "\n"
      ],
      "text/plain": [
       "[1] 185 182 185 177 182"
      ]
     },
     "metadata": {},
     "output_type": "display_data"
    }
   ],
   "source": [
    "winner[c(3,5,10:12)]"
   ]
  },
  {
   "cell_type": "markdown",
   "metadata": {},
   "source": [
    "d) Die Washington Post hat festgestellt, dass die Einträge für Bill Clinton (6. und 7. Eintrag) zu klein sind. Er misst 189 cm. Ändern Sie die Einträge im Vektor winner entsprechend ab und geben Sie den neuen Vektor nochmals aus."
   ]
  },
  {
   "cell_type": "code",
   "execution_count": 5,
   "metadata": {},
   "outputs": [
    {
     "data": {
      "text/html": [
       "<style>\n",
       ".list-inline {list-style: none; margin:0; padding: 0}\n",
       ".list-inline>li {display: inline-block}\n",
       ".list-inline>li:not(:last-child)::after {content: \"\\00b7\"; padding: 0 .5ex}\n",
       "</style>\n",
       "<ol class=list-inline><li>191</li><li>185</li><li>185</li><li>182</li><li>182</li><li>189</li><li>189</li><li>188</li><li>185</li><li>185</li><li>177</li><li>182</li><li>182</li><li>193</li><li>183</li><li>179</li><li>179</li><li>175</li></ol>\n"
      ],
      "text/latex": [
       "\\begin{enumerate*}\n",
       "\\item 191\n",
       "\\item 185\n",
       "\\item 185\n",
       "\\item 182\n",
       "\\item 182\n",
       "\\item 189\n",
       "\\item 189\n",
       "\\item 188\n",
       "\\item 185\n",
       "\\item 185\n",
       "\\item 177\n",
       "\\item 182\n",
       "\\item 182\n",
       "\\item 193\n",
       "\\item 183\n",
       "\\item 179\n",
       "\\item 179\n",
       "\\item 175\n",
       "\\end{enumerate*}\n"
      ],
      "text/markdown": [
       "1. 191\n",
       "2. 185\n",
       "3. 185\n",
       "4. 182\n",
       "5. 182\n",
       "6. 189\n",
       "7. 189\n",
       "8. 188\n",
       "9. 185\n",
       "10. 185\n",
       "11. 177\n",
       "12. 182\n",
       "13. 182\n",
       "14. 193\n",
       "15. 183\n",
       "16. 179\n",
       "17. 179\n",
       "18. 175\n",
       "\n",
       "\n"
      ],
      "text/plain": [
       " [1] 191 185 185 182 182 189 189 188 185 185 177 182 182 193 183 179 179 175"
      ]
     },
     "metadata": {},
     "output_type": "display_data"
    }
   ],
   "source": [
    "winner[6:7] <- 189\n",
    "winner"
   ]
  },
  {
   "cell_type": "markdown",
   "metadata": {},
   "source": [
    "e) Die Behauptung ist, dass die Gewinner grösser sind als die Herausforderer. Überprüfen Sie dies, indem Sie die Mittelwerte der Vektoren miteinander vergleichen."
   ]
  },
  {
   "cell_type": "code",
   "execution_count": 6,
   "metadata": {},
   "outputs": [
    {
     "data": {
      "text/html": [
       "183.944444444444"
      ],
      "text/latex": [
       "183.944444444444"
      ],
      "text/markdown": [
       "183.944444444444"
      ],
      "text/plain": [
       "[1] 183.9444"
      ]
     },
     "metadata": {},
     "output_type": "display_data"
    },
    {
     "data": {
      "text/html": [
       "180.5"
      ],
      "text/latex": [
       "180.5"
      ],
      "text/markdown": [
       "180.5"
      ],
      "text/plain": [
       "[1] 180.5"
      ]
     },
     "metadata": {},
     "output_type": "display_data"
    },
    {
     "name": "stderr",
     "output_type": "stream",
     "text": [
      "die Gewinner sind grösser\n",
      "\n"
     ]
    }
   ],
   "source": [
    "mean(winner)\n",
    "mean(opponent)\n",
    "if (mean(winner) > mean(opponent))\n",
    "    message(\"die Gewinner sind grösser\") else\n",
    "    message(\"die Verlierer sind grösser\")"
   ]
  },
  {
   "cell_type": "markdown",
   "metadata": {},
   "source": [
    "f) Bestimmen Sie den durchschnittlichen Grössenunterschied."
   ]
  },
  {
   "cell_type": "code",
   "execution_count": 7,
   "metadata": {},
   "outputs": [
    {
     "data": {
      "text/html": [
       "3.44444444444446"
      ],
      "text/latex": [
       "3.44444444444446"
      ],
      "text/markdown": [
       "3.44444444444446"
      ],
      "text/plain": [
       "[1] 3.444444"
      ]
     },
     "metadata": {},
     "output_type": "display_data"
    },
    {
     "data": {
      "text/html": [
       "3.44444444444444"
      ],
      "text/latex": [
       "3.44444444444444"
      ],
      "text/markdown": [
       "3.44444444444444"
      ],
      "text/plain": [
       "[1] 3.444444"
      ]
     },
     "metadata": {},
     "output_type": "display_data"
    }
   ],
   "source": [
    "mean(winner)-mean(opponent)\n",
    "mean(winner-opponent)"
   ]
  },
  {
   "cell_type": "markdown",
   "metadata": {},
   "source": [
    "g) Bestimmen Sie noch die Varianz s2 und die Standardabweichung s des Vektors\n",
    "winner."
   ]
  },
  {
   "cell_type": "code",
   "execution_count": 8,
   "metadata": {},
   "outputs": [
    {
     "data": {
      "text/html": [
       "23.3496732026144"
      ],
      "text/latex": [
       "23.3496732026144"
      ],
      "text/markdown": [
       "23.3496732026144"
      ],
      "text/plain": [
       "[1] 23.34967"
      ]
     },
     "metadata": {},
     "output_type": "display_data"
    },
    {
     "data": {
      "text/html": [
       "4.83214995655292"
      ],
      "text/latex": [
       "4.83214995655292"
      ],
      "text/markdown": [
       "4.83214995655292"
      ],
      "text/plain": [
       "[1] 4.83215"
      ]
     },
     "metadata": {},
     "output_type": "display_data"
    }
   ],
   "source": [
    "var(winner)\n",
    "sd(winner)"
   ]
  },
  {
   "cell_type": "markdown",
   "metadata": {},
   "source": [
    "h) Bestimmen Sie diese Werte noch ohne die implementierten Funktionen zu verwenden (Übung im Umgang mit R). Die Varianz ist definiert durch\n",
    "$$s^2 = \\frac{(x_1 - \\bar{x}_n)^2 + (x_2 - \\bar{x}_n)^2 + ... + (x_n - \\bar{x}_n)^2}{n-1} = \\frac{1}{n-1}\\sum_{i=1}^n (x_i-\\bar{x}_n)^2$$"
   ]
  },
  {
   "cell_type": "code",
   "execution_count": 9,
   "metadata": {},
   "outputs": [],
   "source": [
    "mean_of_vector <- function(vector){\n",
    "    mean <- 0\n",
    "    for(item in vector){\n",
    "        mean <- mean + item\n",
    "    }\n",
    "    return \n",
    "    mean / length(vector)\n",
    "}\n",
    "varianz_of_vector <- function(vector) {\n",
    "    mean <- mean_of_vector(vector)\n",
    "    sum <- 0\n",
    "    \n",
    "    for (item in vector){\n",
    "    sum <- (sum + (item - mean)^2)\n",
    "    }\n",
    "    \n",
    "    return \n",
    "    sum / (length(vector)-1)\n",
    "}"
   ]
  },
  {
   "cell_type": "code",
   "execution_count": 10,
   "metadata": {},
   "outputs": [
    {
     "data": {
      "text/html": [
       "23.3496732026144"
      ],
      "text/latex": [
       "23.3496732026144"
      ],
      "text/markdown": [
       "23.3496732026144"
      ],
      "text/plain": [
       "[1] 23.34967"
      ]
     },
     "metadata": {},
     "output_type": "display_data"
    }
   ],
   "source": [
    "varianz_of_vector(winner)"
   ]
  },
  {
   "cell_type": "code",
   "execution_count": 11,
   "metadata": {},
   "outputs": [
    {
     "data": {
      "text/html": [
       "4.83214995655292"
      ],
      "text/latex": [
       "4.83214995655292"
      ],
      "text/markdown": [
       "4.83214995655292"
      ],
      "text/plain": [
       "[1] 4.83215"
      ]
     },
     "metadata": {},
     "output_type": "display_data"
    }
   ],
   "source": [
    "sx <- sqrt(varianz_of_vector(winner))\n",
    "sx"
   ]
  },
  {
   "cell_type": "markdown",
   "metadata": {},
   "source": [
    "## Aufgabe 2.2\n",
    "In einer Klasse wurden in einer Statistik-Prüfung folgende Noten geschrieben:\n",
    "4.2, 2.3, 5.6, 4.5, 4.8, 3.9, 5.9, 2.4, 5.9, 6, 4, 3.7, 5, 5.2, 4.5, 3.6, 5, 6, 2.8, 3.3, 5.5, 4.2, 4.9, 5.1"
   ]
  },
  {
   "cell_type": "code",
   "execution_count": 12,
   "metadata": {},
   "outputs": [],
   "source": [
    "noten <- c(4.2, 2.3, 5.6, 4.5, 4.8, 3.9, 5.9, 2.4, 5.9, 6, 4, 3.7, 5, 5.2, 4.5, 3.6, 5, 6, 2.8, 3.3, 5.5, 4.2, 4.9, 5.1)"
   ]
  },
  {
   "cell_type": "markdown",
   "metadata": {},
   "source": [
    "a) Ändern Sie drei Noten im Datensatz so ab, dass der Median gleich bleibt, aber der Mittelwert sich stark ändert.\n",
    "Verwenden Sie dazu den sort(. . .)-Befehl."
   ]
  },
  {
   "cell_type": "code",
   "execution_count": 13,
   "metadata": {},
   "outputs": [
    {
     "data": {
      "text/html": [
       "4.65"
      ],
      "text/latex": [
       "4.65"
      ],
      "text/markdown": [
       "4.65"
      ],
      "text/plain": [
       "[1] 4.65"
      ]
     },
     "metadata": {},
     "output_type": "display_data"
    },
    {
     "data": {
      "text/html": [
       "4.5125"
      ],
      "text/latex": [
       "4.5125"
      ],
      "text/markdown": [
       "4.5125"
      ],
      "text/plain": [
       "[1] 4.5125"
      ]
     },
     "metadata": {},
     "output_type": "display_data"
    },
    {
     "data": {
      "text/html": [
       "<style>\n",
       ".list-inline {list-style: none; margin:0; padding: 0}\n",
       ".list-inline>li {display: inline-block}\n",
       ".list-inline>li:not(:last-child)::after {content: \"\\00b7\"; padding: 0 .5ex}\n",
       "</style>\n",
       "<ol class=list-inline><li>2.3</li><li>2.4</li><li>2.8</li><li>3.3</li><li>3.6</li><li>3.7</li><li>3.9</li><li>4</li><li>4.2</li><li>4.2</li><li>4.5</li><li>4.5</li><li>4.8</li><li>4.9</li><li>5</li><li>5</li><li>5.1</li><li>5.2</li><li>5.5</li><li>5.6</li><li>5.9</li><li>5.9</li><li>6</li><li>6</li></ol>\n"
      ],
      "text/latex": [
       "\\begin{enumerate*}\n",
       "\\item 2.3\n",
       "\\item 2.4\n",
       "\\item 2.8\n",
       "\\item 3.3\n",
       "\\item 3.6\n",
       "\\item 3.7\n",
       "\\item 3.9\n",
       "\\item 4\n",
       "\\item 4.2\n",
       "\\item 4.2\n",
       "\\item 4.5\n",
       "\\item 4.5\n",
       "\\item 4.8\n",
       "\\item 4.9\n",
       "\\item 5\n",
       "\\item 5\n",
       "\\item 5.1\n",
       "\\item 5.2\n",
       "\\item 5.5\n",
       "\\item 5.6\n",
       "\\item 5.9\n",
       "\\item 5.9\n",
       "\\item 6\n",
       "\\item 6\n",
       "\\end{enumerate*}\n"
      ],
      "text/markdown": [
       "1. 2.3\n",
       "2. 2.4\n",
       "3. 2.8\n",
       "4. 3.3\n",
       "5. 3.6\n",
       "6. 3.7\n",
       "7. 3.9\n",
       "8. 4\n",
       "9. 4.2\n",
       "10. 4.2\n",
       "11. 4.5\n",
       "12. 4.5\n",
       "13. 4.8\n",
       "14. 4.9\n",
       "15. 5\n",
       "16. 5\n",
       "17. 5.1\n",
       "18. 5.2\n",
       "19. 5.5\n",
       "20. 5.6\n",
       "21. 5.9\n",
       "22. 5.9\n",
       "23. 6\n",
       "24. 6\n",
       "\n",
       "\n"
      ],
      "text/plain": [
       " [1] 2.3 2.4 2.8 3.3 3.6 3.7 3.9 4.0 4.2 4.2 4.5 4.5 4.8 4.9 5.0 5.0 5.1 5.2 5.5\n",
       "[20] 5.6 5.9 5.9 6.0 6.0"
      ]
     },
     "metadata": {},
     "output_type": "display_data"
    },
    {
     "data": {
      "text/html": [
       "4.65"
      ],
      "text/latex": [
       "4.65"
      ],
      "text/markdown": [
       "4.65"
      ],
      "text/plain": [
       "[1] 4.65"
      ]
     },
     "metadata": {},
     "output_type": "display_data"
    },
    {
     "data": {
      "text/html": [
       "4.1"
      ],
      "text/latex": [
       "4.1"
      ],
      "text/markdown": [
       "4.1"
      ],
      "text/plain": [
       "[1] 4.1"
      ]
     },
     "metadata": {},
     "output_type": "display_data"
    }
   ],
   "source": [
    "median(noten)\n",
    "mean(noten)\n",
    "noten_sorted <- sort(noten)\n",
    "noten_sorted\n",
    "noten_sorted[c(10,11,9)] <- 1\n",
    "\n",
    "median(noten_sorted)\n",
    "mean(noten_sorted)"
   ]
  },
  {
   "cell_type": "markdown",
   "metadata": {},
   "source": [
    "b) Erstellen Sie zu den beiden Datensätzen einen gemeinsamen Boxplot. Was erkennen Sie?"
   ]
  },
  {
   "cell_type": "code",
   "execution_count": 14,
   "metadata": {},
   "outputs": [
    {
     "data": {
      "image/png": "[encoded data removed]",
      "text/plain": [
       "plot without title"
      ]
     },
     "metadata": {
      "image/png": {
       "height": 420,
       "width": 420
      }
     },
     "output_type": "display_data"
    }
   ],
   "source": [
    "boxplot(noten, noten_sorted,\n",
    "        xlab = \"Noten\",\n",
    "       col = c(\"darkseagreen3\", \"lightblue\")\n",
    "        )\n",
    "axis(side =1, at = c(1,2), labels = c(\"Original\", \"Modifiziert\"))"
   ]
  },
  {
   "cell_type": "markdown",
   "metadata": {},
   "source": [
    "* Es hat bei beiden keine Ausreisser\n",
    "* der Median, die grössete normale Beobachtung, sowie das obere Quartil ist gleich\n",
    "* bei den modifizierten Noten ist die kleinste Beobachtung sowie die das untere Quartil tiefer\n",
    "* Die Quartilsdifferenz beim modifizierten Datensatz ist grösser"
   ]
  },
  {
   "cell_type": "markdown",
   "metadata": {},
   "source": [
    "## Aufgabe 2.3\n",
    "Wir haben aus eigener Erfahrung das Gefühl, dass bei Ehepaaren der Mann eher älter als die Frau ist. Nun wollen wir statistisch untersuchen, ob dem so ist.\n",
    "In einer Untersuchung in England wurden das Alter (in Jahren) und die Körpergrösse (in cm) von 170 Ehepaaren untersucht.\n",
    "a) Lesen Sie die Datei `mannfrau.csv` ein."
   ]
  },
  {
   "cell_type": "code",
   "execution_count": 15,
   "metadata": {},
   "outputs": [
    {
     "data": {
      "text/plain": [
       "   alter.mann     groesse.mann     alter.frau     groesse.frau  \n",
       " Min.   :20.00   Min.   :155.0   Min.   :18.00   Min.   :141.0  \n",
       " 1st Qu.:33.00   1st Qu.:169.0   1st Qu.:32.00   1st Qu.:156.0  \n",
       " Median :43.50   Median :172.0   Median :41.00   Median :160.0  \n",
       " Mean   :42.92   Mean   :172.8   Mean   :40.68   Mean   :160.3  \n",
       " 3rd Qu.:53.00   3rd Qu.:177.0   3rd Qu.:50.00   3rd Qu.:165.0  \n",
       " Max.   :64.00   Max.   :190.0   Max.   :64.00   Max.   :176.0  "
      ]
     },
     "metadata": {},
     "output_type": "display_data"
    }
   ],
   "source": [
    "data <- read.csv(\"mannfrau.csv\")\n",
    "summary(data)"
   ]
  },
  {
   "cell_type": "markdown",
   "metadata": {},
   "source": [
    "b) Erstellen Sie einen Boxplot für die *Differenz* des Alters zwischen Ehemännern\n",
    "und Ehefrauen."
   ]
  },
  {
   "cell_type": "code",
   "execution_count": 16,
   "metadata": {},
   "outputs": [
    {
     "data": {
      "image/png": "[encoded data removed]",
      "text/plain": [
       "plot without title"
      ]
     },
     "metadata": {
      "image/png": {
       "height": 420,
       "width": 420
      }
     },
     "output_type": "display_data"
    }
   ],
   "source": [
    "alter_mann = data[,1]\n",
    "alter_frau = data[,3]\n",
    "boxplot(alter_mann - alter_frau,\n",
    "       col = \"lightblue\")"
   ]
  },
  {
   "cell_type": "markdown",
   "metadata": {},
   "source": [
    "* Es gibt einige Ausreisser wo der Alterunterschied mehr als 10 Jahre beträgt, die Ausreisser bestehen in beide Richtungen\n",
    "* das untere Quartil liegt bei 0, das bedeutet, dass bei 25% aller Paare die Frau älter ist.\n",
    "* oberes Quartil bei ungefähr 5 Jahren, bei 25% der Paare ist der Mann mehr als 5 Jahre älter\n",
    "* der Median liegt bei 2 Jahren, der Altersunterschied bei 50% der Paare grösser als 2 Jahre\n",
    "Die These wird durch diesen Plot gestützt. Die Männer sind eher älter. Wobei der Unterschied bei 50% bei allen Paaren zwischen 0 bis 4 Jahren liegt."
   ]
  },
  {
   "cell_type": "markdown",
   "metadata": {},
   "source": [
    "## Aufgabe 2.4\n",
    "In dieser Aufgabe geht es darum, dass Sie weitere `R`-Befehle kennenlernen und den Umgang mit `R` üben.\n",
    "Wir verwenden den Datensatz `InsectSprays`, der in `R` enthalten ist."
   ]
  },
  {
   "cell_type": "code",
   "execution_count": 17,
   "metadata": {},
   "outputs": [
    {
     "data": {
      "text/html": [
       "<table>\n",
       "<caption>A data.frame: 6 × 2</caption>\n",
       "<thead>\n",
       "\t<tr><th></th><th scope=col>count</th><th scope=col>spray</th></tr>\n",
       "\t<tr><th></th><th scope=col>&lt;dbl&gt;</th><th scope=col>&lt;fct&gt;</th></tr>\n",
       "</thead>\n",
       "<tbody>\n",
       "\t<tr><th scope=row>1</th><td>10</td><td>A</td></tr>\n",
       "\t<tr><th scope=row>2</th><td> 7</td><td>A</td></tr>\n",
       "\t<tr><th scope=row>3</th><td>20</td><td>A</td></tr>\n",
       "\t<tr><th scope=row>4</th><td>14</td><td>A</td></tr>\n",
       "\t<tr><th scope=row>5</th><td>14</td><td>A</td></tr>\n",
       "\t<tr><th scope=row>6</th><td>12</td><td>A</td></tr>\n",
       "</tbody>\n",
       "</table>\n"
      ],
      "text/latex": [
       "A data.frame: 6 × 2\n",
       "\\begin{tabular}{r|ll}\n",
       "  & count & spray\\\\\n",
       "  & <dbl> & <fct>\\\\\n",
       "\\hline\n",
       "\t1 & 10 & A\\\\\n",
       "\t2 &  7 & A\\\\\n",
       "\t3 & 20 & A\\\\\n",
       "\t4 & 14 & A\\\\\n",
       "\t5 & 14 & A\\\\\n",
       "\t6 & 12 & A\\\\\n",
       "\\end{tabular}\n"
      ],
      "text/markdown": [
       "\n",
       "A data.frame: 6 × 2\n",
       "\n",
       "| <!--/--> | count &lt;dbl&gt; | spray &lt;fct&gt; |\n",
       "|---|---|---|\n",
       "| 1 | 10 | A |\n",
       "| 2 |  7 | A |\n",
       "| 3 | 20 | A |\n",
       "| 4 | 14 | A |\n",
       "| 5 | 14 | A |\n",
       "| 6 | 12 | A |\n",
       "\n"
      ],
      "text/plain": [
       "  count spray\n",
       "1 10    A    \n",
       "2  7    A    \n",
       "3 20    A    \n",
       "4 14    A    \n",
       "5 14    A    \n",
       "6 12    A    "
      ]
     },
     "metadata": {},
     "output_type": "display_data"
    }
   ],
   "source": [
    "head(InsectSprays)"
   ]
  },
  {
   "cell_type": "markdown",
   "metadata": {},
   "source": [
    "Dabei wurden 6 verschiedene Insektensprays verwendet, die auf verschiedenen Feldern versprüht wurden. Danach wurde die Anzahl Insekten gezählt, die sich auf dem entsprechenden Feld nach dem Besprühen befanden. (Beall, G., (1942) The Transformation of data from entomological field experiments, Biometrika, 29, 243–262.)\n",
    "\n",
    "a) Wir wollen zunächst die Mittelwerte der einzelnen Sprays bestimmen. Dazu verwenden wir den `R`-Befehl `tapply(...)`"
   ]
  },
  {
   "cell_type": "code",
   "execution_count": 18,
   "metadata": {},
   "outputs": [
    {
     "data": {
      "text/html": [
       "<style>\n",
       ".dl-inline {width: auto; margin:0; padding: 0}\n",
       ".dl-inline>dt, .dl-inline>dd {float: none; width: auto; display: inline-block}\n",
       ".dl-inline>dt::after {content: \":\\0020\"; padding-right: .5ex}\n",
       ".dl-inline>dt:not(:first-of-type) {padding-left: .5ex}\n",
       "</style><dl class=dl-inline><dt>A</dt><dd>14.5</dd><dt>B</dt><dd>15.3333333333333</dd><dt>C</dt><dd>2.08333333333333</dd><dt>D</dt><dd>4.91666666666667</dd><dt>E</dt><dd>3.5</dd><dt>F</dt><dd>16.6666666666667</dd></dl>\n"
      ],
      "text/latex": [
       "\\begin{description*}\n",
       "\\item[A] 14.5\n",
       "\\item[B] 15.3333333333333\n",
       "\\item[C] 2.08333333333333\n",
       "\\item[D] 4.91666666666667\n",
       "\\item[E] 3.5\n",
       "\\item[F] 16.6666666666667\n",
       "\\end{description*}\n"
      ],
      "text/markdown": [
       "A\n",
       ":   14.5B\n",
       ":   15.3333333333333C\n",
       ":   2.08333333333333D\n",
       ":   4.91666666666667E\n",
       ":   3.5F\n",
       ":   16.6666666666667\n",
       "\n"
      ],
      "text/plain": [
       "        A         B         C         D         E         F \n",
       "14.500000 15.333333  2.083333  4.916667  3.500000 16.666667 "
      ]
     },
     "metadata": {},
     "output_type": "display_data"
    }
   ],
   "source": [
    "tapply(InsectSprays[, \"count\"], InsectSprays[, \"spray\"], FUN = mean)"
   ]
  },
  {
   "cell_type": "markdown",
   "metadata": {},
   "source": [
    "Dieser Befehl wendet (apply) die Funktion (`FUN`) Mittelwert (`mean`) auf die Spalte `InsectSprays[,\"count\"]` an und ordnet diese nach der Spalte Spray (`InsectSprays[, \" spray\"]`). Das heisst, es werden die Mittelwerte für `count` für die Sprays A, B, . . . , F gebildet.\n",
    "Die Mittelwerte sind sehr unterschiedlich. Die Sprays C, D und E sind scheinen wesentlich effizienter zu sein als die Sprays A, B und F.\n",
    "\n",
    "Etwas einfacher geht auch folgende Schreibweise:"
   ]
  },
  {
   "cell_type": "code",
   "execution_count": 19,
   "metadata": {},
   "outputs": [
    {
     "data": {
      "text/html": [
       "<style>\n",
       ".dl-inline {width: auto; margin:0; padding: 0}\n",
       ".dl-inline>dt, .dl-inline>dd {float: none; width: auto; display: inline-block}\n",
       ".dl-inline>dt::after {content: \":\\0020\"; padding-right: .5ex}\n",
       ".dl-inline>dt:not(:first-of-type) {padding-left: .5ex}\n",
       "</style><dl class=dl-inline><dt>A</dt><dd>14.5</dd><dt>B</dt><dd>15.3333333333333</dd><dt>C</dt><dd>2.08333333333333</dd><dt>D</dt><dd>4.91666666666667</dd><dt>E</dt><dd>3.5</dd><dt>F</dt><dd>16.6666666666667</dd></dl>\n"
      ],
      "text/latex": [
       "\\begin{description*}\n",
       "\\item[A] 14.5\n",
       "\\item[B] 15.3333333333333\n",
       "\\item[C] 2.08333333333333\n",
       "\\item[D] 4.91666666666667\n",
       "\\item[E] 3.5\n",
       "\\item[F] 16.6666666666667\n",
       "\\end{description*}\n"
      ],
      "text/markdown": [
       "A\n",
       ":   14.5B\n",
       ":   15.3333333333333C\n",
       ":   2.08333333333333D\n",
       ":   4.91666666666667E\n",
       ":   3.5F\n",
       ":   16.6666666666667\n",
       "\n"
      ],
      "text/plain": [
       "        A         B         C         D         E         F \n",
       "14.500000 15.333333  2.083333  4.916667  3.500000 16.666667 "
      ]
     },
     "metadata": {},
     "output_type": "display_data"
    }
   ],
   "source": [
    "tapply(InsectSprays$count, InsectSprays$spray, mean)"
   ]
  },
  {
   "cell_type": "markdown",
   "metadata": {},
   "source": [
    "Noch einfacher geht es mit dem Befehl `attach(. . .)`. Dann sind `R` die Spaltennamen der Tabelle (data frame) `InsectSprays` bekannt und der Datensatzname muss nicht mehr angegeben werden."
   ]
  },
  {
   "cell_type": "code",
   "execution_count": 20,
   "metadata": {},
   "outputs": [
    {
     "data": {
      "text/html": [
       "<style>\n",
       ".dl-inline {width: auto; margin:0; padding: 0}\n",
       ".dl-inline>dt, .dl-inline>dd {float: none; width: auto; display: inline-block}\n",
       ".dl-inline>dt::after {content: \":\\0020\"; padding-right: .5ex}\n",
       ".dl-inline>dt:not(:first-of-type) {padding-left: .5ex}\n",
       "</style><dl class=dl-inline><dt>A</dt><dd>14.5</dd><dt>B</dt><dd>15.3333333333333</dd><dt>C</dt><dd>2.08333333333333</dd><dt>D</dt><dd>4.91666666666667</dd><dt>E</dt><dd>3.5</dd><dt>F</dt><dd>16.6666666666667</dd></dl>\n"
      ],
      "text/latex": [
       "\\begin{description*}\n",
       "\\item[A] 14.5\n",
       "\\item[B] 15.3333333333333\n",
       "\\item[C] 2.08333333333333\n",
       "\\item[D] 4.91666666666667\n",
       "\\item[E] 3.5\n",
       "\\item[F] 16.6666666666667\n",
       "\\end{description*}\n"
      ],
      "text/markdown": [
       "A\n",
       ":   14.5B\n",
       ":   15.3333333333333C\n",
       ":   2.08333333333333D\n",
       ":   4.91666666666667E\n",
       ":   3.5F\n",
       ":   16.6666666666667\n",
       "\n"
      ],
      "text/plain": [
       "        A         B         C         D         E         F \n",
       "14.500000 15.333333  2.083333  4.916667  3.500000 16.666667 "
      ]
     },
     "metadata": {},
     "output_type": "display_data"
    }
   ],
   "source": [
    "attach(InsectSprays)\n",
    "tapply(count, spray, mean)"
   ]
  },
  {
   "cell_type": "markdown",
   "metadata": {},
   "source": [
    "Der `attach`-Befehl muss nur einmal ausgeführt werden.\n",
    "\n",
    "b) Wir wollen nun noch einen Boxplot der Daten machen. Da die Daten nach der Spalte `Spray` geordnet wird, verlangt `R` die Eingabe `boxplot(y ~ x)`, wobei `y` die Werte sind von denen `R` die Boxplot nehmen soll und `x` die Namen, nach denen die Werte geordnet werden sollen."
   ]
  },
  {
   "cell_type": "code",
   "execution_count": 21,
   "metadata": {},
   "outputs": [
    {
     "data": {
      "image/png": "[encoded data removed]",
      "text/plain": [
       "plot without title"
      ]
     },
     "metadata": {
      "image/png": {
       "height": 420,
       "width": 420
      }
     },
     "output_type": "display_data"
    }
   ],
   "source": [
    "#ohne Attach\n",
    "boxplot(count ~ spray,\n",
    "    data = InsectSprays,\n",
    "    col=c(\"orange\", \"blue\", \"darkseagreen\", \"deeppink\", \"brown\", \"aquamarine\")\n",
    "   )"
   ]
  },
  {
   "cell_type": "code",
   "execution_count": 22,
   "metadata": {},
   "outputs": [
    {
     "data": {
      "image/png": "[encoded data removed]",
      "text/plain": [
       "plot without title"
      ]
     },
     "metadata": {
      "image/png": {
       "height": 420,
       "width": 420
      }
     },
     "output_type": "display_data"
    }
   ],
   "source": [
    " # mit Attach\n",
    "boxplot(count ~ spray,\n",
    "    col=c(\"orange\", \"blue\", \"darkseagreen\", \"deeppink\",\"brown\", \"aquamarine\")\n",
    ")"
   ]
  },
  {
   "cell_type": "markdown",
   "metadata": {},
   "source": [
    "## Aufgabe 2.5\n",
    "In der Datei `Diet.csv` sind 76 Personen aufgelistet, die jeweils einer der Diäten 1,2 oder 3 für 6 Wochen machten."
   ]
  },
  {
   "cell_type": "code",
   "execution_count": 23,
   "metadata": {},
   "outputs": [
    {
     "data": {
      "text/html": [
       "<table>\n",
       "<caption>A data.frame: 6 × 7</caption>\n",
       "<thead>\n",
       "\t<tr><th></th><th scope=col>Person</th><th scope=col>gender</th><th scope=col>Age</th><th scope=col>Height</th><th scope=col>pre.weight</th><th scope=col>Diet</th><th scope=col>weight6weeks</th></tr>\n",
       "\t<tr><th></th><th scope=col>&lt;int&gt;</th><th scope=col>&lt;int&gt;</th><th scope=col>&lt;int&gt;</th><th scope=col>&lt;int&gt;</th><th scope=col>&lt;int&gt;</th><th scope=col>&lt;int&gt;</th><th scope=col>&lt;dbl&gt;</th></tr>\n",
       "</thead>\n",
       "<tbody>\n",
       "\t<tr><th scope=row>1</th><td>25</td><td>NA</td><td>41</td><td>171</td><td> 60</td><td>2</td><td> 60.0</td></tr>\n",
       "\t<tr><th scope=row>2</th><td>26</td><td>NA</td><td>32</td><td>174</td><td>103</td><td>2</td><td>103.0</td></tr>\n",
       "\t<tr><th scope=row>3</th><td> 1</td><td> 0</td><td>22</td><td>159</td><td> 58</td><td>1</td><td> 54.2</td></tr>\n",
       "\t<tr><th scope=row>4</th><td> 2</td><td> 0</td><td>46</td><td>192</td><td> 60</td><td>1</td><td> 54.0</td></tr>\n",
       "\t<tr><th scope=row>5</th><td> 3</td><td> 0</td><td>55</td><td>170</td><td> 64</td><td>1</td><td> 63.3</td></tr>\n",
       "\t<tr><th scope=row>6</th><td> 4</td><td> 0</td><td>33</td><td>171</td><td> 64</td><td>1</td><td> 61.1</td></tr>\n",
       "</tbody>\n",
       "</table>\n"
      ],
      "text/latex": [
       "A data.frame: 6 × 7\n",
       "\\begin{tabular}{r|lllllll}\n",
       "  & Person & gender & Age & Height & pre.weight & Diet & weight6weeks\\\\\n",
       "  & <int> & <int> & <int> & <int> & <int> & <int> & <dbl>\\\\\n",
       "\\hline\n",
       "\t1 & 25 & NA & 41 & 171 &  60 & 2 &  60.0\\\\\n",
       "\t2 & 26 & NA & 32 & 174 & 103 & 2 & 103.0\\\\\n",
       "\t3 &  1 &  0 & 22 & 159 &  58 & 1 &  54.2\\\\\n",
       "\t4 &  2 &  0 & 46 & 192 &  60 & 1 &  54.0\\\\\n",
       "\t5 &  3 &  0 & 55 & 170 &  64 & 1 &  63.3\\\\\n",
       "\t6 &  4 &  0 & 33 & 171 &  64 & 1 &  61.1\\\\\n",
       "\\end{tabular}\n"
      ],
      "text/markdown": [
       "\n",
       "A data.frame: 6 × 7\n",
       "\n",
       "| <!--/--> | Person &lt;int&gt; | gender &lt;int&gt; | Age &lt;int&gt; | Height &lt;int&gt; | pre.weight &lt;int&gt; | Diet &lt;int&gt; | weight6weeks &lt;dbl&gt; |\n",
       "|---|---|---|---|---|---|---|---|\n",
       "| 1 | 25 | NA | 41 | 171 |  60 | 2 |  60.0 |\n",
       "| 2 | 26 | NA | 32 | 174 | 103 | 2 | 103.0 |\n",
       "| 3 |  1 |  0 | 22 | 159 |  58 | 1 |  54.2 |\n",
       "| 4 |  2 |  0 | 46 | 192 |  60 | 1 |  54.0 |\n",
       "| 5 |  3 |  0 | 55 | 170 |  64 | 1 |  63.3 |\n",
       "| 6 |  4 |  0 | 33 | 171 |  64 | 1 |  61.1 |\n",
       "\n"
      ],
      "text/plain": [
       "  Person gender Age Height pre.weight Diet weight6weeks\n",
       "1 25     NA     41  171     60        2     60.0       \n",
       "2 26     NA     32  174    103        2    103.0       \n",
       "3  1      0     22  159     58        1     54.2       \n",
       "4  2      0     46  192     60        1     54.0       \n",
       "5  3      0     55  170     64        1     63.3       \n",
       "6  4      0     33  171     64        1     61.1       "
      ]
     },
     "metadata": {},
     "output_type": "display_data"
    }
   ],
   "source": [
    "diet <- read.csv(\"Diet.csv\")\n",
    "head(diet)"
   ]
  },
  {
   "cell_type": "markdown",
   "metadata": {},
   "source": [
    "In der Datei ist das Gewicht `pre.weight` vor der Diät und das Gewicht `weight6weeks` nach 6 Wochen aufgeführt. Wir interessieren uns für den Gewichtsverlust. Dazu führen wir zu der Datei eine Spalte `weight.loss` hinzu. Dies geht folgendermassen:"
   ]
  },
  {
   "cell_type": "code",
   "execution_count": 24,
   "metadata": {},
   "outputs": [
    {
     "data": {
      "text/html": [
       "<table>\n",
       "<caption>A data.frame: 6 × 8</caption>\n",
       "<thead>\n",
       "\t<tr><th></th><th scope=col>Person</th><th scope=col>gender</th><th scope=col>Age</th><th scope=col>Height</th><th scope=col>pre.weight</th><th scope=col>Diet</th><th scope=col>weight6weeks</th><th scope=col>weight.loss</th></tr>\n",
       "\t<tr><th></th><th scope=col>&lt;int&gt;</th><th scope=col>&lt;int&gt;</th><th scope=col>&lt;int&gt;</th><th scope=col>&lt;int&gt;</th><th scope=col>&lt;int&gt;</th><th scope=col>&lt;int&gt;</th><th scope=col>&lt;dbl&gt;</th><th scope=col>&lt;dbl&gt;</th></tr>\n",
       "</thead>\n",
       "<tbody>\n",
       "\t<tr><th scope=row>1</th><td>25</td><td>NA</td><td>41</td><td>171</td><td> 60</td><td>2</td><td> 60.0</td><td> 0.0</td></tr>\n",
       "\t<tr><th scope=row>2</th><td>26</td><td>NA</td><td>32</td><td>174</td><td>103</td><td>2</td><td>103.0</td><td> 0.0</td></tr>\n",
       "\t<tr><th scope=row>3</th><td> 1</td><td> 0</td><td>22</td><td>159</td><td> 58</td><td>1</td><td> 54.2</td><td>-3.8</td></tr>\n",
       "\t<tr><th scope=row>4</th><td> 2</td><td> 0</td><td>46</td><td>192</td><td> 60</td><td>1</td><td> 54.0</td><td>-6.0</td></tr>\n",
       "\t<tr><th scope=row>5</th><td> 3</td><td> 0</td><td>55</td><td>170</td><td> 64</td><td>1</td><td> 63.3</td><td>-0.7</td></tr>\n",
       "\t<tr><th scope=row>6</th><td> 4</td><td> 0</td><td>33</td><td>171</td><td> 64</td><td>1</td><td> 61.1</td><td>-2.9</td></tr>\n",
       "</tbody>\n",
       "</table>\n"
      ],
      "text/latex": [
       "A data.frame: 6 × 8\n",
       "\\begin{tabular}{r|llllllll}\n",
       "  & Person & gender & Age & Height & pre.weight & Diet & weight6weeks & weight.loss\\\\\n",
       "  & <int> & <int> & <int> & <int> & <int> & <int> & <dbl> & <dbl>\\\\\n",
       "\\hline\n",
       "\t1 & 25 & NA & 41 & 171 &  60 & 2 &  60.0 &  0.0\\\\\n",
       "\t2 & 26 & NA & 32 & 174 & 103 & 2 & 103.0 &  0.0\\\\\n",
       "\t3 &  1 &  0 & 22 & 159 &  58 & 1 &  54.2 & -3.8\\\\\n",
       "\t4 &  2 &  0 & 46 & 192 &  60 & 1 &  54.0 & -6.0\\\\\n",
       "\t5 &  3 &  0 & 55 & 170 &  64 & 1 &  63.3 & -0.7\\\\\n",
       "\t6 &  4 &  0 & 33 & 171 &  64 & 1 &  61.1 & -2.9\\\\\n",
       "\\end{tabular}\n"
      ],
      "text/markdown": [
       "\n",
       "A data.frame: 6 × 8\n",
       "\n",
       "| <!--/--> | Person &lt;int&gt; | gender &lt;int&gt; | Age &lt;int&gt; | Height &lt;int&gt; | pre.weight &lt;int&gt; | Diet &lt;int&gt; | weight6weeks &lt;dbl&gt; | weight.loss &lt;dbl&gt; |\n",
       "|---|---|---|---|---|---|---|---|---|\n",
       "| 1 | 25 | NA | 41 | 171 |  60 | 2 |  60.0 |  0.0 |\n",
       "| 2 | 26 | NA | 32 | 174 | 103 | 2 | 103.0 |  0.0 |\n",
       "| 3 |  1 |  0 | 22 | 159 |  58 | 1 |  54.2 | -3.8 |\n",
       "| 4 |  2 |  0 | 46 | 192 |  60 | 1 |  54.0 | -6.0 |\n",
       "| 5 |  3 |  0 | 55 | 170 |  64 | 1 |  63.3 | -0.7 |\n",
       "| 6 |  4 |  0 | 33 | 171 |  64 | 1 |  61.1 | -2.9 |\n",
       "\n"
      ],
      "text/plain": [
       "  Person gender Age Height pre.weight Diet weight6weeks weight.loss\n",
       "1 25     NA     41  171     60        2     60.0         0.0       \n",
       "2 26     NA     32  174    103        2    103.0         0.0       \n",
       "3  1      0     22  159     58        1     54.2        -3.8       \n",
       "4  2      0     46  192     60        1     54.0        -6.0       \n",
       "5  3      0     55  170     64        1     63.3        -0.7       \n",
       "6  4      0     33  171     64        1     61.1        -2.9       "
      ]
     },
     "metadata": {},
     "output_type": "display_data"
    }
   ],
   "source": [
    "diet$weight.loss <- diet$weight6weeks - diet$pre.weight\n",
    "head(diet)"
   ]
  },
  {
   "cell_type": "markdown",
   "metadata": {},
   "source": [
    "`R` versteht `diet$weight.loss` automatisch als neue Spalte und fügt die der Tabelle hinzu.\n",
    "\n",
    "Führen Sie nun die Teilaufgaben in der Aufgabe vorher für `weight.loss` und `Diet` durch. Interpretieren Sie jeweils die Resultate."
   ]
  },
  {
   "cell_type": "code",
   "execution_count": 25,
   "metadata": {},
   "outputs": [],
   "source": [
    "attach(diet) # run only once"
   ]
  },
  {
   "cell_type": "code",
   "execution_count": 26,
   "metadata": {},
   "outputs": [
    {
     "data": {
      "text/html": [
       "<style>\n",
       ".dl-inline {width: auto; margin:0; padding: 0}\n",
       ".dl-inline>dt, .dl-inline>dd {float: none; width: auto; display: inline-block}\n",
       ".dl-inline>dt::after {content: \":\\0020\"; padding-right: .5ex}\n",
       ".dl-inline>dt:not(:first-of-type) {padding-left: .5ex}\n",
       "</style><dl class=dl-inline><dt>1</dt><dd>-3.3</dd><dt>2</dt><dd>-3.02592592592593</dd><dt>3</dt><dd>-5.14814814814815</dd></dl>\n"
      ],
      "text/latex": [
       "\\begin{description*}\n",
       "\\item[1] -3.3\n",
       "\\item[2] -3.02592592592593\n",
       "\\item[3] -5.14814814814815\n",
       "\\end{description*}\n"
      ],
      "text/markdown": [
       "1\n",
       ":   -3.32\n",
       ":   -3.025925925925933\n",
       ":   -5.14814814814815\n",
       "\n"
      ],
      "text/plain": [
       "        1         2         3 \n",
       "-3.300000 -3.025926 -5.148148 "
      ]
     },
     "metadata": {},
     "output_type": "display_data"
    }
   ],
   "source": [
    "tapply(weight.loss, Diet, mean)"
   ]
  },
  {
   "cell_type": "code",
   "execution_count": 27,
   "metadata": {},
   "outputs": [
    {
     "data": {
      "image/png": "[encoded data removed]",
      "text/plain": [
       "plot without title"
      ]
     },
     "metadata": {
      "image/png": {
       "height": 420,
       "width": 420
      }
     },
     "output_type": "display_data"
    }
   ],
   "source": [
    "boxplot(weight.loss ~ Diet,\n",
    "       col = c(\"orange\", \"blue\", \"darkseagreen\"))"
   ]
  },
  {
   "cell_type": "markdown",
   "metadata": {},
   "source": [
    "### Interpretation der Resultate\n",
    "* Im Mittel wirken alle drei Diätformen\n",
    "* Die grösste Erfolg bezüglich Gewichtsverlust liegt bei Typ 3 vor. Die Quartilsdifferenz ist am höchsten (zwischen -7 und etwa -3.5)\n",
    "* Der Median bei Typ 3 mehr als -6\n",
    "* sogar die höchste normale Beobachtung bei Typ 3 hat eine Gewichtsverlust zu verzeichnen\n",
    "* Typ 1 und 2 haben ähnliche Quartilsdifferenz zwischen ungefähr -2 und -4, der Median ist um -3.5\n",
    "* Bei Typ 1 auffäälig zwei tiefe Aussreisser bei mehr als -8\n",
    "* Grössere Differenzen bei Typ 2 bei den normalen Beoabchtung\n",
    "* Bei Typ 1 und Typ 2 gibt es Gewichtszunahmen, Diät entfaltet Wirkung bei einigen Probanden nicht"
   ]
  }
 ],
 "metadata": {
  "kernelspec": {
   "display_name": "R",
   "language": "R",
   "name": "ir"
  },
  "language_info": {
   "codemirror_mode": "r",
   "file_extension": ".r",
   "mimetype": "text/x-r-source",
   "name": "R",
   "pygments_lexer": "r",
   "version": "4.0.2"
  }
 },
 "nbformat": 4,
 "nbformat_minor": 4
}

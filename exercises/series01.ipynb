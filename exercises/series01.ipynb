{
 "cells": [
  {
   "cell_type": "markdown",
   "metadata": {},
   "source": [
    "# Serie 01\n",
    "## Aufgabe 1.1\n",
    "a) Bilden Sie einen Vektor ```x``` mit den Zahlen 4,2,1,3,3,5,7."
   ]
  },
  {
   "cell_type": "code",
   "execution_count": null,
   "metadata": {},
   "outputs": [],
   "source": [
    "x <- c(4,2,1,3,3,5,7)"
   ]
  },
  {
   "cell_type": "markdown",
   "metadata": {},
   "source": [
    "b) Wählen Sie mit R den dritten Wert aus."
   ]
  },
  {
   "cell_type": "code",
   "execution_count": null,
   "metadata": {},
   "outputs": [],
   "source": [
    "x[3]"
   ]
  },
  {
   "cell_type": "markdown",
   "metadata": {},
   "source": [
    "c) Wählen Sie mit R den ersten und vierten Wert aus.\n"
   ]
  },
  {
   "cell_type": "code",
   "execution_count": null,
   "metadata": {},
   "outputs": [],
   "source": [
    "x[c(1,4)]"
   ]
  },
  {
   "cell_type": "markdown",
   "metadata": {},
   "source": [
    "d) Bestimmen Sie die Länge des Vektors x."
   ]
  },
  {
   "cell_type": "code",
   "execution_count": null,
   "metadata": {},
   "outputs": [],
   "source": [
    "length(x)\n"
   ]
  },
  {
   "cell_type": "markdown",
   "metadata": {},
   "source": [
    "e) Was macht der Befehl x+2? Stellen Sie zuerst eine Vermutung auf und führen dann den Befehl aus."
   ]
  },
  {
   "cell_type": "code",
   "execution_count": null,
   "metadata": {},
   "outputs": [],
   "source": [
    "# Meine Vermutung ist, dass die Zahl 2 dem Vektor hinzugefügt wird (als Eintrag)\n",
    "x + 2\n"
   ]
  },
  {
   "cell_type": "markdown",
   "metadata": {},
   "source": [
    "f) Was macht der Befehl sum(x+2)? Stellen Sie zuerst eine Vermutung auf und führen dann den Befehl aus."
   ]
  },
  {
   "cell_type": "code",
   "execution_count": null,
   "metadata": {},
   "outputs": [],
   "source": [
    "# Meine Vermutung ist, dass alle Elemente des Vektors mit zwei addiert werden und daraus die Summe gebildet wird\n",
    "sum(x)\n",
    "sum(x+2)"
   ]
  },
  {
   "cell_type": "markdown",
   "metadata": {},
   "source": [
    "g) Was macht der Befehl x <= 3? Stellen Sie zuerst eine Vermutung auf und führen dann den Befehl aus."
   ]
  },
  {
   "cell_type": "code",
   "execution_count": null,
   "metadata": {},
   "outputs": [],
   "source": [
    "# Meine Vermutung ist, dass die Elemente die kleiner gleich 3 sind, ausgegeben werden\n",
    "x <= 3"
   ]
  },
  {
   "cell_type": "markdown",
   "metadata": {},
   "source": [
    "h) Was macht der Befehl x[x <= 3]? Stellen Sie zuerst eine Vermutung auf und führen dann den Befehl aus."
   ]
  },
  {
   "cell_type": "code",
   "execution_count": null,
   "metadata": {},
   "outputs": [],
   "source": [
    "# Meine Vermutung ist, dass die Elemente die kleiner gleich 3 sind, ausgegeben werden\n",
    "x[x <= 3]"
   ]
  },
  {
   "cell_type": "markdown",
   "metadata": {},
   "source": [
    "i) Was macht der Befehl sort(x)? Stellen Sie zuerst eine Vermutung auf und führen dann den Befehl aus."
   ]
  },
  {
   "cell_type": "code",
   "execution_count": null,
   "metadata": {},
   "outputs": [],
   "source": [
    "# sortiert die Elemente im Vektor\n",
    "sort(x)"
   ]
  },
  {
   "cell_type": "markdown",
   "metadata": {},
   "source": [
    "j) Was macht der Befehl order(x)? Stellen Sie zuerst eine Vermutung auf und führen dann den Befehl aus. Vergleichen Sie dabei die Werte von order(x) mit den Werten von x."
   ]
  },
  {
   "cell_type": "code",
   "execution_count": null,
   "metadata": {},
   "outputs": [],
   "source": [
    "# order reiht die Elemente temporär ein\n",
    "order(x)\n",
    "x\n",
    "# falsche Vermutung: order(x) gibt den Index der Elemente in einer sortierten Form zurück"
   ]
  },
  {
   "cell_type": "markdown",
   "metadata": {},
   "source": [
    "k) Sie möchten den Wert des 4. Eintrages durch die Zahl 8 ersetzen. Wie machen Sie das?"
   ]
  },
  {
   "cell_type": "code",
   "execution_count": null,
   "metadata": {},
   "outputs": [],
   "source": [
    "x[4] <- 8\n",
    "x"
   ]
  },
  {
   "cell_type": "markdown",
   "metadata": {},
   "source": [
    "## Aufgabe 1.2\n",
    "Gegeben sind folgende Temperaturen in Grad Fahrenheit (°F) \n",
    "$$51.9, 51.8, 51.9, 53$$\n",
    "a) Bilden Sie einen Vektor `fahrenheit` mit diesen Werten."
   ]
  },
  {
   "cell_type": "code",
   "execution_count": null,
   "metadata": {},
   "outputs": [],
   "source": [
    "fahrenheit <- c(51.9, 51.8, 51.9, 53)\n",
    "fahrenheit"
   ]
  },
  {
   "cell_type": "markdown",
   "metadata": {},
   "source": [
    "b) Berechnen Sie diese Temperaturen in Grad Celsius (◦C) um. Die Umrechnungs-\n",
    "formel lautet\n",
    "$$C = 5(F − 32) 9$$\n",
    "Bilden Sie dazu einen Vektor `celsius`."
   ]
  },
  {
   "cell_type": "code",
   "execution_count": null,
   "metadata": {},
   "outputs": [],
   "source": [
    "celsius <- 5/9 * (fahrenheit - 32)\n",
    "celsius"
   ]
  },
  {
   "cell_type": "markdown",
   "metadata": {},
   "source": [
    "c) Gegeben sind weitere Temperaturen\n",
    "$$48, 48.2, 48, 48.7$$\n",
    "Bestimmen Sie die Differenz zu den ursprünglichen Temperaturen. Benützen Sie wieder Vektoren."
   ]
  },
  {
   "cell_type": "code",
   "execution_count": null,
   "metadata": {},
   "outputs": [],
   "source": [
    "fahrenheit2 <- c(48, 48.2, 48, 48.7)\n",
    "fahrenheit - fahrenheit2"
   ]
  },
  {
   "cell_type": "markdown",
   "metadata": {},
   "source": [
    "## Aufgabe 1.3\n",
    "Wir haben von 6 Personen die Körpergewicht (kg) \n",
    "$$60, 72, 57, 90, 95, 72$$\n",
    "und das Körpergrösse (in m)\n",
    "$$1.75, 1.80, 1.65, 1.90, 1.74, 1.91$$\n",
    "gegeben.\n",
    "Nun wollen wir den Body Mass Index (BMI) berechnen. Dieser berechnet sich wie\n",
    "folgt\n",
    "$$BMI = \\frac{Gewicht}{Grösse^2}$$\n",
    "a) Erzeugen Sie zwei Vektoren `weight` und `height."
   ]
  },
  {
   "cell_type": "code",
   "execution_count": null,
   "metadata": {},
   "outputs": [],
   "source": [
    "weight = c(60, 72, 57, 90, 95, 72)\n",
    "height = c(1.75, 1.80, 1.65, 1.90, 1.74, 1.91)"
   ]
  },
  {
   "cell_type": "markdown",
   "metadata": {},
   "source": [
    "b) Berechnen Sie den BMI dieser 6 Personen gleichzeitig. Erzeugen Sie dazu einen Vektor `bmi`."
   ]
  },
  {
   "cell_type": "code",
   "execution_count": null,
   "metadata": {},
   "outputs": [],
   "source": [
    "bmi <- weight/height^2\n",
    "bmi"
   ]
  },
  {
   "cell_type": "markdown",
   "metadata": {},
   "source": [
    "## Aufgabe 1.4\n",
    "Die Hilfefunktion in `R` ist leider nicht sehr hilfreich. Man kann mit beispielweise `?...` einen Befehl abfragen, zum Beispiel `?seq`. Das Resultat ist für Anfänger aber meist mehr verwirrend als helfend."
   ]
  },
  {
   "cell_type": "markdown",
   "metadata": {},
   "source": [
    "a) Ein häufig vorkommender Befehl, ist der `seq(...)`-Befehl.\n",
    "Googeln Sie diesen Befehl mit den Suchworten wie r seq examples. Erklä-\n",
    "ren Sie die Funktionsweise dieses Befehles mit den Optionen `by` und `length.out`"
   ]
  },
  {
   "cell_type": "code",
   "execution_count": null,
   "metadata": {},
   "outputs": [],
   "source": [
    "seq(from, to, by = , length.out = ) \n",
    "seq(1, 10, by = 3) \n",
    "seq(1, 800, length.out =20) \n",
    "# generiert eine Sequenz mit definiertem Start, sowie Endpunkt.\n",
    "# Die Option By definiert die Grösse zwischen den Werten\n",
    "# length.out definiert die Menge an Werte die zwischen from und to generiert werden\n"
   ]
  },
  {
   "cell_type": "markdown",
   "metadata": {},
   "source": [
    "b) Wir haben die folgende Liste gegeben"
   ]
  },
  {
   "cell_type": "code",
   "execution_count": null,
   "metadata": {},
   "outputs": [],
   "source": [
    "x <- c(4, 10, 3, NA, NA, 1, 8)"
   ]
  },
  {
   "cell_type": "markdown",
   "metadata": {},
   "source": [
    "Zuerst eine Bemerkung zu den Wert `NA` (not available). Diese stehen für feh- lende Daten, die aus irgendeinem Grund nicht vorhanden sind. Dies kommt in Statistiken recht häufig vor.\n",
    "i) Wenn wir den Mittelwert von `x` bilden `mean(x)`, so ist das Resultat NA. Können Sie erklären, warum dies so ist?"
   ]
  },
  {
   "cell_type": "code",
   "execution_count": null,
   "metadata": {},
   "outputs": [],
   "source": [
    "mean(x)\n",
    "# ein Mittelwert kann nicht gebildert werden, weil nicht genügend Daten zur Verfügung stellen"
   ]
  },
  {
   "cell_type": "markdown",
   "metadata": {},
   "source": [
    "ii) Wie können Sie den Mittelwert aller vorkommenden Werte bilden? Googeln Sie wieder."
   ]
  },
  {
   "cell_type": "code",
   "execution_count": null,
   "metadata": {},
   "outputs": [],
   "source": [
    "mean(x, na.rm=TRUE)"
   ]
  },
  {
   "cell_type": "markdown",
   "metadata": {},
   "source": [
    "iii) Wenden Sie die Befehle `sort(...)` und `order(...)` auf die Liste `x` an. Was machen diese Befehle?\n",
    "\n",
    "In beiden kommen die Optionen `na.last = ...` und `decreasing = ...`, die man `TRUE` (oder `T`) oder `FALSE` setzen kann. Was bewirken diese Optionen.\n"
   ]
  },
  {
   "cell_type": "code",
   "execution_count": null,
   "metadata": {},
   "outputs": [],
   "source": [
    "sort(x, decreasing = T)\n",
    "order(x)\n",
    "x\n",
    "# sort() sortiert die Werte aufsteigend, NA wird gefiltert\n",
    "# order() retourniert die Indexe der kleinsten Werte aufsteigend\n",
    "# decreasing = T : sortiert absteigend\n",
    "# na.last: stellt NA Werte ans Ende"
   ]
  },
  {
   "cell_type": "markdown",
   "metadata": {},
   "source": [
    "c) Plots spielen in der Statistik eine wichtige Rolle. Der folgende Plot ist zwar sehr einfach zu erstellen, sieht aber auch etwas gar schmucklos aus."
   ]
  },
  {
   "cell_type": "code",
   "execution_count": null,
   "metadata": {},
   "outputs": [],
   "source": [
    "z <- c(4, 2, 8, 9, 7, 5, 2, 1) \n",
    "plot(z)"
   ]
  },
  {
   "cell_type": "markdown",
   "metadata": {},
   "source": [
    "i) Ändern Sie im folgenden Befehl die Parameter der Optionen ab und be- schreiben Sie, was diese Optionen bewirken (vor allem type und lty, die anderen sollten klar sein). Googeln Sie."
   ]
  },
  {
   "cell_type": "code",
   "execution_count": null,
   "metadata": {},
   "outputs": [],
   "source": [
    "plot(z,\n",
    "     type = \"l\",\n",
    "     col = \"blue\",\n",
    "     lty = 2,\n",
    "     main = \"Haupttitel\", xlab = \"Ein paar Zahlen\", ylab = \"Andere Zahlen\")\n",
    "# https://www.rdocumentation.org/packages/graphics/versions/3.6.2/topics/plot"
   ]
  },
  {
   "cell_type": "markdown",
   "metadata": {},
   "source": [
    "ii) Fügen Sie mit dem Befehl `abline(...)` drei Linien zur Graphik oben hinzu (siehe Graphik unten).\n",
    "\n",
    "* Eine senkrechte Gerade $x = 3$, durchgezogen, grün.\n",
    "* Eine waagrechte Gerade $y = 4$, gepunktet, rot.\n",
    "* Eine Gerade $y = 2x + 1$, gestrichelt mit langen Strichen, braun."
   ]
  },
  {
   "cell_type": "code",
   "execution_count": null,
   "metadata": {},
   "outputs": [],
   "source": [
    "abline(a = NULL, b = NULL, h = NULL, v = 3, col = \"green\", lty=1)\n",
    "abline(a = NULL, b = NULL, h = 4, v = NULL, col = \"red\", lty=3)\n",
    "abline(a = 1, b = 2, col = \"brown\", lty=4)"
   ]
  },
  {
   "cell_type": "code",
   "execution_count": null,
   "metadata": {},
   "outputs": [],
   "source": []
  },
  {
   "cell_type": "code",
   "execution_count": null,
   "metadata": {},
   "outputs": [],
   "source": []
  }
 ],
 "metadata": {
  "kernelspec": {
   "display_name": "R",
   "language": "R",
   "name": "ir"
  },
  "language_info": {
   "codemirror_mode": "r",
   "file_extension": ".r",
   "mimetype": "text/x-r-source",
   "name": "R",
   "pygments_lexer": "r",
   "version": "4.0.2"
  }
 },
 "nbformat": 4,
 "nbformat_minor": 4
}

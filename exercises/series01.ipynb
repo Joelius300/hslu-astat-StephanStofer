{
 "cells": [
  {
   "cell_type": "markdown",
   "metadata": {},
   "source": [
    "# Serie 01\n",
    "## Aufgabe 1.1\n",
    "a) Bilden Sie einen Vektor ```x``` mit den Zahlen 4,2,1,3,3,5,7."
   ]
  },
  {
   "cell_type": "code",
   "execution_count": 50,
   "metadata": {},
   "outputs": [
    {
     "name": "stdout",
     "output_type": "stream",
     "text": [
      "[1] 4 2 1 3 3 5 7\n"
     ]
    }
   ],
   "source": [
    "x <- c(4,2,1,3,3,5,7)\n",
    "print(x)"
   ]
  },
  {
   "cell_type": "markdown",
   "metadata": {},
   "source": [
    "b) Wählen Sie mit R den dritten Wert aus."
   ]
  },
  {
   "cell_type": "code",
   "execution_count": 51,
   "metadata": {},
   "outputs": [
    {
     "data": {
      "text/html": [
       "1"
      ],
      "text/latex": [
       "1"
      ],
      "text/markdown": [
       "1"
      ],
      "text/plain": [
       "[1] 1"
      ]
     },
     "metadata": {},
     "output_type": "display_data"
    }
   ],
   "source": [
    "x[3]"
   ]
  },
  {
   "cell_type": "markdown",
   "metadata": {},
   "source": [
    "c) Wählen Sie mit R den ersten und vierten Wert aus.\n"
   ]
  },
  {
   "cell_type": "code",
   "execution_count": 52,
   "metadata": {},
   "outputs": [
    {
     "data": {
      "text/html": [
       "<style>\n",
       ".list-inline {list-style: none; margin:0; padding: 0}\n",
       ".list-inline>li {display: inline-block}\n",
       ".list-inline>li:not(:last-child)::after {content: \"\\00b7\"; padding: 0 .5ex}\n",
       "</style>\n",
       "<ol class=list-inline><li>4</li><li>3</li></ol>\n"
      ],
      "text/latex": [
       "\\begin{enumerate*}\n",
       "\\item 4\n",
       "\\item 3\n",
       "\\end{enumerate*}\n"
      ],
      "text/markdown": [
       "1. 4\n",
       "2. 3\n",
       "\n",
       "\n"
      ],
      "text/plain": [
       "[1] 4 3"
      ]
     },
     "metadata": {},
     "output_type": "display_data"
    }
   ],
   "source": [
    "x[c(1,4)]"
   ]
  },
  {
   "cell_type": "markdown",
   "metadata": {},
   "source": [
    "d) Bestimmen Sie die Länge des Vektors x."
   ]
  },
  {
   "cell_type": "code",
   "execution_count": 53,
   "metadata": {},
   "outputs": [
    {
     "data": {
      "text/html": [
       "7"
      ],
      "text/latex": [
       "7"
      ],
      "text/markdown": [
       "7"
      ],
      "text/plain": [
       "[1] 7"
      ]
     },
     "metadata": {},
     "output_type": "display_data"
    }
   ],
   "source": [
    "length(x)\n"
   ]
  },
  {
   "cell_type": "markdown",
   "metadata": {},
   "source": [
    "e) Was macht der Befehl x+2? Stellen Sie zuerst eine Vermutung auf und führen dann den Befehl aus."
   ]
  },
  {
   "cell_type": "code",
   "execution_count": 54,
   "metadata": {},
   "outputs": [
    {
     "data": {
      "text/html": [
       "<style>\n",
       ".list-inline {list-style: none; margin:0; padding: 0}\n",
       ".list-inline>li {display: inline-block}\n",
       ".list-inline>li:not(:last-child)::after {content: \"\\00b7\"; padding: 0 .5ex}\n",
       "</style>\n",
       "<ol class=list-inline><li>6</li><li>4</li><li>3</li><li>5</li><li>5</li><li>7</li><li>9</li></ol>\n"
      ],
      "text/latex": [
       "\\begin{enumerate*}\n",
       "\\item 6\n",
       "\\item 4\n",
       "\\item 3\n",
       "\\item 5\n",
       "\\item 5\n",
       "\\item 7\n",
       "\\item 9\n",
       "\\end{enumerate*}\n"
      ],
      "text/markdown": [
       "1. 6\n",
       "2. 4\n",
       "3. 3\n",
       "4. 5\n",
       "5. 5\n",
       "6. 7\n",
       "7. 9\n",
       "\n",
       "\n"
      ],
      "text/plain": [
       "[1] 6 4 3 5 5 7 9"
      ]
     },
     "metadata": {},
     "output_type": "display_data"
    }
   ],
   "source": [
    "# Meine Vermutung ist, dass die Zahl 2 dem Vektor hinzugefügt wird (als Eintrag)\n",
    "x + 2\n"
   ]
  },
  {
   "cell_type": "markdown",
   "metadata": {},
   "source": [
    "f) Was macht der Befehl sum(x+2)? Stellen Sie zuerst eine Vermutung auf und führen dann den Befehl aus."
   ]
  },
  {
   "cell_type": "code",
   "execution_count": 55,
   "metadata": {},
   "outputs": [
    {
     "data": {
      "text/html": [
       "25"
      ],
      "text/latex": [
       "25"
      ],
      "text/markdown": [
       "25"
      ],
      "text/plain": [
       "[1] 25"
      ]
     },
     "metadata": {},
     "output_type": "display_data"
    },
    {
     "data": {
      "text/html": [
       "39"
      ],
      "text/latex": [
       "39"
      ],
      "text/markdown": [
       "39"
      ],
      "text/plain": [
       "[1] 39"
      ]
     },
     "metadata": {},
     "output_type": "display_data"
    }
   ],
   "source": [
    "# Meine Vermutung ist, dass alle Elemente des Vektors mit zwei addiert werden und daraus die Summe gebildet wird\n",
    "sum(x)\n",
    "sum(x+2)"
   ]
  },
  {
   "cell_type": "markdown",
   "metadata": {},
   "source": [
    "g) Was macht der Befehl x <= 3? Stellen Sie zuerst eine Vermutung auf und führen dann den Befehl aus."
   ]
  },
  {
   "cell_type": "code",
   "execution_count": 56,
   "metadata": {},
   "outputs": [
    {
     "data": {
      "text/html": [
       "<style>\n",
       ".list-inline {list-style: none; margin:0; padding: 0}\n",
       ".list-inline>li {display: inline-block}\n",
       ".list-inline>li:not(:last-child)::after {content: \"\\00b7\"; padding: 0 .5ex}\n",
       "</style>\n",
       "<ol class=list-inline><li>FALSE</li><li>TRUE</li><li>TRUE</li><li>TRUE</li><li>TRUE</li><li>FALSE</li><li>FALSE</li></ol>\n"
      ],
      "text/latex": [
       "\\begin{enumerate*}\n",
       "\\item FALSE\n",
       "\\item TRUE\n",
       "\\item TRUE\n",
       "\\item TRUE\n",
       "\\item TRUE\n",
       "\\item FALSE\n",
       "\\item FALSE\n",
       "\\end{enumerate*}\n"
      ],
      "text/markdown": [
       "1. FALSE\n",
       "2. TRUE\n",
       "3. TRUE\n",
       "4. TRUE\n",
       "5. TRUE\n",
       "6. FALSE\n",
       "7. FALSE\n",
       "\n",
       "\n"
      ],
      "text/plain": [
       "[1] FALSE  TRUE  TRUE  TRUE  TRUE FALSE FALSE"
      ]
     },
     "metadata": {},
     "output_type": "display_data"
    }
   ],
   "source": [
    "# Meine Vermutung ist, dass die Elemente die kleiner gleich 3 sind, ausgegeben werden\n",
    "x <= 3"
   ]
  },
  {
   "cell_type": "markdown",
   "metadata": {},
   "source": [
    "h) Was macht der Befehl x[x <= 3]? Stellen Sie zuerst eine Vermutung auf und führen dann den Befehl aus."
   ]
  },
  {
   "cell_type": "code",
   "execution_count": 57,
   "metadata": {},
   "outputs": [
    {
     "data": {
      "text/html": [
       "<style>\n",
       ".list-inline {list-style: none; margin:0; padding: 0}\n",
       ".list-inline>li {display: inline-block}\n",
       ".list-inline>li:not(:last-child)::after {content: \"\\00b7\"; padding: 0 .5ex}\n",
       "</style>\n",
       "<ol class=list-inline><li>2</li><li>1</li><li>3</li><li>3</li></ol>\n"
      ],
      "text/latex": [
       "\\begin{enumerate*}\n",
       "\\item 2\n",
       "\\item 1\n",
       "\\item 3\n",
       "\\item 3\n",
       "\\end{enumerate*}\n"
      ],
      "text/markdown": [
       "1. 2\n",
       "2. 1\n",
       "3. 3\n",
       "4. 3\n",
       "\n",
       "\n"
      ],
      "text/plain": [
       "[1] 2 1 3 3"
      ]
     },
     "metadata": {},
     "output_type": "display_data"
    }
   ],
   "source": [
    "# Meine Vermutung ist, dass die Elemente die kleiner gleich 3 sind, ausgegeben werden\n",
    "x[x <= 3]"
   ]
  },
  {
   "cell_type": "markdown",
   "metadata": {},
   "source": [
    "i) Was macht der Befehl sort(x)? Stellen Sie zuerst eine Vermutung auf und führen dann den Befehl aus."
   ]
  },
  {
   "cell_type": "code",
   "execution_count": 58,
   "metadata": {},
   "outputs": [
    {
     "data": {
      "text/html": [
       "<style>\n",
       ".list-inline {list-style: none; margin:0; padding: 0}\n",
       ".list-inline>li {display: inline-block}\n",
       ".list-inline>li:not(:last-child)::after {content: \"\\00b7\"; padding: 0 .5ex}\n",
       "</style>\n",
       "<ol class=list-inline><li>1</li><li>2</li><li>3</li><li>3</li><li>4</li><li>5</li><li>7</li></ol>\n"
      ],
      "text/latex": [
       "\\begin{enumerate*}\n",
       "\\item 1\n",
       "\\item 2\n",
       "\\item 3\n",
       "\\item 3\n",
       "\\item 4\n",
       "\\item 5\n",
       "\\item 7\n",
       "\\end{enumerate*}\n"
      ],
      "text/markdown": [
       "1. 1\n",
       "2. 2\n",
       "3. 3\n",
       "4. 3\n",
       "5. 4\n",
       "6. 5\n",
       "7. 7\n",
       "\n",
       "\n"
      ],
      "text/plain": [
       "[1] 1 2 3 3 4 5 7"
      ]
     },
     "metadata": {},
     "output_type": "display_data"
    }
   ],
   "source": [
    "# sortiert die Elemente im Vektor\n",
    "sort(x)"
   ]
  },
  {
   "cell_type": "markdown",
   "metadata": {},
   "source": [
    "j) Was macht der Befehl order(x)? Stellen Sie zuerst eine Vermutung auf und führen dann den Befehl aus. Vergleichen Sie dabei die Werte von order(x) mit den Werten von x."
   ]
  },
  {
   "cell_type": "code",
   "execution_count": 59,
   "metadata": {},
   "outputs": [
    {
     "data": {
      "text/html": [
       "<style>\n",
       ".list-inline {list-style: none; margin:0; padding: 0}\n",
       ".list-inline>li {display: inline-block}\n",
       ".list-inline>li:not(:last-child)::after {content: \"\\00b7\"; padding: 0 .5ex}\n",
       "</style>\n",
       "<ol class=list-inline><li>3</li><li>2</li><li>4</li><li>5</li><li>1</li><li>6</li><li>7</li></ol>\n"
      ],
      "text/latex": [
       "\\begin{enumerate*}\n",
       "\\item 3\n",
       "\\item 2\n",
       "\\item 4\n",
       "\\item 5\n",
       "\\item 1\n",
       "\\item 6\n",
       "\\item 7\n",
       "\\end{enumerate*}\n"
      ],
      "text/markdown": [
       "1. 3\n",
       "2. 2\n",
       "3. 4\n",
       "4. 5\n",
       "5. 1\n",
       "6. 6\n",
       "7. 7\n",
       "\n",
       "\n"
      ],
      "text/plain": [
       "[1] 3 2 4 5 1 6 7"
      ]
     },
     "metadata": {},
     "output_type": "display_data"
    },
    {
     "data": {
      "text/html": [
       "<style>\n",
       ".list-inline {list-style: none; margin:0; padding: 0}\n",
       ".list-inline>li {display: inline-block}\n",
       ".list-inline>li:not(:last-child)::after {content: \"\\00b7\"; padding: 0 .5ex}\n",
       "</style>\n",
       "<ol class=list-inline><li>4</li><li>2</li><li>1</li><li>3</li><li>3</li><li>5</li><li>7</li></ol>\n"
      ],
      "text/latex": [
       "\\begin{enumerate*}\n",
       "\\item 4\n",
       "\\item 2\n",
       "\\item 1\n",
       "\\item 3\n",
       "\\item 3\n",
       "\\item 5\n",
       "\\item 7\n",
       "\\end{enumerate*}\n"
      ],
      "text/markdown": [
       "1. 4\n",
       "2. 2\n",
       "3. 1\n",
       "4. 3\n",
       "5. 3\n",
       "6. 5\n",
       "7. 7\n",
       "\n",
       "\n"
      ],
      "text/plain": [
       "[1] 4 2 1 3 3 5 7"
      ]
     },
     "metadata": {},
     "output_type": "display_data"
    }
   ],
   "source": [
    "# order reiht die Elemente temporär ein\n",
    "order(x)\n",
    "x\n",
    "# falsche Vermutung: order(x) gibt den Index der Elemente in einer sortierten Form zurück"
   ]
  },
  {
   "cell_type": "markdown",
   "metadata": {},
   "source": [
    "k) Sie möchten den Wert des 4. Eintrages durch die Zahl 8 ersetzen. Wie machen Sie das?"
   ]
  },
  {
   "cell_type": "code",
   "execution_count": 60,
   "metadata": {},
   "outputs": [
    {
     "data": {
      "text/html": [
       "<style>\n",
       ".list-inline {list-style: none; margin:0; padding: 0}\n",
       ".list-inline>li {display: inline-block}\n",
       ".list-inline>li:not(:last-child)::after {content: \"\\00b7\"; padding: 0 .5ex}\n",
       "</style>\n",
       "<ol class=list-inline><li>4</li><li>2</li><li>1</li><li>8</li><li>3</li><li>5</li><li>7</li></ol>\n"
      ],
      "text/latex": [
       "\\begin{enumerate*}\n",
       "\\item 4\n",
       "\\item 2\n",
       "\\item 1\n",
       "\\item 8\n",
       "\\item 3\n",
       "\\item 5\n",
       "\\item 7\n",
       "\\end{enumerate*}\n"
      ],
      "text/markdown": [
       "1. 4\n",
       "2. 2\n",
       "3. 1\n",
       "4. 8\n",
       "5. 3\n",
       "6. 5\n",
       "7. 7\n",
       "\n",
       "\n"
      ],
      "text/plain": [
       "[1] 4 2 1 8 3 5 7"
      ]
     },
     "metadata": {},
     "output_type": "display_data"
    }
   ],
   "source": [
    "x[4] <- 8\n",
    "x"
   ]
  },
  {
   "cell_type": "markdown",
   "metadata": {},
   "source": [
    "## Aufgabe 1.2\n",
    "Gegeben sind folgende Temperaturen in Grad Fahrenheit (°F) \n",
    "$$51.9, 51.8, 51.9, 53$$\n",
    "a) Bilden Sie einen Vektor `fahrenheit` mit diesen Werten."
   ]
  },
  {
   "cell_type": "code",
   "execution_count": 61,
   "metadata": {},
   "outputs": [
    {
     "data": {
      "text/html": [
       "<style>\n",
       ".list-inline {list-style: none; margin:0; padding: 0}\n",
       ".list-inline>li {display: inline-block}\n",
       ".list-inline>li:not(:last-child)::after {content: \"\\00b7\"; padding: 0 .5ex}\n",
       "</style>\n",
       "<ol class=list-inline><li>51.9</li><li>51.8</li><li>51.9</li><li>53</li></ol>\n"
      ],
      "text/latex": [
       "\\begin{enumerate*}\n",
       "\\item 51.9\n",
       "\\item 51.8\n",
       "\\item 51.9\n",
       "\\item 53\n",
       "\\end{enumerate*}\n"
      ],
      "text/markdown": [
       "1. 51.9\n",
       "2. 51.8\n",
       "3. 51.9\n",
       "4. 53\n",
       "\n",
       "\n"
      ],
      "text/plain": [
       "[1] 51.9 51.8 51.9 53.0"
      ]
     },
     "metadata": {},
     "output_type": "display_data"
    }
   ],
   "source": [
    "fahrenheit <- c(51.9, 51.8, 51.9, 53)\n",
    "fahrenheit"
   ]
  },
  {
   "cell_type": "markdown",
   "metadata": {},
   "source": [
    "b) Berechnen Sie diese Temperaturen in Grad Celsius (◦C) um. Die Umrechnungs-\n",
    "formel lautet\n",
    "$$C = 5(F - 32) 9$$\n",
    "Bilden Sie dazu einen Vektor `celsius`."
   ]
  },
  {
   "cell_type": "code",
   "execution_count": 62,
   "metadata": {},
   "outputs": [
    {
     "data": {
      "text/html": [
       "<style>\n",
       ".list-inline {list-style: none; margin:0; padding: 0}\n",
       ".list-inline>li {display: inline-block}\n",
       ".list-inline>li:not(:last-child)::after {content: \"\\00b7\"; padding: 0 .5ex}\n",
       "</style>\n",
       "<ol class=list-inline><li>11.0555555555556</li><li>11</li><li>11.0555555555556</li><li>11.6666666666667</li></ol>\n"
      ],
      "text/latex": [
       "\\begin{enumerate*}\n",
       "\\item 11.0555555555556\n",
       "\\item 11\n",
       "\\item 11.0555555555556\n",
       "\\item 11.6666666666667\n",
       "\\end{enumerate*}\n"
      ],
      "text/markdown": [
       "1. 11.0555555555556\n",
       "2. 11\n",
       "3. 11.0555555555556\n",
       "4. 11.6666666666667\n",
       "\n",
       "\n"
      ],
      "text/plain": [
       "[1] 11.05556 11.00000 11.05556 11.66667"
      ]
     },
     "metadata": {},
     "output_type": "display_data"
    }
   ],
   "source": [
    "celsius <- 5/9 * (fahrenheit - 32)\n",
    "celsius"
   ]
  },
  {
   "cell_type": "markdown",
   "metadata": {},
   "source": [
    "c) Gegeben sind weitere Temperaturen\n",
    "$$48, 48.2, 48, 48.7$$\n",
    "Bestimmen Sie die Differenz zu den ursprünglichen Temperaturen. Benützen Sie wieder Vektoren."
   ]
  },
  {
   "cell_type": "code",
   "execution_count": 63,
   "metadata": {},
   "outputs": [
    {
     "data": {
      "text/html": [
       "<style>\n",
       ".list-inline {list-style: none; margin:0; padding: 0}\n",
       ".list-inline>li {display: inline-block}\n",
       ".list-inline>li:not(:last-child)::after {content: \"\\00b7\"; padding: 0 .5ex}\n",
       "</style>\n",
       "<ol class=list-inline><li>3.9</li><li>3.59999999999999</li><li>3.9</li><li>4.3</li></ol>\n"
      ],
      "text/latex": [
       "\\begin{enumerate*}\n",
       "\\item 3.9\n",
       "\\item 3.59999999999999\n",
       "\\item 3.9\n",
       "\\item 4.3\n",
       "\\end{enumerate*}\n"
      ],
      "text/markdown": [
       "1. 3.9\n",
       "2. 3.59999999999999\n",
       "3. 3.9\n",
       "4. 4.3\n",
       "\n",
       "\n"
      ],
      "text/plain": [
       "[1] 3.9 3.6 3.9 4.3"
      ]
     },
     "metadata": {},
     "output_type": "display_data"
    }
   ],
   "source": [
    "fahrenheit2 <- c(48, 48.2, 48, 48.7)\n",
    "fahrenheit - fahrenheit2"
   ]
  },
  {
   "cell_type": "markdown",
   "metadata": {},
   "source": [
    "## Aufgabe 1.3\n",
    "Wir haben von 6 Personen die Körpergewicht (kg) \n",
    "$$60, 72, 57, 90, 95, 72$$\n",
    "und das Körpergrösse (in m)\n",
    "$$1.75, 1.80, 1.65, 1.90, 1.74, 1.91$$\n",
    "gegeben.\n",
    "Nun wollen wir den Body Mass Index (BMI) berechnen. Dieser berechnet sich wie\n",
    "folgt\n",
    "$$BMI = \\frac{Gewicht}{Gr\\ddot{o}sse^2}$$\n",
    "a) Erzeugen Sie zwei Vektoren `weight` und `height."
   ]
  },
  {
   "cell_type": "code",
   "execution_count": 64,
   "metadata": {},
   "outputs": [],
   "source": [
    "weight = c(60, 72, 57, 90, 95, 72)\n",
    "height = c(1.75, 1.80, 1.65, 1.90, 1.74, 1.91)"
   ]
  },
  {
   "cell_type": "markdown",
   "metadata": {},
   "source": [
    "b) Berechnen Sie den BMI dieser 6 Personen gleichzeitig. Erzeugen Sie dazu einen Vektor `bmi`."
   ]
  },
  {
   "cell_type": "code",
   "execution_count": 65,
   "metadata": {},
   "outputs": [
    {
     "data": {
      "text/html": [
       "<style>\n",
       ".list-inline {list-style: none; margin:0; padding: 0}\n",
       ".list-inline>li {display: inline-block}\n",
       ".list-inline>li:not(:last-child)::after {content: \"\\00b7\"; padding: 0 .5ex}\n",
       "</style>\n",
       "<ol class=list-inline><li>19.5918367346939</li><li>22.2222222222222</li><li>20.9366391184573</li><li>24.9307479224377</li><li>31.3779891663364</li><li>19.7363010882377</li></ol>\n"
      ],
      "text/latex": [
       "\\begin{enumerate*}\n",
       "\\item 19.5918367346939\n",
       "\\item 22.2222222222222\n",
       "\\item 20.9366391184573\n",
       "\\item 24.9307479224377\n",
       "\\item 31.3779891663364\n",
       "\\item 19.7363010882377\n",
       "\\end{enumerate*}\n"
      ],
      "text/markdown": [
       "1. 19.5918367346939\n",
       "2. 22.2222222222222\n",
       "3. 20.9366391184573\n",
       "4. 24.9307479224377\n",
       "5. 31.3779891663364\n",
       "6. 19.7363010882377\n",
       "\n",
       "\n"
      ],
      "text/plain": [
       "[1] 19.59184 22.22222 20.93664 24.93075 31.37799 19.73630"
      ]
     },
     "metadata": {},
     "output_type": "display_data"
    }
   ],
   "source": [
    "bmi <- weight/height^2\n",
    "bmi"
   ]
  },
  {
   "cell_type": "markdown",
   "metadata": {},
   "source": [
    "## Aufgabe 1.4\n",
    "Die Hilfefunktion in `R` ist leider nicht sehr hilfreich. Man kann mit beispielweise `?...` einen Befehl abfragen, zum Beispiel `?seq`. Das Resultat ist für Anfänger aber meist mehr verwirrend als helfend."
   ]
  },
  {
   "cell_type": "markdown",
   "metadata": {},
   "source": [
    "a) Ein häufig vorkommender Befehl, ist der `seq(...)`-Befehl.\n",
    "Googeln Sie diesen Befehl mit den Suchworten wie r seq examples. Erklä-\n",
    "ren Sie die Funktionsweise dieses Befehles mit den Optionen `by` und `length.out`"
   ]
  },
  {
   "cell_type": "code",
   "execution_count": 66,
   "metadata": {},
   "outputs": [
    {
     "data": {
      "text/html": [
       "<style>\n",
       ".list-inline {list-style: none; margin:0; padding: 0}\n",
       ".list-inline>li {display: inline-block}\n",
       ".list-inline>li:not(:last-child)::after {content: \"\\00b7\"; padding: 0 .5ex}\n",
       "</style>\n",
       "<ol class=list-inline><li>1</li><li>4</li><li>7</li><li>10</li></ol>\n"
      ],
      "text/latex": [
       "\\begin{enumerate*}\n",
       "\\item 1\n",
       "\\item 4\n",
       "\\item 7\n",
       "\\item 10\n",
       "\\end{enumerate*}\n"
      ],
      "text/markdown": [
       "1. 1\n",
       "2. 4\n",
       "3. 7\n",
       "4. 10\n",
       "\n",
       "\n"
      ],
      "text/plain": [
       "[1]  1  4  7 10"
      ]
     },
     "metadata": {},
     "output_type": "display_data"
    },
    {
     "data": {
      "text/html": [
       "<style>\n",
       ".list-inline {list-style: none; margin:0; padding: 0}\n",
       ".list-inline>li {display: inline-block}\n",
       ".list-inline>li:not(:last-child)::after {content: \"\\00b7\"; padding: 0 .5ex}\n",
       "</style>\n",
       "<ol class=list-inline><li>1</li><li>43.0526315789474</li><li>85.1052631578947</li><li>127.157894736842</li><li>169.210526315789</li><li>211.263157894737</li><li>253.315789473684</li><li>295.368421052632</li><li>337.421052631579</li><li>379.473684210526</li><li>421.526315789474</li><li>463.578947368421</li><li>505.631578947368</li><li>547.684210526316</li><li>589.736842105263</li><li>631.789473684211</li><li>673.842105263158</li><li>715.894736842105</li><li>757.947368421053</li><li>800</li></ol>\n"
      ],
      "text/latex": [
       "\\begin{enumerate*}\n",
       "\\item 1\n",
       "\\item 43.0526315789474\n",
       "\\item 85.1052631578947\n",
       "\\item 127.157894736842\n",
       "\\item 169.210526315789\n",
       "\\item 211.263157894737\n",
       "\\item 253.315789473684\n",
       "\\item 295.368421052632\n",
       "\\item 337.421052631579\n",
       "\\item 379.473684210526\n",
       "\\item 421.526315789474\n",
       "\\item 463.578947368421\n",
       "\\item 505.631578947368\n",
       "\\item 547.684210526316\n",
       "\\item 589.736842105263\n",
       "\\item 631.789473684211\n",
       "\\item 673.842105263158\n",
       "\\item 715.894736842105\n",
       "\\item 757.947368421053\n",
       "\\item 800\n",
       "\\end{enumerate*}\n"
      ],
      "text/markdown": [
       "1. 1\n",
       "2. 43.0526315789474\n",
       "3. 85.1052631578947\n",
       "4. 127.157894736842\n",
       "5. 169.210526315789\n",
       "6. 211.263157894737\n",
       "7. 253.315789473684\n",
       "8. 295.368421052632\n",
       "9. 337.421052631579\n",
       "10. 379.473684210526\n",
       "11. 421.526315789474\n",
       "12. 463.578947368421\n",
       "13. 505.631578947368\n",
       "14. 547.684210526316\n",
       "15. 589.736842105263\n",
       "16. 631.789473684211\n",
       "17. 673.842105263158\n",
       "18. 715.894736842105\n",
       "19. 757.947368421053\n",
       "20. 800\n",
       "\n",
       "\n"
      ],
      "text/plain": [
       " [1]   1.00000  43.05263  85.10526 127.15789 169.21053 211.26316 253.31579\n",
       " [8] 295.36842 337.42105 379.47368 421.52632 463.57895 505.63158 547.68421\n",
       "[15] 589.73684 631.78947 673.84211 715.89474 757.94737 800.00000"
      ]
     },
     "metadata": {},
     "output_type": "display_data"
    }
   ],
   "source": [
    "# seq(from, to, by = , length.out = ) \n",
    "seq(1, 10, by = 3) \n",
    "seq(1, 800, length.out =20) \n",
    "# generiert eine Sequenz mit definiertem Start, sowie Endpunkt.\n",
    "# Die Option By definiert die Grösse zwischen den Werten\n",
    "# length.out definiert die Menge an Werte die zwischen from und to generiert werden\n"
   ]
  },
  {
   "cell_type": "markdown",
   "metadata": {},
   "source": [
    "b) Wir haben die folgende Liste gegeben"
   ]
  },
  {
   "cell_type": "code",
   "execution_count": 67,
   "metadata": {},
   "outputs": [],
   "source": [
    "x <- c(4, 10, 3, NA, NA, 1, 8)"
   ]
  },
  {
   "cell_type": "markdown",
   "metadata": {},
   "source": [
    "Zuerst eine Bemerkung zu den Wert `NA` (not available). Diese stehen für feh- lende Daten, die aus irgendeinem Grund nicht vorhanden sind. Dies kommt in Statistiken recht häufig vor.\n",
    "i) Wenn wir den Mittelwert von `x` bilden `mean(x)`, so ist das Resultat NA. Können Sie erklären, warum dies so ist?"
   ]
  },
  {
   "cell_type": "code",
   "execution_count": 68,
   "metadata": {},
   "outputs": [
    {
     "data": {
      "text/html": [
       "&lt;NA&gt;"
      ],
      "text/latex": [
       "<NA>"
      ],
      "text/markdown": [
       "&lt;NA&gt;"
      ],
      "text/plain": [
       "[1] NA"
      ]
     },
     "metadata": {},
     "output_type": "display_data"
    }
   ],
   "source": [
    "mean(x)\n",
    "# ein Mittelwert kann nicht gebildert werden, weil nicht genügend Daten zur Verfügung stellen"
   ]
  },
  {
   "cell_type": "markdown",
   "metadata": {},
   "source": [
    "ii) Wie können Sie den Mittelwert aller vorkommenden Werte bilden? Googeln Sie wieder."
   ]
  },
  {
   "cell_type": "code",
   "execution_count": 69,
   "metadata": {},
   "outputs": [
    {
     "data": {
      "text/html": [
       "5.2"
      ],
      "text/latex": [
       "5.2"
      ],
      "text/markdown": [
       "5.2"
      ],
      "text/plain": [
       "[1] 5.2"
      ]
     },
     "metadata": {},
     "output_type": "display_data"
    }
   ],
   "source": [
    "mean(x, na.rm=TRUE)"
   ]
  },
  {
   "cell_type": "markdown",
   "metadata": {},
   "source": [
    "iii) Wenden Sie die Befehle `sort(...)` und `order(...)` auf die Liste `x` an. Was machen diese Befehle?\n",
    "\n",
    "In beiden kommen die Optionen `na.last = ...` und `decreasing = ...`, die man `TRUE` (oder `T`) oder `FALSE` setzen kann. Was bewirken diese Optionen.\n"
   ]
  },
  {
   "cell_type": "code",
   "execution_count": 70,
   "metadata": {},
   "outputs": [
    {
     "data": {
      "text/html": [
       "<style>\n",
       ".list-inline {list-style: none; margin:0; padding: 0}\n",
       ".list-inline>li {display: inline-block}\n",
       ".list-inline>li:not(:last-child)::after {content: \"\\00b7\"; padding: 0 .5ex}\n",
       "</style>\n",
       "<ol class=list-inline><li>10</li><li>8</li><li>4</li><li>3</li><li>1</li></ol>\n"
      ],
      "text/latex": [
       "\\begin{enumerate*}\n",
       "\\item 10\n",
       "\\item 8\n",
       "\\item 4\n",
       "\\item 3\n",
       "\\item 1\n",
       "\\end{enumerate*}\n"
      ],
      "text/markdown": [
       "1. 10\n",
       "2. 8\n",
       "3. 4\n",
       "4. 3\n",
       "5. 1\n",
       "\n",
       "\n"
      ],
      "text/plain": [
       "[1] 10  8  4  3  1"
      ]
     },
     "metadata": {},
     "output_type": "display_data"
    },
    {
     "data": {
      "text/html": [
       "<style>\n",
       ".list-inline {list-style: none; margin:0; padding: 0}\n",
       ".list-inline>li {display: inline-block}\n",
       ".list-inline>li:not(:last-child)::after {content: \"\\00b7\"; padding: 0 .5ex}\n",
       "</style>\n",
       "<ol class=list-inline><li>6</li><li>3</li><li>1</li><li>7</li><li>2</li><li>4</li><li>5</li></ol>\n"
      ],
      "text/latex": [
       "\\begin{enumerate*}\n",
       "\\item 6\n",
       "\\item 3\n",
       "\\item 1\n",
       "\\item 7\n",
       "\\item 2\n",
       "\\item 4\n",
       "\\item 5\n",
       "\\end{enumerate*}\n"
      ],
      "text/markdown": [
       "1. 6\n",
       "2. 3\n",
       "3. 1\n",
       "4. 7\n",
       "5. 2\n",
       "6. 4\n",
       "7. 5\n",
       "\n",
       "\n"
      ],
      "text/plain": [
       "[1] 6 3 1 7 2 4 5"
      ]
     },
     "metadata": {},
     "output_type": "display_data"
    },
    {
     "data": {
      "text/html": [
       "<style>\n",
       ".list-inline {list-style: none; margin:0; padding: 0}\n",
       ".list-inline>li {display: inline-block}\n",
       ".list-inline>li:not(:last-child)::after {content: \"\\00b7\"; padding: 0 .5ex}\n",
       "</style>\n",
       "<ol class=list-inline><li>4</li><li>10</li><li>3</li><li>&lt;NA&gt;</li><li>&lt;NA&gt;</li><li>1</li><li>8</li></ol>\n"
      ],
      "text/latex": [
       "\\begin{enumerate*}\n",
       "\\item 4\n",
       "\\item 10\n",
       "\\item 3\n",
       "\\item <NA>\n",
       "\\item <NA>\n",
       "\\item 1\n",
       "\\item 8\n",
       "\\end{enumerate*}\n"
      ],
      "text/markdown": [
       "1. 4\n",
       "2. 10\n",
       "3. 3\n",
       "4. &lt;NA&gt;\n",
       "5. &lt;NA&gt;\n",
       "6. 1\n",
       "7. 8\n",
       "\n",
       "\n"
      ],
      "text/plain": [
       "[1]  4 10  3 NA NA  1  8"
      ]
     },
     "metadata": {},
     "output_type": "display_data"
    }
   ],
   "source": [
    "sort(x, decreasing = T)\n",
    "order(x)\n",
    "x\n",
    "# sort() sortiert die Werte aufsteigend, NA wird gefiltert\n",
    "# order() retourniert die Indexe der kleinsten Werte aufsteigend\n",
    "# decreasing = T : sortiert absteigend\n",
    "# na.last: stellt NA Werte ans Ende"
   ]
  },
  {
   "cell_type": "markdown",
   "metadata": {},
   "source": [
    "c) Plots spielen in der Statistik eine wichtige Rolle. Der folgende Plot ist zwar sehr einfach zu erstellen, sieht aber auch etwas gar schmucklos aus."
   ]
  },
  {
   "cell_type": "code",
   "execution_count": 71,
   "metadata": {},
   "outputs": [
    {
     "data": {
      "image/png": "[encoded data removed]",
      "text/plain": [
       "plot without title"
      ]
     },
     "metadata": {
      "image/png": {
       "height": 420,
       "width": 420
      }
     },
     "output_type": "display_data"
    }
   ],
   "source": [
    "z <- c(4, 2, 8, 9, 7, 5, 2, 1) \n",
    "plot(z)"
   ]
  },
  {
   "cell_type": "markdown",
   "metadata": {},
   "source": [
    "i) Ändern Sie im folgenden Befehl die Parameter der Optionen ab und be- schreiben Sie, was diese Optionen bewirken (vor allem type und lty, die anderen sollten klar sein). Googeln Sie."
   ]
  },
  {
   "cell_type": "code",
   "execution_count": 72,
   "metadata": {},
   "outputs": [
    {
     "data": {
      "image/png": "[encoded data removed]",
      "text/plain": [
       "Plot with title “Haupttitel”"
      ]
     },
     "metadata": {
      "image/png": {
       "height": 420,
       "width": 420
      }
     },
     "output_type": "display_data"
    }
   ],
   "source": [
    "plot(z,\n",
    "     type = \"l\",\n",
    "     col = \"blue\",\n",
    "     lty = 2,\n",
    "     main = \"Haupttitel\", xlab = \"Ein paar Zahlen\", ylab = \"Andere Zahlen\")\n",
    "# https://www.rdocumentation.org/packages/graphics/versions/3.6.2/topics/plot"
   ]
  },
  {
   "cell_type": "markdown",
   "metadata": {},
   "source": [
    "ii) Fügen Sie mit dem Befehl `abline(...)` drei Linien zur Graphik oben hinzu (siehe Graphik unten).\n",
    "\n",
    "* Eine senkrechte Gerade $x = 3$, durchgezogen, grün.\n",
    "* Eine waagrechte Gerade $y = 4$, gepunktet, rot.\n",
    "* Eine Gerade $y = 2x + 1$, gestrichelt mit langen Strichen, braun."
   ]
  },
  {
   "cell_type": "code",
   "execution_count": 73,
   "metadata": {},
   "outputs": [
    {
     "data": {
      "image/png": "[encoded data removed]",
      "text/plain": [
       "Plot with title “Haupttitel”"
      ]
     },
     "metadata": {
      "image/png": {
       "height": 420,
       "width": 420
      }
     },
     "output_type": "display_data"
    }
   ],
   "source": [
    "plot(z,\n",
    "     type = \"l\",\n",
    "     col = \"blue\",\n",
    "     lty = 2,\n",
    "     main = \"Haupttitel\", xlab = \"Ein paar Zahlen\", ylab = \"Andere Zahlen\")\n",
    "abline(a = NULL, b = NULL, h = NULL, v = 3, col = \"green\", lty=1)\n",
    "abline(a = NULL, b = NULL, h = 4, v = NULL, col = \"red\", lty=3)\n",
    "abline(a = 1, b = 2, col = \"brown\", lty=4)\n",
    "# plot und abline müssen zusammen ausgeführt werden"
   ]
  },
  {
   "cell_type": "markdown",
   "metadata": {},
   "source": [
    "## Aufgabe 1.5\n",
    "Diese Aufgabe befasst sich mit dem Datensatz `weather.csv`."
   ]
  },
  {
   "cell_type": "markdown",
   "metadata": {},
   "source": [
    "a) Laden Sie den Datensatz und speichern Sie diesen unter der Variable data ab."
   ]
  },
  {
   "cell_type": "code",
   "execution_count": 74,
   "metadata": {},
   "outputs": [
    {
     "data": {
      "text/html": [
       "<table>\n",
       "<caption>A data.frame: 6 × 4</caption>\n",
       "<thead>\n",
       "\t<tr><th></th><th scope=col>Luzern</th><th scope=col>Basel</th><th scope=col>Chur</th><th scope=col>Zurich</th></tr>\n",
       "\t<tr><th></th><th scope=col>&lt;int&gt;</th><th scope=col>&lt;int&gt;</th><th scope=col>&lt;int&gt;</th><th scope=col>&lt;int&gt;</th></tr>\n",
       "</thead>\n",
       "<tbody>\n",
       "\t<tr><th scope=row>Jan</th><td> 2</td><td> 5</td><td>-3</td><td> 4</td></tr>\n",
       "\t<tr><th scope=row>Feb</th><td> 5</td><td> 6</td><td> 1</td><td> 0</td></tr>\n",
       "\t<tr><th scope=row>Mar</th><td>10</td><td>11</td><td>13</td><td> 8</td></tr>\n",
       "\t<tr><th scope=row>Apr</th><td>16</td><td>12</td><td>14</td><td>17</td></tr>\n",
       "\t<tr><th scope=row>May</th><td>21</td><td>23</td><td>21</td><td>20</td></tr>\n",
       "\t<tr><th scope=row>Jun</th><td>25</td><td>21</td><td>23</td><td>27</td></tr>\n",
       "</tbody>\n",
       "</table>\n"
      ],
      "text/latex": [
       "A data.frame: 6 × 4\n",
       "\\begin{tabular}{r|llll}\n",
       "  & Luzern & Basel & Chur & Zurich\\\\\n",
       "  & <int> & <int> & <int> & <int>\\\\\n",
       "\\hline\n",
       "\tJan &  2 &  5 & -3 &  4\\\\\n",
       "\tFeb &  5 &  6 &  1 &  0\\\\\n",
       "\tMar & 10 & 11 & 13 &  8\\\\\n",
       "\tApr & 16 & 12 & 14 & 17\\\\\n",
       "\tMay & 21 & 23 & 21 & 20\\\\\n",
       "\tJun & 25 & 21 & 23 & 27\\\\\n",
       "\\end{tabular}\n"
      ],
      "text/markdown": [
       "\n",
       "A data.frame: 6 × 4\n",
       "\n",
       "| <!--/--> | Luzern &lt;int&gt; | Basel &lt;int&gt; | Chur &lt;int&gt; | Zurich &lt;int&gt; |\n",
       "|---|---|---|---|---|\n",
       "| Jan |  2 |  5 | -3 |  4 |\n",
       "| Feb |  5 |  6 |  1 |  0 |\n",
       "| Mar | 10 | 11 | 13 |  8 |\n",
       "| Apr | 16 | 12 | 14 | 17 |\n",
       "| May | 21 | 23 | 21 | 20 |\n",
       "| Jun | 25 | 21 | 23 | 27 |\n",
       "\n"
      ],
      "text/plain": [
       "    Luzern Basel Chur Zurich\n",
       "Jan  2      5    -3    4    \n",
       "Feb  5      6     1    0    \n",
       "Mar 10     11    13    8    \n",
       "Apr 16     12    14   17    \n",
       "May 21     23    21   20    \n",
       "Jun 25     21    23   27    "
      ]
     },
     "metadata": {},
     "output_type": "display_data"
    }
   ],
   "source": [
    "data = read.csv(\"weather.csv\")\n",
    "data"
   ]
  },
  {
   "cell_type": "markdown",
   "metadata": {},
   "source": [
    "b) Wählen Sie den Wert der zweiten Zeile und dritten Spalte aus."
   ]
  },
  {
   "cell_type": "code",
   "execution_count": 75,
   "metadata": {},
   "outputs": [
    {
     "data": {
      "text/html": [
       "<table>\n",
       "<caption>A data.frame: 6 × 2</caption>\n",
       "<thead>\n",
       "\t<tr><th></th><th scope=col>Basel</th><th scope=col>Chur</th></tr>\n",
       "\t<tr><th></th><th scope=col>&lt;int&gt;</th><th scope=col>&lt;int&gt;</th></tr>\n",
       "</thead>\n",
       "<tbody>\n",
       "\t<tr><th scope=row>Jan</th><td> 5</td><td>-3</td></tr>\n",
       "\t<tr><th scope=row>Feb</th><td> 6</td><td> 1</td></tr>\n",
       "\t<tr><th scope=row>Mar</th><td>11</td><td>13</td></tr>\n",
       "\t<tr><th scope=row>Apr</th><td>12</td><td>14</td></tr>\n",
       "\t<tr><th scope=row>May</th><td>23</td><td>21</td></tr>\n",
       "\t<tr><th scope=row>Jun</th><td>21</td><td>23</td></tr>\n",
       "</tbody>\n",
       "</table>\n"
      ],
      "text/latex": [
       "A data.frame: 6 × 2\n",
       "\\begin{tabular}{r|ll}\n",
       "  & Basel & Chur\\\\\n",
       "  & <int> & <int>\\\\\n",
       "\\hline\n",
       "\tJan &  5 & -3\\\\\n",
       "\tFeb &  6 &  1\\\\\n",
       "\tMar & 11 & 13\\\\\n",
       "\tApr & 12 & 14\\\\\n",
       "\tMay & 23 & 21\\\\\n",
       "\tJun & 21 & 23\\\\\n",
       "\\end{tabular}\n"
      ],
      "text/markdown": [
       "\n",
       "A data.frame: 6 × 2\n",
       "\n",
       "| <!--/--> | Basel &lt;int&gt; | Chur &lt;int&gt; |\n",
       "|---|---|---|\n",
       "| Jan |  5 | -3 |\n",
       "| Feb |  6 |  1 |\n",
       "| Mar | 11 | 13 |\n",
       "| Apr | 12 | 14 |\n",
       "| May | 23 | 21 |\n",
       "| Jun | 21 | 23 |\n",
       "\n"
      ],
      "text/plain": [
       "    Basel Chur\n",
       "Jan  5    -3  \n",
       "Feb  6     1  \n",
       "Mar 11    13  \n",
       "Apr 12    14  \n",
       "May 23    21  \n",
       "Jun 21    23  "
      ]
     },
     "metadata": {},
     "output_type": "display_data"
    }
   ],
   "source": [
    "data[2:3]"
   ]
  },
  {
   "cell_type": "markdown",
   "metadata": {},
   "source": [
    "c) Wählen Sie die 4. Zeile aus?"
   ]
  },
  {
   "cell_type": "code",
   "execution_count": 76,
   "metadata": {},
   "outputs": [
    {
     "data": {
      "text/html": [
       "<table>\n",
       "<caption>A data.frame: 6 × 1</caption>\n",
       "<thead>\n",
       "\t<tr><th></th><th scope=col>Zurich</th></tr>\n",
       "\t<tr><th></th><th scope=col>&lt;int&gt;</th></tr>\n",
       "</thead>\n",
       "<tbody>\n",
       "\t<tr><th scope=row>Jan</th><td> 4</td></tr>\n",
       "\t<tr><th scope=row>Feb</th><td> 0</td></tr>\n",
       "\t<tr><th scope=row>Mar</th><td> 8</td></tr>\n",
       "\t<tr><th scope=row>Apr</th><td>17</td></tr>\n",
       "\t<tr><th scope=row>May</th><td>20</td></tr>\n",
       "\t<tr><th scope=row>Jun</th><td>27</td></tr>\n",
       "</tbody>\n",
       "</table>\n"
      ],
      "text/latex": [
       "A data.frame: 6 × 1\n",
       "\\begin{tabular}{r|l}\n",
       "  & Zurich\\\\\n",
       "  & <int>\\\\\n",
       "\\hline\n",
       "\tJan &  4\\\\\n",
       "\tFeb &  0\\\\\n",
       "\tMar &  8\\\\\n",
       "\tApr & 17\\\\\n",
       "\tMay & 20\\\\\n",
       "\tJun & 27\\\\\n",
       "\\end{tabular}\n"
      ],
      "text/markdown": [
       "\n",
       "A data.frame: 6 × 1\n",
       "\n",
       "| <!--/--> | Zurich &lt;int&gt; |\n",
       "|---|---|\n",
       "| Jan |  4 |\n",
       "| Feb |  0 |\n",
       "| Mar |  8 |\n",
       "| Apr | 17 |\n",
       "| May | 20 |\n",
       "| Jun | 27 |\n",
       "\n"
      ],
      "text/plain": [
       "    Zurich\n",
       "Jan  4    \n",
       "Feb  0    \n",
       "Mar  8    \n",
       "Apr 17    \n",
       "May 20    \n",
       "Jun 27    "
      ]
     },
     "metadata": {},
     "output_type": "display_data"
    }
   ],
   "source": [
    "data[4]"
   ]
  },
  {
   "cell_type": "markdown",
   "metadata": {},
   "source": [
    "d) Wählen Sie die 1. und die 4. Spalte aus. Verwenden Sie dazu die Spaltennamen."
   ]
  },
  {
   "cell_type": "code",
   "execution_count": 77,
   "metadata": {},
   "outputs": [
    {
     "data": {
      "text/html": [
       "<table>\n",
       "<caption>A data.frame: 6 × 2</caption>\n",
       "<thead>\n",
       "\t<tr><th></th><th scope=col>Luzern</th><th scope=col>Zurich</th></tr>\n",
       "\t<tr><th></th><th scope=col>&lt;int&gt;</th><th scope=col>&lt;int&gt;</th></tr>\n",
       "</thead>\n",
       "<tbody>\n",
       "\t<tr><th scope=row>Jan</th><td> 2</td><td> 4</td></tr>\n",
       "\t<tr><th scope=row>Feb</th><td> 5</td><td> 0</td></tr>\n",
       "\t<tr><th scope=row>Mar</th><td>10</td><td> 8</td></tr>\n",
       "\t<tr><th scope=row>Apr</th><td>16</td><td>17</td></tr>\n",
       "\t<tr><th scope=row>May</th><td>21</td><td>20</td></tr>\n",
       "\t<tr><th scope=row>Jun</th><td>25</td><td>27</td></tr>\n",
       "</tbody>\n",
       "</table>\n"
      ],
      "text/latex": [
       "A data.frame: 6 × 2\n",
       "\\begin{tabular}{r|ll}\n",
       "  & Luzern & Zurich\\\\\n",
       "  & <int> & <int>\\\\\n",
       "\\hline\n",
       "\tJan &  2 &  4\\\\\n",
       "\tFeb &  5 &  0\\\\\n",
       "\tMar & 10 &  8\\\\\n",
       "\tApr & 16 & 17\\\\\n",
       "\tMay & 21 & 20\\\\\n",
       "\tJun & 25 & 27\\\\\n",
       "\\end{tabular}\n"
      ],
      "text/markdown": [
       "\n",
       "A data.frame: 6 × 2\n",
       "\n",
       "| <!--/--> | Luzern &lt;int&gt; | Zurich &lt;int&gt; |\n",
       "|---|---|---|\n",
       "| Jan |  2 |  4 |\n",
       "| Feb |  5 |  0 |\n",
       "| Mar | 10 |  8 |\n",
       "| Apr | 16 | 17 |\n",
       "| May | 21 | 20 |\n",
       "| Jun | 25 | 27 |\n",
       "\n"
      ],
      "text/plain": [
       "    Luzern Zurich\n",
       "Jan  2      4    \n",
       "Feb  5      0    \n",
       "Mar 10      8    \n",
       "Apr 16     17    \n",
       "May 21     20    \n",
       "Jun 25     27    "
      ]
     },
     "metadata": {},
     "output_type": "display_data"
    }
   ],
   "source": [
    "data[c(1,4)]"
   ]
  },
  {
   "cell_type": "markdown",
   "metadata": {},
   "source": [
    "e) Speichern Sie obige Data unter dem Namen `data1` ab und speichern Sie dies\n",
    "unter dem Namen `weather2.csv`."
   ]
  },
  {
   "cell_type": "code",
   "execution_count": 78,
   "metadata": {},
   "outputs": [
    {
     "name": "stdout",
     "output_type": "stream",
     "text": [
      "\"\",\"x\"\n",
      "\"1\",\"weather2.csv\"\n"
     ]
    }
   ],
   "source": [
    "data1 = data[c(1,4)]\n",
    "write.csv(\"weather2.csv\")"
   ]
  },
  {
   "cell_type": "markdown",
   "metadata": {},
   "source": [
    "f) Wie können Sie herausfinden (mit R natürlich), welches der Name der 3. Spalte\n",
    "ist?"
   ]
  },
  {
   "cell_type": "code",
   "execution_count": 79,
   "metadata": {},
   "outputs": [
    {
     "data": {
      "text/html": [
       "'Chur'"
      ],
      "text/latex": [
       "'Chur'"
      ],
      "text/markdown": [
       "'Chur'"
      ],
      "text/plain": [
       "[1] \"Chur\""
      ]
     },
     "metadata": {},
     "output_type": "display_data"
    }
   ],
   "source": [
    "colnames(data[c(3)])"
   ]
  },
  {
   "cell_type": "markdown",
   "metadata": {},
   "source": [
    "g) Wir möchten den Spalten Basel durch Genf ersetzen. Wie würden Sie vorge- hen?"
   ]
  },
  {
   "cell_type": "code",
   "execution_count": 80,
   "metadata": {},
   "outputs": [
    {
     "data": {
      "text/html": [
       "<table>\n",
       "<caption>A data.frame: 6 × 4</caption>\n",
       "<thead>\n",
       "\t<tr><th></th><th scope=col>Luzern</th><th scope=col>Basel</th><th scope=col>Chur</th><th scope=col>Zurich</th></tr>\n",
       "\t<tr><th></th><th scope=col>&lt;int&gt;</th><th scope=col>&lt;int&gt;</th><th scope=col>&lt;int&gt;</th><th scope=col>&lt;int&gt;</th></tr>\n",
       "</thead>\n",
       "<tbody>\n",
       "\t<tr><th scope=row>Feb</th><td> 5</td><td> 6</td><td> 1</td><td> 0</td></tr>\n",
       "\t<tr><th scope=row>Jan</th><td> 2</td><td> 5</td><td>-3</td><td> 4</td></tr>\n",
       "\t<tr><th scope=row>Mar</th><td>10</td><td>11</td><td>13</td><td> 8</td></tr>\n",
       "\t<tr><th scope=row>Apr</th><td>16</td><td>12</td><td>14</td><td>17</td></tr>\n",
       "\t<tr><th scope=row>May</th><td>21</td><td>23</td><td>21</td><td>20</td></tr>\n",
       "\t<tr><th scope=row>Jun</th><td>25</td><td>21</td><td>23</td><td>27</td></tr>\n",
       "</tbody>\n",
       "</table>\n"
      ],
      "text/latex": [
       "A data.frame: 6 × 4\n",
       "\\begin{tabular}{r|llll}\n",
       "  & Luzern & Basel & Chur & Zurich\\\\\n",
       "  & <int> & <int> & <int> & <int>\\\\\n",
       "\\hline\n",
       "\tFeb &  5 &  6 &  1 &  0\\\\\n",
       "\tJan &  2 &  5 & -3 &  4\\\\\n",
       "\tMar & 10 & 11 & 13 &  8\\\\\n",
       "\tApr & 16 & 12 & 14 & 17\\\\\n",
       "\tMay & 21 & 23 & 21 & 20\\\\\n",
       "\tJun & 25 & 21 & 23 & 27\\\\\n",
       "\\end{tabular}\n"
      ],
      "text/markdown": [
       "\n",
       "A data.frame: 6 × 4\n",
       "\n",
       "| <!--/--> | Luzern &lt;int&gt; | Basel &lt;int&gt; | Chur &lt;int&gt; | Zurich &lt;int&gt; |\n",
       "|---|---|---|---|---|\n",
       "| Feb |  5 |  6 |  1 |  0 |\n",
       "| Jan |  2 |  5 | -3 |  4 |\n",
       "| Mar | 10 | 11 | 13 |  8 |\n",
       "| Apr | 16 | 12 | 14 | 17 |\n",
       "| May | 21 | 23 | 21 | 20 |\n",
       "| Jun | 25 | 21 | 23 | 27 |\n",
       "\n"
      ],
      "text/plain": [
       "    Luzern Basel Chur Zurich\n",
       "Feb  5      6     1    0    \n",
       "Jan  2      5    -3    4    \n",
       "Mar 10     11    13    8    \n",
       "Apr 16     12    14   17    \n",
       "May 21     23    21   20    \n",
       "Jun 25     21    23   27    "
      ]
     },
     "metadata": {},
     "output_type": "display_data"
    }
   ],
   "source": [
    "data3 <- data[order(data[, \"Zurich\"]), ]\n",
    "data3\n",
    "# Der Befehl erzeugt eine neue Tabelle mit den Temperaturen aufsteigend anhand Spalte Zurich\n",
    "# data[, \"Zurich\"] exptrahiert nur die Werte von Zurich, order gibt die Indexe entsprechend aufsteigender\n",
    "# Werte zurück und damit wird der neue Vektor gebildet."
   ]
  },
  {
   "cell_type": "markdown",
   "metadata": {},
   "source": [
    "## Aufgabe 1.6\n",
    "Das Dataframe `d.fuel` enthält die Daten verschiedener Fahrzeuge aus einer amerikanischen Untersuchung der 80er-Jahre. Jede Zeile (row) enthält die Daten eines Fahrzeuges (ein Fahrzeug entspricht einer Beobachtung)."
   ]
  },
  {
   "cell_type": "markdown",
   "metadata": {},
   "source": [
    "a) Lesen Sie die auf Ilias abgelegte Datei d.fuel.dat ein mit dem folgenden R- Befehl:"
   ]
  },
  {
   "cell_type": "code",
   "execution_count": 81,
   "metadata": {},
   "outputs": [
    {
     "data": {
      "text/html": [
       "<table>\n",
       "<caption>A data.frame: 60 × 4</caption>\n",
       "<thead>\n",
       "\t<tr><th scope=col>X</th><th scope=col>weight</th><th scope=col>mpg</th><th scope=col>type</th></tr>\n",
       "\t<tr><th scope=col>&lt;int&gt;</th><th scope=col>&lt;int&gt;</th><th scope=col>&lt;int&gt;</th><th scope=col>&lt;chr&gt;</th></tr>\n",
       "</thead>\n",
       "<tbody>\n",
       "\t<tr><td> 1</td><td>2560</td><td>33</td><td>Small  </td></tr>\n",
       "\t<tr><td> 2</td><td>2345</td><td>33</td><td>Small  </td></tr>\n",
       "\t<tr><td> 3</td><td>1845</td><td>37</td><td>Small  </td></tr>\n",
       "\t<tr><td> 4</td><td>2260</td><td>32</td><td>Small  </td></tr>\n",
       "\t<tr><td> 5</td><td>2440</td><td>32</td><td>Small  </td></tr>\n",
       "\t<tr><td> 6</td><td>2285</td><td>26</td><td>Small  </td></tr>\n",
       "\t<tr><td> 7</td><td>2275</td><td>33</td><td>Small  </td></tr>\n",
       "\t<tr><td> 8</td><td>2350</td><td>28</td><td>Small  </td></tr>\n",
       "\t<tr><td> 9</td><td>2295</td><td>25</td><td>Small  </td></tr>\n",
       "\t<tr><td>10</td><td>1900</td><td>34</td><td>Small  </td></tr>\n",
       "\t<tr><td>11</td><td>2390</td><td>29</td><td>Small  </td></tr>\n",
       "\t<tr><td>12</td><td>2075</td><td>35</td><td>Small  </td></tr>\n",
       "\t<tr><td>13</td><td>2330</td><td>26</td><td>Small  </td></tr>\n",
       "\t<tr><td>14</td><td>3320</td><td>20</td><td>Sporty </td></tr>\n",
       "\t<tr><td>15</td><td>2885</td><td>27</td><td>Sporty </td></tr>\n",
       "\t<tr><td>16</td><td>3310</td><td>19</td><td>Sporty </td></tr>\n",
       "\t<tr><td>17</td><td>2695</td><td>30</td><td>Sporty </td></tr>\n",
       "\t<tr><td>18</td><td>2170</td><td>33</td><td>Sporty </td></tr>\n",
       "\t<tr><td>19</td><td>2710</td><td>27</td><td>Sporty </td></tr>\n",
       "\t<tr><td>20</td><td>2775</td><td>24</td><td>Sporty </td></tr>\n",
       "\t<tr><td>21</td><td>2840</td><td>26</td><td>Sporty </td></tr>\n",
       "\t<tr><td>22</td><td>2485</td><td>28</td><td>Sporty </td></tr>\n",
       "\t<tr><td>23</td><td>2670</td><td>27</td><td>Compact</td></tr>\n",
       "\t<tr><td>24</td><td>2640</td><td>23</td><td>Compact</td></tr>\n",
       "\t<tr><td>25</td><td>2655</td><td>26</td><td>Compact</td></tr>\n",
       "\t<tr><td>26</td><td>3065</td><td>25</td><td>Compact</td></tr>\n",
       "\t<tr><td>27</td><td>2750</td><td>24</td><td>Compact</td></tr>\n",
       "\t<tr><td>28</td><td>2920</td><td>26</td><td>Compact</td></tr>\n",
       "\t<tr><td>29</td><td>2780</td><td>24</td><td>Compact</td></tr>\n",
       "\t<tr><td>30</td><td>2745</td><td>25</td><td>Compact</td></tr>\n",
       "\t<tr><td>31</td><td>3110</td><td>21</td><td>Compact</td></tr>\n",
       "\t<tr><td>32</td><td>2920</td><td>21</td><td>Compact</td></tr>\n",
       "\t<tr><td>33</td><td>2645</td><td>23</td><td>Compact</td></tr>\n",
       "\t<tr><td>34</td><td>2575</td><td>24</td><td>Compact</td></tr>\n",
       "\t<tr><td>35</td><td>2935</td><td>23</td><td>Compact</td></tr>\n",
       "\t<tr><td>36</td><td>2920</td><td>27</td><td>Compact</td></tr>\n",
       "\t<tr><td>37</td><td>2985</td><td>23</td><td>Compact</td></tr>\n",
       "\t<tr><td>38</td><td>3265</td><td>20</td><td>Medium </td></tr>\n",
       "\t<tr><td>39</td><td>2880</td><td>21</td><td>Medium </td></tr>\n",
       "\t<tr><td>40</td><td>2975</td><td>22</td><td>Medium </td></tr>\n",
       "\t<tr><td>41</td><td>3450</td><td>22</td><td>Medium </td></tr>\n",
       "\t<tr><td>42</td><td>3145</td><td>22</td><td>Medium </td></tr>\n",
       "\t<tr><td>43</td><td>3190</td><td>22</td><td>Medium </td></tr>\n",
       "\t<tr><td>44</td><td>3610</td><td>23</td><td>Medium </td></tr>\n",
       "\t<tr><td>45</td><td>2885</td><td>23</td><td>Medium </td></tr>\n",
       "\t<tr><td>46</td><td>3480</td><td>21</td><td>Medium </td></tr>\n",
       "\t<tr><td>47</td><td>3200</td><td>22</td><td>Medium </td></tr>\n",
       "\t<tr><td>48</td><td>2765</td><td>21</td><td>Medium </td></tr>\n",
       "\t<tr><td>49</td><td>3220</td><td>21</td><td>Medium </td></tr>\n",
       "\t<tr><td>50</td><td>3480</td><td>23</td><td>Medium </td></tr>\n",
       "\t<tr><td>51</td><td>3325</td><td>23</td><td>Large  </td></tr>\n",
       "\t<tr><td>52</td><td>3855</td><td>18</td><td>Large  </td></tr>\n",
       "\t<tr><td>53</td><td>3850</td><td>20</td><td>Large  </td></tr>\n",
       "\t<tr><td>54</td><td>3195</td><td>18</td><td>Van    </td></tr>\n",
       "\t<tr><td>55</td><td>3735</td><td>18</td><td>Van    </td></tr>\n",
       "\t<tr><td>56</td><td>3665</td><td>18</td><td>Van    </td></tr>\n",
       "\t<tr><td>57</td><td>3735</td><td>19</td><td>Van    </td></tr>\n",
       "\t<tr><td>58</td><td>3415</td><td>20</td><td>Van    </td></tr>\n",
       "\t<tr><td>59</td><td>3185</td><td>20</td><td>Van    </td></tr>\n",
       "\t<tr><td>60</td><td>3690</td><td>19</td><td>Van    </td></tr>\n",
       "</tbody>\n",
       "</table>\n"
      ],
      "text/latex": [
       "A data.frame: 60 × 4\n",
       "\\begin{tabular}{llll}\n",
       " X & weight & mpg & type\\\\\n",
       " <int> & <int> & <int> & <chr>\\\\\n",
       "\\hline\n",
       "\t  1 & 2560 & 33 & Small  \\\\\n",
       "\t  2 & 2345 & 33 & Small  \\\\\n",
       "\t  3 & 1845 & 37 & Small  \\\\\n",
       "\t  4 & 2260 & 32 & Small  \\\\\n",
       "\t  5 & 2440 & 32 & Small  \\\\\n",
       "\t  6 & 2285 & 26 & Small  \\\\\n",
       "\t  7 & 2275 & 33 & Small  \\\\\n",
       "\t  8 & 2350 & 28 & Small  \\\\\n",
       "\t  9 & 2295 & 25 & Small  \\\\\n",
       "\t 10 & 1900 & 34 & Small  \\\\\n",
       "\t 11 & 2390 & 29 & Small  \\\\\n",
       "\t 12 & 2075 & 35 & Small  \\\\\n",
       "\t 13 & 2330 & 26 & Small  \\\\\n",
       "\t 14 & 3320 & 20 & Sporty \\\\\n",
       "\t 15 & 2885 & 27 & Sporty \\\\\n",
       "\t 16 & 3310 & 19 & Sporty \\\\\n",
       "\t 17 & 2695 & 30 & Sporty \\\\\n",
       "\t 18 & 2170 & 33 & Sporty \\\\\n",
       "\t 19 & 2710 & 27 & Sporty \\\\\n",
       "\t 20 & 2775 & 24 & Sporty \\\\\n",
       "\t 21 & 2840 & 26 & Sporty \\\\\n",
       "\t 22 & 2485 & 28 & Sporty \\\\\n",
       "\t 23 & 2670 & 27 & Compact\\\\\n",
       "\t 24 & 2640 & 23 & Compact\\\\\n",
       "\t 25 & 2655 & 26 & Compact\\\\\n",
       "\t 26 & 3065 & 25 & Compact\\\\\n",
       "\t 27 & 2750 & 24 & Compact\\\\\n",
       "\t 28 & 2920 & 26 & Compact\\\\\n",
       "\t 29 & 2780 & 24 & Compact\\\\\n",
       "\t 30 & 2745 & 25 & Compact\\\\\n",
       "\t 31 & 3110 & 21 & Compact\\\\\n",
       "\t 32 & 2920 & 21 & Compact\\\\\n",
       "\t 33 & 2645 & 23 & Compact\\\\\n",
       "\t 34 & 2575 & 24 & Compact\\\\\n",
       "\t 35 & 2935 & 23 & Compact\\\\\n",
       "\t 36 & 2920 & 27 & Compact\\\\\n",
       "\t 37 & 2985 & 23 & Compact\\\\\n",
       "\t 38 & 3265 & 20 & Medium \\\\\n",
       "\t 39 & 2880 & 21 & Medium \\\\\n",
       "\t 40 & 2975 & 22 & Medium \\\\\n",
       "\t 41 & 3450 & 22 & Medium \\\\\n",
       "\t 42 & 3145 & 22 & Medium \\\\\n",
       "\t 43 & 3190 & 22 & Medium \\\\\n",
       "\t 44 & 3610 & 23 & Medium \\\\\n",
       "\t 45 & 2885 & 23 & Medium \\\\\n",
       "\t 46 & 3480 & 21 & Medium \\\\\n",
       "\t 47 & 3200 & 22 & Medium \\\\\n",
       "\t 48 & 2765 & 21 & Medium \\\\\n",
       "\t 49 & 3220 & 21 & Medium \\\\\n",
       "\t 50 & 3480 & 23 & Medium \\\\\n",
       "\t 51 & 3325 & 23 & Large  \\\\\n",
       "\t 52 & 3855 & 18 & Large  \\\\\n",
       "\t 53 & 3850 & 20 & Large  \\\\\n",
       "\t 54 & 3195 & 18 & Van    \\\\\n",
       "\t 55 & 3735 & 18 & Van    \\\\\n",
       "\t 56 & 3665 & 18 & Van    \\\\\n",
       "\t 57 & 3735 & 19 & Van    \\\\\n",
       "\t 58 & 3415 & 20 & Van    \\\\\n",
       "\t 59 & 3185 & 20 & Van    \\\\\n",
       "\t 60 & 3690 & 19 & Van    \\\\\n",
       "\\end{tabular}\n"
      ],
      "text/markdown": [
       "\n",
       "A data.frame: 60 × 4\n",
       "\n",
       "| X &lt;int&gt; | weight &lt;int&gt; | mpg &lt;int&gt; | type &lt;chr&gt; |\n",
       "|---|---|---|---|\n",
       "|  1 | 2560 | 33 | Small   |\n",
       "|  2 | 2345 | 33 | Small   |\n",
       "|  3 | 1845 | 37 | Small   |\n",
       "|  4 | 2260 | 32 | Small   |\n",
       "|  5 | 2440 | 32 | Small   |\n",
       "|  6 | 2285 | 26 | Small   |\n",
       "|  7 | 2275 | 33 | Small   |\n",
       "|  8 | 2350 | 28 | Small   |\n",
       "|  9 | 2295 | 25 | Small   |\n",
       "| 10 | 1900 | 34 | Small   |\n",
       "| 11 | 2390 | 29 | Small   |\n",
       "| 12 | 2075 | 35 | Small   |\n",
       "| 13 | 2330 | 26 | Small   |\n",
       "| 14 | 3320 | 20 | Sporty  |\n",
       "| 15 | 2885 | 27 | Sporty  |\n",
       "| 16 | 3310 | 19 | Sporty  |\n",
       "| 17 | 2695 | 30 | Sporty  |\n",
       "| 18 | 2170 | 33 | Sporty  |\n",
       "| 19 | 2710 | 27 | Sporty  |\n",
       "| 20 | 2775 | 24 | Sporty  |\n",
       "| 21 | 2840 | 26 | Sporty  |\n",
       "| 22 | 2485 | 28 | Sporty  |\n",
       "| 23 | 2670 | 27 | Compact |\n",
       "| 24 | 2640 | 23 | Compact |\n",
       "| 25 | 2655 | 26 | Compact |\n",
       "| 26 | 3065 | 25 | Compact |\n",
       "| 27 | 2750 | 24 | Compact |\n",
       "| 28 | 2920 | 26 | Compact |\n",
       "| 29 | 2780 | 24 | Compact |\n",
       "| 30 | 2745 | 25 | Compact |\n",
       "| 31 | 3110 | 21 | Compact |\n",
       "| 32 | 2920 | 21 | Compact |\n",
       "| 33 | 2645 | 23 | Compact |\n",
       "| 34 | 2575 | 24 | Compact |\n",
       "| 35 | 2935 | 23 | Compact |\n",
       "| 36 | 2920 | 27 | Compact |\n",
       "| 37 | 2985 | 23 | Compact |\n",
       "| 38 | 3265 | 20 | Medium  |\n",
       "| 39 | 2880 | 21 | Medium  |\n",
       "| 40 | 2975 | 22 | Medium  |\n",
       "| 41 | 3450 | 22 | Medium  |\n",
       "| 42 | 3145 | 22 | Medium  |\n",
       "| 43 | 3190 | 22 | Medium  |\n",
       "| 44 | 3610 | 23 | Medium  |\n",
       "| 45 | 2885 | 23 | Medium  |\n",
       "| 46 | 3480 | 21 | Medium  |\n",
       "| 47 | 3200 | 22 | Medium  |\n",
       "| 48 | 2765 | 21 | Medium  |\n",
       "| 49 | 3220 | 21 | Medium  |\n",
       "| 50 | 3480 | 23 | Medium  |\n",
       "| 51 | 3325 | 23 | Large   |\n",
       "| 52 | 3855 | 18 | Large   |\n",
       "| 53 | 3850 | 20 | Large   |\n",
       "| 54 | 3195 | 18 | Van     |\n",
       "| 55 | 3735 | 18 | Van     |\n",
       "| 56 | 3665 | 18 | Van     |\n",
       "| 57 | 3735 | 19 | Van     |\n",
       "| 58 | 3415 | 20 | Van     |\n",
       "| 59 | 3185 | 20 | Van     |\n",
       "| 60 | 3690 | 19 | Van     |\n",
       "\n"
      ],
      "text/plain": [
       "   X  weight mpg type   \n",
       "1   1 2560   33  Small  \n",
       "2   2 2345   33  Small  \n",
       "3   3 1845   37  Small  \n",
       "4   4 2260   32  Small  \n",
       "5   5 2440   32  Small  \n",
       "6   6 2285   26  Small  \n",
       "7   7 2275   33  Small  \n",
       "8   8 2350   28  Small  \n",
       "9   9 2295   25  Small  \n",
       "10 10 1900   34  Small  \n",
       "11 11 2390   29  Small  \n",
       "12 12 2075   35  Small  \n",
       "13 13 2330   26  Small  \n",
       "14 14 3320   20  Sporty \n",
       "15 15 2885   27  Sporty \n",
       "16 16 3310   19  Sporty \n",
       "17 17 2695   30  Sporty \n",
       "18 18 2170   33  Sporty \n",
       "19 19 2710   27  Sporty \n",
       "20 20 2775   24  Sporty \n",
       "21 21 2840   26  Sporty \n",
       "22 22 2485   28  Sporty \n",
       "23 23 2670   27  Compact\n",
       "24 24 2640   23  Compact\n",
       "25 25 2655   26  Compact\n",
       "26 26 3065   25  Compact\n",
       "27 27 2750   24  Compact\n",
       "28 28 2920   26  Compact\n",
       "29 29 2780   24  Compact\n",
       "30 30 2745   25  Compact\n",
       "31 31 3110   21  Compact\n",
       "32 32 2920   21  Compact\n",
       "33 33 2645   23  Compact\n",
       "34 34 2575   24  Compact\n",
       "35 35 2935   23  Compact\n",
       "36 36 2920   27  Compact\n",
       "37 37 2985   23  Compact\n",
       "38 38 3265   20  Medium \n",
       "39 39 2880   21  Medium \n",
       "40 40 2975   22  Medium \n",
       "41 41 3450   22  Medium \n",
       "42 42 3145   22  Medium \n",
       "43 43 3190   22  Medium \n",
       "44 44 3610   23  Medium \n",
       "45 45 2885   23  Medium \n",
       "46 46 3480   21  Medium \n",
       "47 47 3200   22  Medium \n",
       "48 48 2765   21  Medium \n",
       "49 49 3220   21  Medium \n",
       "50 50 3480   23  Medium \n",
       "51 51 3325   23  Large  \n",
       "52 52 3855   18  Large  \n",
       "53 53 3850   20  Large  \n",
       "54 54 3195   18  Van    \n",
       "55 55 3735   18  Van    \n",
       "56 56 3665   18  Van    \n",
       "57 57 3735   19  Van    \n",
       "58 58 3415   20  Van    \n",
       "59 59 3185   20  Van    \n",
       "60 60 3690   19  Van    "
      ]
     },
     "metadata": {},
     "output_type": "display_data"
    },
    {
     "data": {
      "text/plain": [
       "       X             weight          mpg            type          \n",
       " Min.   : 1.00   Min.   :1845   Min.   :18.00   Length:60         \n",
       " 1st Qu.:15.75   1st Qu.:2571   1st Qu.:21.00   Class :character  \n",
       " Median :30.50   Median :2885   Median :23.00   Mode  :character  \n",
       " Mean   :30.50   Mean   :2901   Mean   :24.58                     \n",
       " 3rd Qu.:45.25   3rd Qu.:3231   3rd Qu.:27.00                     \n",
       " Max.   :60.00   Max.   :3855   Max.   :37.00                     "
      ]
     },
     "metadata": {},
     "output_type": "display_data"
    }
   ],
   "source": [
    "d.fuel <- read.table(file = \"./d.fuel.dat\", header = T, sep = \",\")\n",
    "d.fuel\n",
    "summary(d.fuel)"
   ]
  },
  {
   "cell_type": "markdown",
   "metadata": {},
   "source": [
    "Das Argument `sep = \",\"` braucht es, weil die Kolonnen im File d.fuel.dat durch Kommata getrennt sind. Im File d.fuel.dat wurden die Zeilen durchnum- meriert und daher steht in der ersten Spalte die Nummer der Zeile. Die Spalten (columns) enthalten die folgenden Variablen:\n",
    "\n",
    "- weight:   Gewicht in Pounds (1 Pound = 0.453 59 kg)\n",
    "- mpg:      Reichweite in Miles Per Gallon (1 gallon = 3.789 l; 1 mile = 1.6093 km) \n",
    "- type:     Autotyp\n",
    "\n",
    "b) Wählen Sie nur die fünfte Zeile des Dataframe d.fuel aus. Welche Werte stehen in der fünften Zeile?"
   ]
  },
  {
   "cell_type": "code",
   "execution_count": 82,
   "metadata": {},
   "outputs": [
    {
     "data": {
      "text/html": [
       "<table>\n",
       "<caption>A data.frame: 1 × 4</caption>\n",
       "<thead>\n",
       "\t<tr><th></th><th scope=col>X</th><th scope=col>weight</th><th scope=col>mpg</th><th scope=col>type</th></tr>\n",
       "\t<tr><th></th><th scope=col>&lt;int&gt;</th><th scope=col>&lt;int&gt;</th><th scope=col>&lt;int&gt;</th><th scope=col>&lt;chr&gt;</th></tr>\n",
       "</thead>\n",
       "<tbody>\n",
       "\t<tr><th scope=row>5</th><td>5</td><td>2440</td><td>32</td><td>Small</td></tr>\n",
       "</tbody>\n",
       "</table>\n"
      ],
      "text/latex": [
       "A data.frame: 1 × 4\n",
       "\\begin{tabular}{r|llll}\n",
       "  & X & weight & mpg & type\\\\\n",
       "  & <int> & <int> & <int> & <chr>\\\\\n",
       "\\hline\n",
       "\t5 & 5 & 2440 & 32 & Small\\\\\n",
       "\\end{tabular}\n"
      ],
      "text/markdown": [
       "\n",
       "A data.frame: 1 × 4\n",
       "\n",
       "| <!--/--> | X &lt;int&gt; | weight &lt;int&gt; | mpg &lt;int&gt; | type &lt;chr&gt; |\n",
       "|---|---|---|---|---|\n",
       "| 5 | 5 | 2440 | 32 | Small |\n",
       "\n"
      ],
      "text/plain": [
       "  X weight mpg type \n",
       "5 5 2440   32  Small"
      ]
     },
     "metadata": {},
     "output_type": "display_data"
    }
   ],
   "source": [
    "d.fuel[5,]"
   ]
  },
  {
   "cell_type": "markdown",
   "metadata": {},
   "source": [
    "c) Wählen Sie nun die erste bis fünfte Beobachtung des Datensatzes aus. So lässt sich übrigens bei einem unbekannten Datensatz ein schneller Überblick über die Art des Dataframe gewinnen."
   ]
  },
  {
   "cell_type": "code",
   "execution_count": 83,
   "metadata": {},
   "outputs": [
    {
     "data": {
      "text/html": [
       "<table>\n",
       "<caption>A data.frame: 6 × 4</caption>\n",
       "<thead>\n",
       "\t<tr><th></th><th scope=col>X</th><th scope=col>weight</th><th scope=col>mpg</th><th scope=col>type</th></tr>\n",
       "\t<tr><th></th><th scope=col>&lt;int&gt;</th><th scope=col>&lt;int&gt;</th><th scope=col>&lt;int&gt;</th><th scope=col>&lt;chr&gt;</th></tr>\n",
       "</thead>\n",
       "<tbody>\n",
       "\t<tr><th scope=row>1</th><td>1</td><td>2560</td><td>33</td><td>Small</td></tr>\n",
       "\t<tr><th scope=row>2</th><td>2</td><td>2345</td><td>33</td><td>Small</td></tr>\n",
       "\t<tr><th scope=row>3</th><td>3</td><td>1845</td><td>37</td><td>Small</td></tr>\n",
       "\t<tr><th scope=row>4</th><td>4</td><td>2260</td><td>32</td><td>Small</td></tr>\n",
       "\t<tr><th scope=row>5</th><td>5</td><td>2440</td><td>32</td><td>Small</td></tr>\n",
       "\t<tr><th scope=row>6</th><td>6</td><td>2285</td><td>26</td><td>Small</td></tr>\n",
       "</tbody>\n",
       "</table>\n"
      ],
      "text/latex": [
       "A data.frame: 6 × 4\n",
       "\\begin{tabular}{r|llll}\n",
       "  & X & weight & mpg & type\\\\\n",
       "  & <int> & <int> & <int> & <chr>\\\\\n",
       "\\hline\n",
       "\t1 & 1 & 2560 & 33 & Small\\\\\n",
       "\t2 & 2 & 2345 & 33 & Small\\\\\n",
       "\t3 & 3 & 1845 & 37 & Small\\\\\n",
       "\t4 & 4 & 2260 & 32 & Small\\\\\n",
       "\t5 & 5 & 2440 & 32 & Small\\\\\n",
       "\t6 & 6 & 2285 & 26 & Small\\\\\n",
       "\\end{tabular}\n"
      ],
      "text/markdown": [
       "\n",
       "A data.frame: 6 × 4\n",
       "\n",
       "| <!--/--> | X &lt;int&gt; | weight &lt;int&gt; | mpg &lt;int&gt; | type &lt;chr&gt; |\n",
       "|---|---|---|---|---|\n",
       "| 1 | 1 | 2560 | 33 | Small |\n",
       "| 2 | 2 | 2345 | 33 | Small |\n",
       "| 3 | 3 | 1845 | 37 | Small |\n",
       "| 4 | 4 | 2260 | 32 | Small |\n",
       "| 5 | 5 | 2440 | 32 | Small |\n",
       "| 6 | 6 | 2285 | 26 | Small |\n",
       "\n"
      ],
      "text/plain": [
       "  X weight mpg type \n",
       "1 1 2560   33  Small\n",
       "2 2 2345   33  Small\n",
       "3 3 1845   37  Small\n",
       "4 4 2260   32  Small\n",
       "5 5 2440   32  Small\n",
       "6 6 2285   26  Small"
      ]
     },
     "metadata": {},
     "output_type": "display_data"
    }
   ],
   "source": [
    "head(d.fuel)"
   ]
  },
  {
   "cell_type": "markdown",
   "metadata": {},
   "source": [
    "d) Zeigen Sie gleichzeitig die 1. bis 3. und die 57. bis 60. Beobachtung des Daten- satzes an."
   ]
  },
  {
   "cell_type": "code",
   "execution_count": 84,
   "metadata": {},
   "outputs": [
    {
     "data": {
      "text/html": [
       "<table>\n",
       "<caption>A data.frame: 7 × 4</caption>\n",
       "<thead>\n",
       "\t<tr><th></th><th scope=col>X</th><th scope=col>weight</th><th scope=col>mpg</th><th scope=col>type</th></tr>\n",
       "\t<tr><th></th><th scope=col>&lt;int&gt;</th><th scope=col>&lt;int&gt;</th><th scope=col>&lt;int&gt;</th><th scope=col>&lt;chr&gt;</th></tr>\n",
       "</thead>\n",
       "<tbody>\n",
       "\t<tr><th scope=row>1</th><td> 1</td><td>2560</td><td>33</td><td>Small</td></tr>\n",
       "\t<tr><th scope=row>2</th><td> 2</td><td>2345</td><td>33</td><td>Small</td></tr>\n",
       "\t<tr><th scope=row>3</th><td> 3</td><td>1845</td><td>37</td><td>Small</td></tr>\n",
       "\t<tr><th scope=row>57</th><td>57</td><td>3735</td><td>19</td><td>Van  </td></tr>\n",
       "\t<tr><th scope=row>58</th><td>58</td><td>3415</td><td>20</td><td>Van  </td></tr>\n",
       "\t<tr><th scope=row>59</th><td>59</td><td>3185</td><td>20</td><td>Van  </td></tr>\n",
       "\t<tr><th scope=row>60</th><td>60</td><td>3690</td><td>19</td><td>Van  </td></tr>\n",
       "</tbody>\n",
       "</table>\n"
      ],
      "text/latex": [
       "A data.frame: 7 × 4\n",
       "\\begin{tabular}{r|llll}\n",
       "  & X & weight & mpg & type\\\\\n",
       "  & <int> & <int> & <int> & <chr>\\\\\n",
       "\\hline\n",
       "\t1 &  1 & 2560 & 33 & Small\\\\\n",
       "\t2 &  2 & 2345 & 33 & Small\\\\\n",
       "\t3 &  3 & 1845 & 37 & Small\\\\\n",
       "\t57 & 57 & 3735 & 19 & Van  \\\\\n",
       "\t58 & 58 & 3415 & 20 & Van  \\\\\n",
       "\t59 & 59 & 3185 & 20 & Van  \\\\\n",
       "\t60 & 60 & 3690 & 19 & Van  \\\\\n",
       "\\end{tabular}\n"
      ],
      "text/markdown": [
       "\n",
       "A data.frame: 7 × 4\n",
       "\n",
       "| <!--/--> | X &lt;int&gt; | weight &lt;int&gt; | mpg &lt;int&gt; | type &lt;chr&gt; |\n",
       "|---|---|---|---|---|\n",
       "| 1 |  1 | 2560 | 33 | Small |\n",
       "| 2 |  2 | 2345 | 33 | Small |\n",
       "| 3 |  3 | 1845 | 37 | Small |\n",
       "| 57 | 57 | 3735 | 19 | Van   |\n",
       "| 58 | 58 | 3415 | 20 | Van   |\n",
       "| 59 | 59 | 3185 | 20 | Van   |\n",
       "| 60 | 60 | 3690 | 19 | Van   |\n",
       "\n"
      ],
      "text/plain": [
       "   X  weight mpg type \n",
       "1   1 2560   33  Small\n",
       "2   2 2345   33  Small\n",
       "3   3 1845   37  Small\n",
       "57 57 3735   19  Van  \n",
       "58 58 3415   20  Van  \n",
       "59 59 3185   20  Van  \n",
       "60 60 3690   19  Van  "
      ]
     },
     "metadata": {},
     "output_type": "display_data"
    }
   ],
   "source": [
    "d.fuel[c(1:3,57:60),]"
   ]
  },
  {
   "cell_type": "markdown",
   "metadata": {},
   "source": [
    "e) Berechnen Sie den Mittelwert der Reichweiten aller Autos in Miles/Gallon."
   ]
  },
  {
   "cell_type": "code",
   "execution_count": 85,
   "metadata": {},
   "outputs": [
    {
     "data": {
      "text/html": [
       "24.5833333333333"
      ],
      "text/latex": [
       "24.5833333333333"
      ],
      "text/markdown": [
       "24.5833333333333"
      ],
      "text/plain": [
       "[1] 24.58333"
      ]
     },
     "metadata": {},
     "output_type": "display_data"
    }
   ],
   "source": [
    "mean(d.fuel[,3])"
   ]
  },
  {
   "cell_type": "markdown",
   "metadata": {},
   "source": [
    "f) Berechnen Sie den Mittelwert der Reichweite der Autos 7 bis 22."
   ]
  },
  {
   "cell_type": "code",
   "execution_count": 86,
   "metadata": {},
   "outputs": [
    {
     "data": {
      "text/html": [
       "27.75"
      ],
      "text/latex": [
       "27.75"
      ],
      "text/markdown": [
       "27.75"
      ],
      "text/plain": [
       "[1] 27.75"
      ]
     },
     "metadata": {},
     "output_type": "display_data"
    }
   ],
   "source": [
    "mean(d.fuel[7:22,3])"
   ]
  },
  {
   "cell_type": "markdown",
   "metadata": {},
   "source": [
    "g) Erzeugen Sie einen neuen Vektor t.kml, der alle Reichweiten in km/l, und einen Vektor t.kg, der alle Gewichte in kg enthält."
   ]
  },
  {
   "cell_type": "code",
   "execution_count": 87,
   "metadata": {},
   "outputs": [
    {
     "data": {
      "text/html": [
       "<style>\n",
       ".list-inline {list-style: none; margin:0; padding: 0}\n",
       ".list-inline>li {display: inline-block}\n",
       ".list-inline>li:not(:last-child)::after {content: \"\\00b7\"; padding: 0 .5ex}\n",
       "</style>\n",
       "<ol class=list-inline><li>14.015702937373</li><li>14.015702937373</li><li>15.7145760206909</li><li>13.5909846665435</li><li>13.5909846665435</li><li>11.0426750415666</li><li>14.015702937373</li><li>11.8921115832256</li><li>10.6179567707371</li><li>14.4404212082025</li><li>12.3168298540551</li><li>14.865139479032</li><li>11.0426750415666</li><li>8.49436541658969</li><li>11.4673933123961</li><li>8.06964714576021</li><li>12.7415481248845</li><li>14.015702937373</li><li>11.4673933123961</li><li>10.1932384999076</li><li>11.0426750415666</li><li>11.8921115832256</li><li>11.4673933123961</li><li>9.76852022907815</li><li>11.0426750415666</li><li>10.6179567707371</li><li>10.1932384999076</li><li>11.0426750415666</li><li>10.1932384999076</li><li>10.6179567707371</li><li>8.91908368741918</li><li>8.91908368741918</li><li>9.76852022907815</li><li>10.1932384999076</li><li>9.76852022907815</li><li>11.4673933123961</li><li>9.76852022907815</li><li>8.49436541658969</li><li>8.91908368741918</li><li>9.34380195824866</li><li>9.34380195824866</li><li>9.34380195824866</li><li>9.34380195824866</li><li>9.76852022907815</li><li>9.76852022907815</li><li>8.91908368741918</li><li>9.34380195824866</li><li>8.91908368741918</li><li>8.91908368741918</li><li>9.76852022907815</li><li>9.76852022907815</li><li>7.64492887493072</li><li>8.49436541658969</li><li>7.64492887493072</li><li>7.64492887493072</li><li>7.64492887493072</li><li>8.06964714576021</li><li>8.49436541658969</li><li>8.49436541658969</li><li>8.06964714576021</li></ol>\n"
      ],
      "text/latex": [
       "\\begin{enumerate*}\n",
       "\\item 14.015702937373\n",
       "\\item 14.015702937373\n",
       "\\item 15.7145760206909\n",
       "\\item 13.5909846665435\n",
       "\\item 13.5909846665435\n",
       "\\item 11.0426750415666\n",
       "\\item 14.015702937373\n",
       "\\item 11.8921115832256\n",
       "\\item 10.6179567707371\n",
       "\\item 14.4404212082025\n",
       "\\item 12.3168298540551\n",
       "\\item 14.865139479032\n",
       "\\item 11.0426750415666\n",
       "\\item 8.49436541658969\n",
       "\\item 11.4673933123961\n",
       "\\item 8.06964714576021\n",
       "\\item 12.7415481248845\n",
       "\\item 14.015702937373\n",
       "\\item 11.4673933123961\n",
       "\\item 10.1932384999076\n",
       "\\item 11.0426750415666\n",
       "\\item 11.8921115832256\n",
       "\\item 11.4673933123961\n",
       "\\item 9.76852022907815\n",
       "\\item 11.0426750415666\n",
       "\\item 10.6179567707371\n",
       "\\item 10.1932384999076\n",
       "\\item 11.0426750415666\n",
       "\\item 10.1932384999076\n",
       "\\item 10.6179567707371\n",
       "\\item 8.91908368741918\n",
       "\\item 8.91908368741918\n",
       "\\item 9.76852022907815\n",
       "\\item 10.1932384999076\n",
       "\\item 9.76852022907815\n",
       "\\item 11.4673933123961\n",
       "\\item 9.76852022907815\n",
       "\\item 8.49436541658969\n",
       "\\item 8.91908368741918\n",
       "\\item 9.34380195824866\n",
       "\\item 9.34380195824866\n",
       "\\item 9.34380195824866\n",
       "\\item 9.34380195824866\n",
       "\\item 9.76852022907815\n",
       "\\item 9.76852022907815\n",
       "\\item 8.91908368741918\n",
       "\\item 9.34380195824866\n",
       "\\item 8.91908368741918\n",
       "\\item 8.91908368741918\n",
       "\\item 9.76852022907815\n",
       "\\item 9.76852022907815\n",
       "\\item 7.64492887493072\n",
       "\\item 8.49436541658969\n",
       "\\item 7.64492887493072\n",
       "\\item 7.64492887493072\n",
       "\\item 7.64492887493072\n",
       "\\item 8.06964714576021\n",
       "\\item 8.49436541658969\n",
       "\\item 8.49436541658969\n",
       "\\item 8.06964714576021\n",
       "\\end{enumerate*}\n"
      ],
      "text/markdown": [
       "1. 14.015702937373\n",
       "2. 14.015702937373\n",
       "3. 15.7145760206909\n",
       "4. 13.5909846665435\n",
       "5. 13.5909846665435\n",
       "6. 11.0426750415666\n",
       "7. 14.015702937373\n",
       "8. 11.8921115832256\n",
       "9. 10.6179567707371\n",
       "10. 14.4404212082025\n",
       "11. 12.3168298540551\n",
       "12. 14.865139479032\n",
       "13. 11.0426750415666\n",
       "14. 8.49436541658969\n",
       "15. 11.4673933123961\n",
       "16. 8.06964714576021\n",
       "17. 12.7415481248845\n",
       "18. 14.015702937373\n",
       "19. 11.4673933123961\n",
       "20. 10.1932384999076\n",
       "21. 11.0426750415666\n",
       "22. 11.8921115832256\n",
       "23. 11.4673933123961\n",
       "24. 9.76852022907815\n",
       "25. 11.0426750415666\n",
       "26. 10.6179567707371\n",
       "27. 10.1932384999076\n",
       "28. 11.0426750415666\n",
       "29. 10.1932384999076\n",
       "30. 10.6179567707371\n",
       "31. 8.91908368741918\n",
       "32. 8.91908368741918\n",
       "33. 9.76852022907815\n",
       "34. 10.1932384999076\n",
       "35. 9.76852022907815\n",
       "36. 11.4673933123961\n",
       "37. 9.76852022907815\n",
       "38. 8.49436541658969\n",
       "39. 8.91908368741918\n",
       "40. 9.34380195824866\n",
       "41. 9.34380195824866\n",
       "42. 9.34380195824866\n",
       "43. 9.34380195824866\n",
       "44. 9.76852022907815\n",
       "45. 9.76852022907815\n",
       "46. 8.91908368741918\n",
       "47. 9.34380195824866\n",
       "48. 8.91908368741918\n",
       "49. 8.91908368741918\n",
       "50. 9.76852022907815\n",
       "51. 9.76852022907815\n",
       "52. 7.64492887493072\n",
       "53. 8.49436541658969\n",
       "54. 7.64492887493072\n",
       "55. 7.64492887493072\n",
       "56. 7.64492887493072\n",
       "57. 8.06964714576021\n",
       "58. 8.49436541658969\n",
       "59. 8.49436541658969\n",
       "60. 8.06964714576021\n",
       "\n",
       "\n"
      ],
      "text/plain": [
       " [1] 14.015703 14.015703 15.714576 13.590985 13.590985 11.042675 14.015703\n",
       " [8] 11.892112 10.617957 14.440421 12.316830 14.865139 11.042675  8.494365\n",
       "[15] 11.467393  8.069647 12.741548 14.015703 11.467393 10.193238 11.042675\n",
       "[22] 11.892112 11.467393  9.768520 11.042675 10.617957 10.193238 11.042675\n",
       "[29] 10.193238 10.617957  8.919084  8.919084  9.768520 10.193238  9.768520\n",
       "[36] 11.467393  9.768520  8.494365  8.919084  9.343802  9.343802  9.343802\n",
       "[43]  9.343802  9.768520  9.768520  8.919084  9.343802  8.919084  8.919084\n",
       "[50]  9.768520  9.768520  7.644929  8.494365  7.644929  7.644929  7.644929\n",
       "[57]  8.069647  8.494365  8.494365  8.069647"
      ]
     },
     "metadata": {},
     "output_type": "display_data"
    },
    {
     "data": {
      "text/html": [
       "<style>\n",
       ".list-inline {list-style: none; margin:0; padding: 0}\n",
       ".list-inline>li {display: inline-block}\n",
       ".list-inline>li:not(:last-child)::after {content: \"\\00b7\"; padding: 0 .5ex}\n",
       "</style>\n",
       "<ol class=list-inline><li>1161.1904</li><li>1063.66855</li><li>836.87355</li><li>1025.1134</li><li>1106.7596</li><li>1036.45315</li><li>1031.91725</li><li>1065.9365</li><li>1040.98905</li><li>861.821</li><li>1084.0801</li><li>941.19925</li><li>1056.8647</li><li>1505.9188</li><li>1308.60715</li><li>1501.3829</li><li>1222.42505</li><li>984.2903</li><li>1229.2289</li><li>1258.71225</li><li>1288.1956</li><li>1127.17115</li><li>1211.0853</li><li>1197.4776</li><li>1204.28145</li><li>1390.25335</li><li>1247.3725</li><li>1324.4828</li><li>1260.9802</li><li>1245.10455</li><li>1410.6649</li><li>1324.4828</li><li>1199.74555</li><li>1167.99425</li><li>1331.28665</li><li>1324.4828</li><li>1353.96615</li><li>1480.97135</li><li>1306.3392</li><li>1349.43025</li><li>1564.8855</li><li>1426.54055</li><li>1446.9521</li><li>1637.4599</li><li>1308.60715</li><li>1578.4932</li><li>1451.488</li><li>1254.17635</li><li>1460.5598</li><li>1578.4932</li><li>1508.18675</li><li>1748.58945</li><li>1746.3215</li><li>1449.22005</li><li>1694.15865</li><li>1662.40735</li><li>1694.15865</li><li>1549.00985</li><li>1444.68415</li><li>1673.7471</li></ol>\n"
      ],
      "text/latex": [
       "\\begin{enumerate*}\n",
       "\\item 1161.1904\n",
       "\\item 1063.66855\n",
       "\\item 836.87355\n",
       "\\item 1025.1134\n",
       "\\item 1106.7596\n",
       "\\item 1036.45315\n",
       "\\item 1031.91725\n",
       "\\item 1065.9365\n",
       "\\item 1040.98905\n",
       "\\item 861.821\n",
       "\\item 1084.0801\n",
       "\\item 941.19925\n",
       "\\item 1056.8647\n",
       "\\item 1505.9188\n",
       "\\item 1308.60715\n",
       "\\item 1501.3829\n",
       "\\item 1222.42505\n",
       "\\item 984.2903\n",
       "\\item 1229.2289\n",
       "\\item 1258.71225\n",
       "\\item 1288.1956\n",
       "\\item 1127.17115\n",
       "\\item 1211.0853\n",
       "\\item 1197.4776\n",
       "\\item 1204.28145\n",
       "\\item 1390.25335\n",
       "\\item 1247.3725\n",
       "\\item 1324.4828\n",
       "\\item 1260.9802\n",
       "\\item 1245.10455\n",
       "\\item 1410.6649\n",
       "\\item 1324.4828\n",
       "\\item 1199.74555\n",
       "\\item 1167.99425\n",
       "\\item 1331.28665\n",
       "\\item 1324.4828\n",
       "\\item 1353.96615\n",
       "\\item 1480.97135\n",
       "\\item 1306.3392\n",
       "\\item 1349.43025\n",
       "\\item 1564.8855\n",
       "\\item 1426.54055\n",
       "\\item 1446.9521\n",
       "\\item 1637.4599\n",
       "\\item 1308.60715\n",
       "\\item 1578.4932\n",
       "\\item 1451.488\n",
       "\\item 1254.17635\n",
       "\\item 1460.5598\n",
       "\\item 1578.4932\n",
       "\\item 1508.18675\n",
       "\\item 1748.58945\n",
       "\\item 1746.3215\n",
       "\\item 1449.22005\n",
       "\\item 1694.15865\n",
       "\\item 1662.40735\n",
       "\\item 1694.15865\n",
       "\\item 1549.00985\n",
       "\\item 1444.68415\n",
       "\\item 1673.7471\n",
       "\\end{enumerate*}\n"
      ],
      "text/markdown": [
       "1. 1161.1904\n",
       "2. 1063.66855\n",
       "3. 836.87355\n",
       "4. 1025.1134\n",
       "5. 1106.7596\n",
       "6. 1036.45315\n",
       "7. 1031.91725\n",
       "8. 1065.9365\n",
       "9. 1040.98905\n",
       "10. 861.821\n",
       "11. 1084.0801\n",
       "12. 941.19925\n",
       "13. 1056.8647\n",
       "14. 1505.9188\n",
       "15. 1308.60715\n",
       "16. 1501.3829\n",
       "17. 1222.42505\n",
       "18. 984.2903\n",
       "19. 1229.2289\n",
       "20. 1258.71225\n",
       "21. 1288.1956\n",
       "22. 1127.17115\n",
       "23. 1211.0853\n",
       "24. 1197.4776\n",
       "25. 1204.28145\n",
       "26. 1390.25335\n",
       "27. 1247.3725\n",
       "28. 1324.4828\n",
       "29. 1260.9802\n",
       "30. 1245.10455\n",
       "31. 1410.6649\n",
       "32. 1324.4828\n",
       "33. 1199.74555\n",
       "34. 1167.99425\n",
       "35. 1331.28665\n",
       "36. 1324.4828\n",
       "37. 1353.96615\n",
       "38. 1480.97135\n",
       "39. 1306.3392\n",
       "40. 1349.43025\n",
       "41. 1564.8855\n",
       "42. 1426.54055\n",
       "43. 1446.9521\n",
       "44. 1637.4599\n",
       "45. 1308.60715\n",
       "46. 1578.4932\n",
       "47. 1451.488\n",
       "48. 1254.17635\n",
       "49. 1460.5598\n",
       "50. 1578.4932\n",
       "51. 1508.18675\n",
       "52. 1748.58945\n",
       "53. 1746.3215\n",
       "54. 1449.22005\n",
       "55. 1694.15865\n",
       "56. 1662.40735\n",
       "57. 1694.15865\n",
       "58. 1549.00985\n",
       "59. 1444.68415\n",
       "60. 1673.7471\n",
       "\n",
       "\n"
      ],
      "text/plain": [
       " [1] 1161.1904 1063.6686  836.8736 1025.1134 1106.7596 1036.4532 1031.9172\n",
       " [8] 1065.9365 1040.9890  861.8210 1084.0801  941.1993 1056.8647 1505.9188\n",
       "[15] 1308.6072 1501.3829 1222.4251  984.2903 1229.2289 1258.7123 1288.1956\n",
       "[22] 1127.1711 1211.0853 1197.4776 1204.2814 1390.2533 1247.3725 1324.4828\n",
       "[29] 1260.9802 1245.1046 1410.6649 1324.4828 1199.7456 1167.9942 1331.2867\n",
       "[36] 1324.4828 1353.9661 1480.9714 1306.3392 1349.4302 1564.8855 1426.5405\n",
       "[43] 1446.9521 1637.4599 1308.6072 1578.4932 1451.4880 1254.1763 1460.5598\n",
       "[50] 1578.4932 1508.1868 1748.5894 1746.3215 1449.2200 1694.1587 1662.4073\n",
       "[57] 1694.1587 1549.0098 1444.6842 1673.7471"
      ]
     },
     "metadata": {},
     "output_type": "display_data"
    }
   ],
   "source": [
    "t.kml <- 1.6093 * d.fuel[,3] / 3.7891\n",
    "t.kml\n",
    "t.kg <- 0.45359 * d.fuel[,2]\n",
    "t.kg"
   ]
  },
  {
   "cell_type": "markdown",
   "metadata": {},
   "source": [
    "h) Berechnen Sie den Mittelwert der Reichweiten in km/l und denjenigen der Fahrzeuggewichte in kg."
   ]
  },
  {
   "cell_type": "code",
   "execution_count": 88,
   "metadata": {},
   "outputs": [
    {
     "data": {
      "text/html": [
       "10.4409908245582"
      ],
      "text/latex": [
       "10.4409908245582"
      ],
      "text/markdown": [
       "10.4409908245582"
      ],
      "text/plain": [
       "[1] 10.44099"
      ]
     },
     "metadata": {},
     "output_type": "display_data"
    },
    {
     "data": {
      "text/html": [
       "1315.78899166667"
      ],
      "text/latex": [
       "1315.78899166667"
      ],
      "text/markdown": [
       "1315.78899166667"
      ],
      "text/plain": [
       "[1] 1315.789"
      ]
     },
     "metadata": {},
     "output_type": "display_data"
    }
   ],
   "source": [
    "mean(t.kml)\n",
    "mean(t.kg)"
   ]
  }
 ],
 "metadata": {
  "kernelspec": {
   "display_name": "R",
   "language": "R",
   "name": "ir"
  },
  "language_info": {
   "codemirror_mode": "r",
   "file_extension": ".r",
   "mimetype": "text/x-r-source",
   "name": "R",
   "pygments_lexer": "r",
   "version": "4.0.2"
  }
 },
 "nbformat": 4,
 "nbformat_minor": 4
}
